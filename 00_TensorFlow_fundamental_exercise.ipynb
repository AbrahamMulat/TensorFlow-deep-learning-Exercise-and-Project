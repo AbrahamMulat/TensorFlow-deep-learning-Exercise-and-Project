{
  "nbformat": 4,
  "nbformat_minor": 0,
  "metadata": {
    "colab": {
      "provenance": [],
      "collapsed_sections": [],
      "authorship_tag": "ABX9TyMCwADIBb7Dz15LpJzkDsJp",
      "include_colab_link": true
    },
    "kernelspec": {
      "name": "python3",
      "display_name": "Python 3"
    },
    "language_info": {
      "name": "python"
    },
    "accelerator": "GPU"
  },
  "cells": [
    {
      "cell_type": "markdown",
      "metadata": {
        "id": "view-in-github",
        "colab_type": "text"
      },
      "source": [
        "<a href=\"https://colab.research.google.com/github/AbrahamMulat/TensorFlow-deep-learning-Exercise-and-Project/blob/main/00_TensorFlow_fundamental_exercise.ipynb\" target=\"_parent\"><img src=\"https://colab.research.google.com/assets/colab-badge.svg\" alt=\"Open In Colab\"/></a>"
      ]
    },
    {
      "cell_type": "markdown",
      "source": [
        "# Exercises\n",
        "\n",
        "1. Create a **vector**, **scalar**,**matrix** and **tensor** with values of your choosing using `tf.constant()`.\n",
        "2. Find the **shape**, **rank** and **size** of the tensors you created in 1.\n",
        "3. Create two tensors containing random values between 0 and 1 with shape `[5, 300]`.\n",
        "4. Multiply the two tensors you created in 3 using matrix multiplication.\n",
        "5. Multiply the two tensors you created in 3 using dot product.\n",
        "6. Create a tensor with random values between 0 and 1 with shape `[224, 224, 3]`.\n",
        "7. Find the min and max values of the tensor you created in 6.\n",
        "8. Create a tensor with random values of shape `[1, 224, 224, 3]` then squeeze it to change the shape to `[224, 224, 3]`.\n",
        "9. Create a tensor with shape `[10]` using your own choice of values, then find the index which has the maximum value.\n",
        "10. One-hot encode the tensor you created in 9."
      ],
      "metadata": {
        "id": "Ro4ieGjnwg0c"
      }
    },
    {
      "cell_type": "markdown",
      "source": [
        "# Solution\n",
        "\n",
        "## 1. Create a **vector**, **scalar**, **matrix** and **tensor** with values of your choose using `tf.constants`."
      ],
      "metadata": {
        "id": "jNCI8knmxdWt"
      }
    },
    {
      "cell_type": "code",
      "source": [
        "import tensorflow as tf\n",
        "\n",
        "print(tf.__version__)"
      ],
      "metadata": {
        "colab": {
          "base_uri": "https://localhost:8080/"
        },
        "id": "mjg2bs6OyiWM",
        "outputId": "ab21f18b-fee5-473d-d6c6-3d0f29d790ce"
      },
      "execution_count": 1,
      "outputs": [
        {
          "output_type": "stream",
          "name": "stdout",
          "text": [
            "2.8.2\n"
          ]
        }
      ]
    },
    {
      "cell_type": "code",
      "execution_count": 2,
      "metadata": {
        "colab": {
          "base_uri": "https://localhost:8080/"
        },
        "id": "Zthk6fb-v6iM",
        "outputId": "e0b2ba90-ea9d-4c39-f50e-0cc2cd5e717a"
      },
      "outputs": [
        {
          "output_type": "stream",
          "name": "stdout",
          "text": [
            "tf.Tensor(8, shape=(), dtype=int32)\n"
          ]
        }
      ],
      "source": [
        "# Create a scalar: a scalar is just a number with no dimension (rank 0 tensor)\n",
        "tensor1 = tf.constant(8)\n",
        "print(tensor1)"
      ]
    },
    {
      "cell_type": "code",
      "source": [
        "# Create a vector: a vector is a number with dimensions (1 dimensional tensor or rank 1 tensor)\n",
        "tensor2 = tf.constant([12, 6])\n",
        "print(tensor2)"
      ],
      "metadata": {
        "colab": {
          "base_uri": "https://localhost:8080/"
        },
        "id": "eOXmxEClzVlW",
        "outputId": "5d85b3c8-538d-440d-ce85-e6467d4c087f"
      },
      "execution_count": 3,
      "outputs": [
        {
          "output_type": "stream",
          "name": "stdout",
          "text": [
            "tf.Tensor([12  6], shape=(2,), dtype=int32)\n"
          ]
        }
      ]
    },
    {
      "cell_type": "code",
      "source": [
        "# Create a matrix: a matrix is a 2 dimensional array of numbers (rank 2 tensor).\n",
        "tensor3 =  tf.constant([[1, 2],\n",
        "                 [3, 4],\n",
        "                 [6, 8]])\n",
        "print(tensor3)"
      ],
      "metadata": {
        "colab": {
          "base_uri": "https://localhost:8080/"
        },
        "id": "tZMQjt9T0Fka",
        "outputId": "4cd30ef9-5cfb-44f1-8da8-36887f4742fa"
      },
      "execution_count": 4,
      "outputs": [
        {
          "output_type": "stream",
          "name": "stdout",
          "text": [
            "tf.Tensor(\n",
            "[[1 2]\n",
            " [3 4]\n",
            " [6 8]], shape=(3, 2), dtype=int32)\n"
          ]
        }
      ]
    },
    {
      "cell_type": "code",
      "source": [
        "# Create a tensor: a tensor is an n-dimensional array of numbers (where n can be any number) \n",
        "tensor4 = tf.constant([[[2, 3, 5],\n",
        "                  [1, 7, 8]],\n",
        "                 [[3, 12, 80],\n",
        "                  [11, 12, 13]]])\n",
        "print(tensor4)"
      ],
      "metadata": {
        "colab": {
          "base_uri": "https://localhost:8080/"
        },
        "id": "2y5d8RUu0wD1",
        "outputId": "95386692-30b2-4efa-e4f8-544c868e7630"
      },
      "execution_count": 5,
      "outputs": [
        {
          "output_type": "stream",
          "name": "stdout",
          "text": [
            "tf.Tensor(\n",
            "[[[ 2  3  5]\n",
            "  [ 1  7  8]]\n",
            "\n",
            " [[ 3 12 80]\n",
            "  [11 12 13]]], shape=(2, 2, 3), dtype=int32)\n"
          ]
        }
      ]
    },
    {
      "cell_type": "markdown",
      "source": [
        "## 2. Find the **shape**, **rank** and **size** of the tensors you created in 1."
      ],
      "metadata": {
        "id": "MWyOwHuq3XGH"
      }
    },
    {
      "cell_type": "code",
      "source": [
        "# 1 find the shape, rank and size of a scalar (tensor1)\n",
        "print(f\"The shape of tensor1 (scalar) is :{tensor1.shape}\")\n",
        "print(f\"The rank of tensor1 is: {tensor1.ndim}\")\n",
        "print(f\"The size of tensor1 is: {tf.size(tensor1)}\")"
      ],
      "metadata": {
        "colab": {
          "base_uri": "https://localhost:8080/"
        },
        "id": "u0Qc6Hhp3OuH",
        "outputId": "706c6ba5-fc4c-45a9-d924-23c5f50da135"
      },
      "execution_count": 6,
      "outputs": [
        {
          "output_type": "stream",
          "name": "stdout",
          "text": [
            "The shape of tensor1 (scalar) is :()\n",
            "The rank of tensor1 is: 0\n",
            "The size of tensor1 is: 1\n"
          ]
        }
      ]
    },
    {
      "cell_type": "code",
      "source": [
        "# 2. Find the shape, rank and size of tensor2 (tensor2 is a vector)\n",
        "print(f\"The shape of tensor2 (vector) is :{tensor2.shape}\")\n",
        "print(f\"The rank of tensor2 is: {tensor2.ndim}\")\n",
        "print(f\"The size of tensor2 is: {tf.size(tensor2)}\")"
      ],
      "metadata": {
        "colab": {
          "base_uri": "https://localhost:8080/"
        },
        "id": "U9B7FwTA5Xgn",
        "outputId": "a3acda2b-4639-4429-9958-2f9a15437250"
      },
      "execution_count": 7,
      "outputs": [
        {
          "output_type": "stream",
          "name": "stdout",
          "text": [
            "The shape of tensor2 (vector) is :(2,)\n",
            "The rank of tensor2 is: 1\n",
            "The size of tensor2 is: 2\n"
          ]
        }
      ]
    },
    {
      "cell_type": "code",
      "source": [
        "# 3. Find the shape, rank and size of tensor3 (tensor3 is a matrix)\n",
        "print(f\"The shape of tensor3 (vector) is :{tensor3.shape}\")\n",
        "print(f\"The rank of tensor3 is: {tensor3.ndim}\")\n",
        "print(f\"The size of tensor3 is: {tf.size(tensor3)}\")"
      ],
      "metadata": {
        "colab": {
          "base_uri": "https://localhost:8080/"
        },
        "id": "qxeCiVqy58Do",
        "outputId": "4ed6ab72-b399-4d10-c31b-608f4c38c026"
      },
      "execution_count": 8,
      "outputs": [
        {
          "output_type": "stream",
          "name": "stdout",
          "text": [
            "The shape of tensor3 (vector) is :(3, 2)\n",
            "The rank of tensor3 is: 2\n",
            "The size of tensor3 is: 6\n"
          ]
        }
      ]
    },
    {
      "cell_type": "code",
      "source": [
        "# 3. Find the shape, rank and size of tensor4 (tensor4 is a tensor)\n",
        "print(f\"The shape of tensor4 is :{tensor4.shape}\")\n",
        "print(f\"The rank of tensor4 is: {tensor4.ndim}\")\n",
        "print(f\"The size of tensor4 is: {tf.size(tensor4)}\")"
      ],
      "metadata": {
        "colab": {
          "base_uri": "https://localhost:8080/"
        },
        "id": "v7tXH5cM82uI",
        "outputId": "3faa06a4-b57f-4df0-8171-507af11a2110"
      },
      "execution_count": 10,
      "outputs": [
        {
          "output_type": "stream",
          "name": "stdout",
          "text": [
            "The shape of tensor4 is :(2, 2, 3)\n",
            "The rank of tensor4 is: 3\n",
            "The size of tensor4 is: 12\n"
          ]
        }
      ]
    },
    {
      "cell_type": "markdown",
      "source": [
        "## 3. Create two tensors containing random values between 0 and 1 with shape `[5, 300]`."
      ],
      "metadata": {
        "id": "mkFhkHcO6UC5"
      }
    },
    {
      "cell_type": "code",
      "source": [
        "tensor_5 = tf.random.uniform(shape=(5, 300))\n",
        "tensor_6 = tf.random.uniform(shape=(5, 300))\n",
        "\n",
        "print(f\"{tensor_5} \\n The shape of tensor_5 is: {tensor_5.shape}\\n\")\n",
        "print(f\"{tensor_6} \\n The shape of tensor_6 is: {tensor_6.shape}\")"
      ],
      "metadata": {
        "colab": {
          "base_uri": "https://localhost:8080/"
        },
        "id": "HdI4i-Gy6JfP",
        "outputId": "c2b10d4e-8cec-4268-8b7e-2ce458ba3001"
      },
      "execution_count": 13,
      "outputs": [
        {
          "output_type": "stream",
          "name": "stdout",
          "text": [
            "[[0.770378   0.0119611  0.3197328  ... 0.2718172  0.19470847 0.604447  ]\n",
            " [0.22896862 0.17694116 0.9605558  ... 0.5905459  0.9574919  0.26937437]\n",
            " [0.6234163  0.5751046  0.41903925 ... 0.28773177 0.6582234  0.99332666]\n",
            " [0.11255097 0.5774727  0.31840205 ... 0.47999418 0.54973114 0.50827336]\n",
            " [0.92333114 0.38095903 0.7601987  ... 0.99880993 0.08303642 0.1241529 ]] \n",
            " The shape of tensor_5 is: (5, 300)\n",
            "\n",
            "[[0.37391198 0.42946243 0.1957022  ... 0.00119197 0.02767551 0.9653696 ]\n",
            " [0.60799086 0.61131954 0.71627724 ... 0.65106153 0.64819837 0.2062583 ]\n",
            " [0.11828542 0.76687765 0.18194902 ... 0.8711387  0.2939273  0.24595165]\n",
            " [0.7701591  0.60878134 0.23884976 ... 0.6033416  0.45594144 0.28359854]\n",
            " [0.04891169 0.6505923  0.61283064 ... 0.05361021 0.07390046 0.06227589]] \n",
            " The shape of tensor_6 is: (5, 300)\n"
          ]
        }
      ]
    },
    {
      "cell_type": "markdown",
      "source": [
        "## 4. Multiply the two tensors you created in 3 using **matrix multiplication**."
      ],
      "metadata": {
        "id": "JyR8AG6h-I0g"
      }
    },
    {
      "cell_type": "code",
      "source": [
        "# Multiply the two tensors in 3: This won't work (shape mismatch)\n",
        "tf.matmul(tensor_5, tensor_6)"
      ],
      "metadata": {
        "colab": {
          "base_uri": "https://localhost:8080/",
          "height": 396
        },
        "id": "R_I_ZTuz8slC",
        "outputId": "35437f55-e7dd-4b26-e4a3-6328a6531a75"
      },
      "execution_count": 14,
      "outputs": [
        {
          "output_type": "error",
          "ename": "InvalidArgumentError",
          "evalue": "ignored",
          "traceback": [
            "\u001b[0;31m---------------------------------------------------------------------------\u001b[0m",
            "\u001b[0;31mInvalidArgumentError\u001b[0m                      Traceback (most recent call last)",
            "\u001b[0;32m<ipython-input-14-29db9be39cb5>\u001b[0m in \u001b[0;36m<module>\u001b[0;34m\u001b[0m\n\u001b[1;32m      1\u001b[0m \u001b[0m_\u001b[0m\u001b[0;31m# Multiply the two tensors in 3: This won't work\u001b[0m\u001b[0;34m\u001b[0m\u001b[0;34m\u001b[0m\u001b[0m\n\u001b[0;32m----> 2\u001b[0;31m \u001b[0mtf\u001b[0m\u001b[0;34m.\u001b[0m\u001b[0mmatmul\u001b[0m\u001b[0;34m(\u001b[0m\u001b[0mtensor_5\u001b[0m\u001b[0;34m,\u001b[0m \u001b[0mtensor_6\u001b[0m\u001b[0;34m)\u001b[0m\u001b[0;34m\u001b[0m\u001b[0;34m\u001b[0m\u001b[0m\n\u001b[0m",
            "\u001b[0;32m/usr/local/lib/python3.7/dist-packages/tensorflow/python/util/traceback_utils.py\u001b[0m in \u001b[0;36merror_handler\u001b[0;34m(*args, **kwargs)\u001b[0m\n\u001b[1;32m    151\u001b[0m     \u001b[0;32mexcept\u001b[0m \u001b[0mException\u001b[0m \u001b[0;32mas\u001b[0m \u001b[0me\u001b[0m\u001b[0;34m:\u001b[0m\u001b[0;34m\u001b[0m\u001b[0;34m\u001b[0m\u001b[0m\n\u001b[1;32m    152\u001b[0m       \u001b[0mfiltered_tb\u001b[0m \u001b[0;34m=\u001b[0m \u001b[0m_process_traceback_frames\u001b[0m\u001b[0;34m(\u001b[0m\u001b[0me\u001b[0m\u001b[0;34m.\u001b[0m\u001b[0m__traceback__\u001b[0m\u001b[0;34m)\u001b[0m\u001b[0;34m\u001b[0m\u001b[0;34m\u001b[0m\u001b[0m\n\u001b[0;32m--> 153\u001b[0;31m       \u001b[0;32mraise\u001b[0m \u001b[0me\u001b[0m\u001b[0;34m.\u001b[0m\u001b[0mwith_traceback\u001b[0m\u001b[0;34m(\u001b[0m\u001b[0mfiltered_tb\u001b[0m\u001b[0;34m)\u001b[0m \u001b[0;32mfrom\u001b[0m \u001b[0;32mNone\u001b[0m\u001b[0;34m\u001b[0m\u001b[0;34m\u001b[0m\u001b[0m\n\u001b[0m\u001b[1;32m    154\u001b[0m     \u001b[0;32mfinally\u001b[0m\u001b[0;34m:\u001b[0m\u001b[0;34m\u001b[0m\u001b[0;34m\u001b[0m\u001b[0m\n\u001b[1;32m    155\u001b[0m       \u001b[0;32mdel\u001b[0m \u001b[0mfiltered_tb\u001b[0m\u001b[0;34m\u001b[0m\u001b[0;34m\u001b[0m\u001b[0m\n",
            "\u001b[0;32m/usr/local/lib/python3.7/dist-packages/tensorflow/python/framework/ops.py\u001b[0m in \u001b[0;36mraise_from_not_ok_status\u001b[0;34m(e, name)\u001b[0m\n\u001b[1;32m   7184\u001b[0m \u001b[0;32mdef\u001b[0m \u001b[0mraise_from_not_ok_status\u001b[0m\u001b[0;34m(\u001b[0m\u001b[0me\u001b[0m\u001b[0;34m,\u001b[0m \u001b[0mname\u001b[0m\u001b[0;34m)\u001b[0m\u001b[0;34m:\u001b[0m\u001b[0;34m\u001b[0m\u001b[0;34m\u001b[0m\u001b[0m\n\u001b[1;32m   7185\u001b[0m   \u001b[0me\u001b[0m\u001b[0;34m.\u001b[0m\u001b[0mmessage\u001b[0m \u001b[0;34m+=\u001b[0m \u001b[0;34m(\u001b[0m\u001b[0;34m\" name: \"\u001b[0m \u001b[0;34m+\u001b[0m \u001b[0mname\u001b[0m \u001b[0;32mif\u001b[0m \u001b[0mname\u001b[0m \u001b[0;32mis\u001b[0m \u001b[0;32mnot\u001b[0m \u001b[0;32mNone\u001b[0m \u001b[0;32melse\u001b[0m \u001b[0;34m\"\"\u001b[0m\u001b[0;34m)\u001b[0m\u001b[0;34m\u001b[0m\u001b[0;34m\u001b[0m\u001b[0m\n\u001b[0;32m-> 7186\u001b[0;31m   \u001b[0;32mraise\u001b[0m \u001b[0mcore\u001b[0m\u001b[0;34m.\u001b[0m\u001b[0m_status_to_exception\u001b[0m\u001b[0;34m(\u001b[0m\u001b[0me\u001b[0m\u001b[0;34m)\u001b[0m \u001b[0;32mfrom\u001b[0m \u001b[0;32mNone\u001b[0m  \u001b[0;31m# pylint: disable=protected-access\u001b[0m\u001b[0;34m\u001b[0m\u001b[0;34m\u001b[0m\u001b[0m\n\u001b[0m\u001b[1;32m   7187\u001b[0m \u001b[0;34m\u001b[0m\u001b[0m\n\u001b[1;32m   7188\u001b[0m \u001b[0;34m\u001b[0m\u001b[0m\n",
            "\u001b[0;31mInvalidArgumentError\u001b[0m: Matrix size-incompatible: In[0]: [5,300], In[1]: [5,300] [Op:MatMul]"
          ]
        }
      ]
    },
    {
      "cell_type": "code",
      "source": [
        "# In order to mutlipy two matrix, the number of columns of the first matrix must be equal with the number of rows of the second matrix.\n",
        "# to do that, we can transpose either tensor by using tf.ranspose or reshape one of the tensors.\n",
        "result_1 = tf.matmul(tf.transpose(tensor_5), tensor_6)\n",
        "result_2 = tf.matmul(tensor_5, tf.transpose(tensor_6))\n",
        "print(f\"The product of the two tensors after transposing tensor_5 is: \\n {result_1}\\n\")\n",
        "print(f\"The shape of result_1 is: {result_1.shape}\\n\")\n",
        "print(f\"The product of the two tensors after transposing tensor_6 is: \\n {result_2}\\n\")\n",
        "print(f\"The shape of result_2 is: {result_2.shape}\")"
      ],
      "metadata": {
        "colab": {
          "base_uri": "https://localhost:8080/"
        },
        "id": "N3I6gv9L-sWx",
        "outputId": "1086c3a6-f85c-49e9-9f88-0a11db11b5b9"
      },
      "execution_count": 21,
      "outputs": [
        {
          "output_type": "stream",
          "name": "stdout",
          "text": [
            "The product of the two tensors after transposing tensor_5 is: \n",
            " [[0.6328493  1.6181365  1.020928   ... 0.81047964 0.472528   1.033677  ]\n",
            " [0.6434567  1.1537429  0.605112   ... 0.98504627 0.5755097  0.37698537]\n",
            " [1.0355301  1.7342883  1.3687637  ... 1.223663   0.9559983  0.7474867 ]\n",
            " ...\n",
            " [0.91324204 1.6404321  1.2552902  ... 0.9786068  0.76754755 0.6533046 ]\n",
            " [1.1602503  1.5624192  1.025888   ... 1.5331494  1.0762848  0.70842147]\n",
            " [0.9048071  1.5762213  0.6894588  ... 1.3547434  0.72422004 1.0352631 ]]\n",
            "\n",
            "The shape of result_1 is: (300, 300)\n",
            "\n",
            "The product of the two tensors after transposing tensor_6 is: \n",
            " [[82.235565 79.302444 78.51733  80.99044  76.96838 ]\n",
            " [77.91546  75.856    76.8821   79.94522  72.53163 ]\n",
            " [77.04551  76.38078  75.04396  77.17406  70.80564 ]\n",
            " [78.295006 79.48138  79.46156  79.445206 77.027534]\n",
            " [78.66778  77.031586 81.40069  82.23641  74.461174]]\n",
            "\n",
            "The shape of result_2 is: (5, 5)\n"
          ]
        }
      ]
    },
    {
      "cell_type": "markdown",
      "source": [
        "## 5. Multiply the two tensors you creates in 3 using **dot product**\n",
        "\n"
      ],
      "metadata": {
        "id": "mjY4W1QiDiYY"
      }
    },
    {
      "cell_type": "code",
      "source": [
        "# matrix multiplication using dot product\n",
        "tf.tensordot(tensor_5, tf.transpose(tensor_6), axes=1)"
      ],
      "metadata": {
        "colab": {
          "base_uri": "https://localhost:8080/"
        },
        "id": "JKUKhBff_faI",
        "outputId": "d099e686-307b-4941-d712-25c958b5179d"
      },
      "execution_count": 23,
      "outputs": [
        {
          "output_type": "execute_result",
          "data": {
            "text/plain": [
              "<tf.Tensor: shape=(5, 5), dtype=float32, numpy=\n",
              "array([[82.235565, 79.302444, 78.51733 , 80.99044 , 76.96838 ],\n",
              "       [77.91546 , 75.856   , 76.8821  , 79.94522 , 72.53163 ],\n",
              "       [77.04551 , 76.38078 , 75.04396 , 77.17406 , 70.80564 ],\n",
              "       [78.295006, 79.48138 , 79.46156 , 79.445206, 77.027534],\n",
              "       [78.66778 , 77.031586, 81.40069 , 82.23641 , 74.461174]],\n",
              "      dtype=float32)>"
            ]
          },
          "metadata": {},
          "execution_count": 23
        }
      ]
    },
    {
      "cell_type": "markdown",
      "source": [
        "## 6. Create a tensor with random values between 0 and 1 with shape `[224, 224, 3]`."
      ],
      "metadata": {
        "id": "5YZXir2IEBXD"
      }
    },
    {
      "cell_type": "code",
      "source": [
        "tensor_7 = tf.random.uniform(shape=[224, 224, 3])\n",
        "tensor_7"
      ],
      "metadata": {
        "colab": {
          "base_uri": "https://localhost:8080/"
        },
        "id": "N6pxrpDCD7or",
        "outputId": "ca26a352-bb56-4976-ccb8-ea10f2b436e3"
      },
      "execution_count": 24,
      "outputs": [
        {
          "output_type": "execute_result",
          "data": {
            "text/plain": [
              "<tf.Tensor: shape=(224, 224, 3), dtype=float32, numpy=\n",
              "array([[[0.41290987, 0.80813265, 0.6509409 ],\n",
              "        [0.7815919 , 0.8612586 , 0.5880122 ],\n",
              "        [0.8697505 , 0.33171666, 0.9658748 ],\n",
              "        ...,\n",
              "        [0.44347715, 0.98053837, 0.36819136],\n",
              "        [0.18709111, 0.848019  , 0.8458408 ],\n",
              "        [0.00991881, 0.9697925 , 0.1005199 ]],\n",
              "\n",
              "       [[0.02803195, 0.6266966 , 0.07868004],\n",
              "        [0.00443375, 0.3272121 , 0.8595127 ],\n",
              "        [0.4873767 , 0.26367676, 0.71990526],\n",
              "        ...,\n",
              "        [0.43814003, 0.23882282, 0.60826576],\n",
              "        [0.2980957 , 0.16906619, 0.33049357],\n",
              "        [0.33711517, 0.5569085 , 0.39855206]],\n",
              "\n",
              "       [[0.90561306, 0.7819499 , 0.05615127],\n",
              "        [0.8093798 , 0.87831223, 0.35902107],\n",
              "        [0.90479267, 0.63742363, 0.39805305],\n",
              "        ...,\n",
              "        [0.32724702, 0.2996117 , 0.7814727 ],\n",
              "        [0.39414513, 0.94698226, 0.19410133],\n",
              "        [0.9191656 , 0.14255309, 0.20843852]],\n",
              "\n",
              "       ...,\n",
              "\n",
              "       [[0.96003056, 0.14111364, 0.25107872],\n",
              "        [0.8796464 , 0.07805467, 0.9043125 ],\n",
              "        [0.64492357, 0.38272274, 0.39474726],\n",
              "        ...,\n",
              "        [0.04126155, 0.69648695, 0.44743037],\n",
              "        [0.3163705 , 0.717152  , 0.6151012 ],\n",
              "        [0.34013963, 0.4158324 , 0.08407521]],\n",
              "\n",
              "       [[0.18086827, 0.35004508, 0.52012384],\n",
              "        [0.75045   , 0.4674014 , 0.22860932],\n",
              "        [0.12627566, 0.965011  , 0.66496825],\n",
              "        ...,\n",
              "        [0.18710494, 0.08163345, 0.6440674 ],\n",
              "        [0.5089425 , 0.773981  , 0.0245527 ],\n",
              "        [0.13693452, 0.05427074, 0.07201469]],\n",
              "\n",
              "       [[0.7323935 , 0.8064021 , 0.5350349 ],\n",
              "        [0.7132461 , 0.6410818 , 0.18587363],\n",
              "        [0.740998  , 0.45748186, 0.13488305],\n",
              "        ...,\n",
              "        [0.58758247, 0.24911582, 0.7643832 ],\n",
              "        [0.8476112 , 0.66119576, 0.12866688],\n",
              "        [0.9924488 , 0.38956296, 0.72045255]]], dtype=float32)>"
            ]
          },
          "metadata": {},
          "execution_count": 24
        }
      ]
    },
    {
      "cell_type": "markdown",
      "source": [
        "## 7. Find the min and max values of the tensor you created in 6.\n"
      ],
      "metadata": {
        "id": "j0_7C5m_EsK7"
      }
    },
    {
      "cell_type": "code",
      "source": [
        "# Find the minimum value of tensor_7\n",
        "min_tensor_7 = tf.math.reduce_min(tensor_7)\n",
        "print(f\"The minimum value of tensor_7 is: {min_tensor_7}\")\n",
        "\n",
        "# Find the maximum value of tensor_7\n",
        "max_tensor_7 = tf.math.reduce_max(tensor_7)\n",
        "print(f\"The maximum value of tensor_7 is: {max_tensor_7}\")"
      ],
      "metadata": {
        "colab": {
          "base_uri": "https://localhost:8080/"
        },
        "id": "svy_08mHElLb",
        "outputId": "46d5bd8e-7c33-4668-f194-d62eebbb9503"
      },
      "execution_count": 25,
      "outputs": [
        {
          "output_type": "stream",
          "name": "stdout",
          "text": [
            "The minimum value of tensor_7 is: 1.9311904907226562e-05\n",
            "The maximum value of tensor_7 is: 0.99998939037323\n"
          ]
        }
      ]
    },
    {
      "cell_type": "markdown",
      "source": [
        "## 8. Create a tensor with random values of shape `[1, 224, 224, 3]` then **squeeze** it to change the shape to `[224, 224, 3]`."
      ],
      "metadata": {
        "id": "_oc_fw4tFnH7"
      }
    },
    {
      "cell_type": "code",
      "source": [
        "# Create a tensor with shape [1, 224, 224, 3]\n",
        "unsqueezed_tensor = tf.random.Generator.from_seed(42)\n",
        "unsqueezed_tensor = unsqueezed_tensor.normal(shape=(1, 224, 224, 3))\n",
        "print(f\"Unsqueezed Tensor \\n{unsqueezed_tensor} \\n The shape before squeezing is: {unsqueezed_tensor.shape}\\n\")\n",
        "\n",
        "# Squeeze the tensor to change the shape to [224, 224, 3]\n",
        "squeezed_tensor = tf.squeeze(unsqueezed_tensor)\n",
        "print(f\"Squeezed Tensor \\n{squeezed_tensor} \\n The shape after squeezing is: {squeezed_tensor.shape}\")"
      ],
      "metadata": {
        "colab": {
          "base_uri": "https://localhost:8080/"
        },
        "id": "2ruUO8-HFiBM",
        "outputId": "84ca5803-68dc-4b63-a085-d3c3731f60e6"
      },
      "execution_count": 27,
      "outputs": [
        {
          "output_type": "stream",
          "name": "stdout",
          "text": [
            "Unsqueezed Tensor \n",
            "[[[[-0.7565803  -0.06854702  0.07595026]\n",
            "   [-1.2573844  -0.23193765 -1.8107855 ]\n",
            "   [ 0.09988727 -0.50998646 -0.7535806 ]\n",
            "   ...\n",
            "   [ 0.07099114 -0.5095768   0.3482001 ]\n",
            "   [ 0.15985982 -1.9042184   0.9690504 ]\n",
            "   [ 0.16251186 -0.07330751 -0.36059096]]\n",
            "\n",
            "  [[ 0.18739441 -0.73353654  1.2104433 ]\n",
            "   [ 1.5603006  -0.48115277  0.6335167 ]\n",
            "   [-0.5612103   0.06994031  1.6807096 ]\n",
            "   ...\n",
            "   [-1.9460295  -0.7977275   0.03092833]\n",
            "   [ 0.8297488   0.12179119  1.0506108 ]\n",
            "   [-1.3097638   0.92536974 -1.1787732 ]]\n",
            "\n",
            "  [[-0.21711825 -0.73974085 -1.3077081 ]\n",
            "   [-0.7502274  -0.37715855 -0.30130875]\n",
            "   [ 1.0943383   0.255803    0.8011465 ]\n",
            "   ...\n",
            "   [-0.32833767 -0.7794747   0.20049337]\n",
            "   [-0.09002841  0.07243238 -0.81940895]\n",
            "   [ 0.3171264  -1.6143695  -1.6824652 ]]\n",
            "\n",
            "  ...\n",
            "\n",
            "  [[-0.41068986 -0.3995463   0.16299413]\n",
            "   [-0.82463205  1.1320542   0.43792698]\n",
            "   [-0.7639474  -1.1266301  -0.7207727 ]\n",
            "   ...\n",
            "   [-0.8531011  -0.53761154 -0.32857296]\n",
            "   [ 0.9262249  -1.2425404  -0.69937414]\n",
            "   [ 1.7450827   1.2275221   0.7955962 ]]\n",
            "\n",
            "  [[-1.0337651  -2.0142937   0.20993443]\n",
            "   [-0.54768926 -0.4617833   0.15565315]\n",
            "   [-0.83341664 -0.24888957 -1.0451232 ]\n",
            "   ...\n",
            "   [ 2.1425858   1.0908573   0.5777537 ]\n",
            "   [ 0.1725258  -0.93706477 -0.5235085 ]\n",
            "   [-1.6538908   0.10763749  0.1024353 ]]\n",
            "\n",
            "  [[-0.82148445 -0.04988056  0.51579875]\n",
            "   [ 0.328913    0.25311732  1.7136203 ]\n",
            "   [-0.7098217   0.40330094 -1.3882406 ]\n",
            "   ...\n",
            "   [ 0.14991115  1.8622528  -0.7413897 ]\n",
            "   [-0.07112624 -0.7579811  -0.9618234 ]\n",
            "   [-1.3569824  -1.5307596  -0.91243464]]]] \n",
            " The shape before squeezing is: (1, 224, 224, 3)\n",
            "\n",
            "Squeezed Tensor \n",
            "[[[-0.7565803  -0.06854702  0.07595026]\n",
            "  [-1.2573844  -0.23193765 -1.8107855 ]\n",
            "  [ 0.09988727 -0.50998646 -0.7535806 ]\n",
            "  ...\n",
            "  [ 0.07099114 -0.5095768   0.3482001 ]\n",
            "  [ 0.15985982 -1.9042184   0.9690504 ]\n",
            "  [ 0.16251186 -0.07330751 -0.36059096]]\n",
            "\n",
            " [[ 0.18739441 -0.73353654  1.2104433 ]\n",
            "  [ 1.5603006  -0.48115277  0.6335167 ]\n",
            "  [-0.5612103   0.06994031  1.6807096 ]\n",
            "  ...\n",
            "  [-1.9460295  -0.7977275   0.03092833]\n",
            "  [ 0.8297488   0.12179119  1.0506108 ]\n",
            "  [-1.3097638   0.92536974 -1.1787732 ]]\n",
            "\n",
            " [[-0.21711825 -0.73974085 -1.3077081 ]\n",
            "  [-0.7502274  -0.37715855 -0.30130875]\n",
            "  [ 1.0943383   0.255803    0.8011465 ]\n",
            "  ...\n",
            "  [-0.32833767 -0.7794747   0.20049337]\n",
            "  [-0.09002841  0.07243238 -0.81940895]\n",
            "  [ 0.3171264  -1.6143695  -1.6824652 ]]\n",
            "\n",
            " ...\n",
            "\n",
            " [[-0.41068986 -0.3995463   0.16299413]\n",
            "  [-0.82463205  1.1320542   0.43792698]\n",
            "  [-0.7639474  -1.1266301  -0.7207727 ]\n",
            "  ...\n",
            "  [-0.8531011  -0.53761154 -0.32857296]\n",
            "  [ 0.9262249  -1.2425404  -0.69937414]\n",
            "  [ 1.7450827   1.2275221   0.7955962 ]]\n",
            "\n",
            " [[-1.0337651  -2.0142937   0.20993443]\n",
            "  [-0.54768926 -0.4617833   0.15565315]\n",
            "  [-0.83341664 -0.24888957 -1.0451232 ]\n",
            "  ...\n",
            "  [ 2.1425858   1.0908573   0.5777537 ]\n",
            "  [ 0.1725258  -0.93706477 -0.5235085 ]\n",
            "  [-1.6538908   0.10763749  0.1024353 ]]\n",
            "\n",
            " [[-0.82148445 -0.04988056  0.51579875]\n",
            "  [ 0.328913    0.25311732  1.7136203 ]\n",
            "  [-0.7098217   0.40330094 -1.3882406 ]\n",
            "  ...\n",
            "  [ 0.14991115  1.8622528  -0.7413897 ]\n",
            "  [-0.07112624 -0.7579811  -0.9618234 ]\n",
            "  [-1.3569824  -1.5307596  -0.91243464]]] \n",
            " The shape after squeezing is: (224, 224, 3)\n"
          ]
        }
      ]
    },
    {
      "cell_type": "markdown",
      "source": [
        "## 9. Create a tensor with shape `[10]` using your own choice of values, then find the index which has the **maximum value**."
      ],
      "metadata": {
        "id": "Q0h0gYEaIh-c"
      }
    },
    {
      "cell_type": "code",
      "source": [
        "tensor_10 = tf.constant([1, 2, 3, 100, 4, 5, 0, 6, 7, 8])\n",
        "\n",
        "# Find the index which has the maximum value\n",
        "max_index = tf.math.argmax(tensor_10)\n",
        "\n",
        "print(f\"The index which has the maximum value is: {max_index}\")\n",
        "print(f\"The maximum value is: {tensor_10[max_index]}\")\n",
        "\n",
        "# Find the index which has the minimum value\n",
        "min_index = tf.math.argmin(tensor_10)\n",
        "\n",
        "print(f\"The index which has the minimum value is: {min_index}\")\n",
        "print(f\"The minimum value is: {tensor_10[min_index]}\")"
      ],
      "metadata": {
        "colab": {
          "base_uri": "https://localhost:8080/"
        },
        "id": "uDC59pL7ILQ7",
        "outputId": "ac36bac2-94aa-4743-bffa-03a8252f81bd"
      },
      "execution_count": 28,
      "outputs": [
        {
          "output_type": "stream",
          "name": "stdout",
          "text": [
            "The index which has the maximum value is: 3\n",
            "The maximum value is: 100\n",
            "The index which has the minimum value is: 6\n",
            "The minimum value is: 0\n"
          ]
        }
      ]
    },
    {
      "cell_type": "markdown",
      "source": [
        "## 10. **One-hot** encode the tensor you created in 9."
      ],
      "metadata": {
        "id": "25drJPdoKWfF"
      }
    },
    {
      "cell_type": "code",
      "source": [
        "# One-hot encode tensor_10\n",
        "tf.one_hot(tensor_10, depth=10)"
      ],
      "metadata": {
        "colab": {
          "base_uri": "https://localhost:8080/"
        },
        "id": "U7zKY8esKQtt",
        "outputId": "be89a1ce-b8c2-462b-b9fc-d6043204b6c6"
      },
      "execution_count": 29,
      "outputs": [
        {
          "output_type": "execute_result",
          "data": {
            "text/plain": [
              "<tf.Tensor: shape=(10, 10), dtype=float32, numpy=\n",
              "array([[0., 1., 0., 0., 0., 0., 0., 0., 0., 0.],\n",
              "       [0., 0., 1., 0., 0., 0., 0., 0., 0., 0.],\n",
              "       [0., 0., 0., 1., 0., 0., 0., 0., 0., 0.],\n",
              "       [0., 0., 0., 0., 0., 0., 0., 0., 0., 0.],\n",
              "       [0., 0., 0., 0., 1., 0., 0., 0., 0., 0.],\n",
              "       [0., 0., 0., 0., 0., 1., 0., 0., 0., 0.],\n",
              "       [1., 0., 0., 0., 0., 0., 0., 0., 0., 0.],\n",
              "       [0., 0., 0., 0., 0., 0., 1., 0., 0., 0.],\n",
              "       [0., 0., 0., 0., 0., 0., 0., 1., 0., 0.],\n",
              "       [0., 0., 0., 0., 0., 0., 0., 0., 1., 0.]], dtype=float32)>"
            ]
          },
          "metadata": {},
          "execution_count": 29
        }
      ]
    },
    {
      "cell_type": "code",
      "source": [],
      "metadata": {
        "id": "sjaVLdUVK0aN"
      },
      "execution_count": null,
      "outputs": []
    }
  ]
}