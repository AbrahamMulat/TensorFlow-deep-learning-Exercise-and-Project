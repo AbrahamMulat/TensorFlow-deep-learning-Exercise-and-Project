{
  "nbformat": 4,
  "nbformat_minor": 0,
  "metadata": {
    "colab": {
      "provenance": [],
      "collapsed_sections": [],
      "authorship_tag": "ABX9TyNBs9J6d4FKzK3TJX+Yuz59",
      "include_colab_link": true
    },
    "kernelspec": {
      "name": "python3",
      "display_name": "Python 3"
    },
    "language_info": {
      "name": "python"
    },
    "accelerator": "GPU"
  },
  "cells": [
    {
      "cell_type": "markdown",
      "metadata": {
        "id": "view-in-github",
        "colab_type": "text"
      },
      "source": [
        "<a href=\"https://colab.research.google.com/github/AbrahamMulat/TensorFlow-deep-learning-Exercise-and-Project/blob/main/01_Neural_network_regression_with_TensorFlow_exercises.ipynb\" target=\"_parent\"><img src=\"https://colab.research.google.com/assets/colab-badge.svg\" alt=\"Open In Colab\"/></a>"
      ]
    },
    {
      "cell_type": "markdown",
      "source": [
        "# 🛠 01. Neural network regression with TensorFlow Exercises\n",
        "\n",
        "1. Create your own regression dataset (or make the one we created in \"Create data to view and fit\" bigger) and build fit a model to it.\n",
        "2. Try building a neural network with 4 Dense layers and fitting it to your own regression dataset, how does it perform?\n",
        "3. Try and improve the results we got on the insurance dataset, some things you might want to try include:\n",
        "  * Building a larger model (how does one with 4 dense layers go?).\n",
        "  * Increasing the number of units in each layer.\n",
        "  * Lookup the documentation of Adam and find out what the first parameter is, what happens if you increase it by 10x?\n",
        "  * What happens if you train for longer (say 300 epochs instead of 200)?\n",
        "4. Import the Boston pricing dataset from TensorFlow tf.keras.datasets and model it."
      ],
      "metadata": {
        "id": "hpCqD2ODQdVo"
      }
    },
    {
      "cell_type": "code",
      "execution_count": 1,
      "metadata": {
        "id": "4jpUrBh5P6uU"
      },
      "outputs": [],
      "source": [
        "# Import libraries\n",
        "import tensorflow as tf # for modeling\n",
        "import numpy as np # for numeric computing\n",
        "import pandas as pd # for data processing\n",
        "import matplotlib.pyplot as plt # for data visualization\n",
        "from sklearn.datasets import make_regression # to create regression dataset\n",
        "\n"
      ]
    },
    {
      "cell_type": "code",
      "source": [
        "# Check GPU availability - for fast computing\n",
        "!nvidia-smi"
      ],
      "metadata": {
        "colab": {
          "base_uri": "https://localhost:8080/"
        },
        "id": "sp5zYrSUUdcw",
        "outputId": "51f2812c-54f9-4cc6-9e02-27c99848be0a"
      },
      "execution_count": 2,
      "outputs": [
        {
          "output_type": "stream",
          "name": "stdout",
          "text": [
            "Wed Oct  5 05:45:57 2022       \n",
            "+-----------------------------------------------------------------------------+\n",
            "| NVIDIA-SMI 460.32.03    Driver Version: 460.32.03    CUDA Version: 11.2     |\n",
            "|-------------------------------+----------------------+----------------------+\n",
            "| GPU  Name        Persistence-M| Bus-Id        Disp.A | Volatile Uncorr. ECC |\n",
            "| Fan  Temp  Perf  Pwr:Usage/Cap|         Memory-Usage | GPU-Util  Compute M. |\n",
            "|                               |                      |               MIG M. |\n",
            "|===============================+======================+======================|\n",
            "|   0  Tesla T4            Off  | 00000000:00:04.0 Off |                    0 |\n",
            "| N/A   39C    P8    10W /  70W |      0MiB / 15109MiB |      0%      Default |\n",
            "|                               |                      |                  N/A |\n",
            "+-------------------------------+----------------------+----------------------+\n",
            "                                                                               \n",
            "+-----------------------------------------------------------------------------+\n",
            "| Processes:                                                                  |\n",
            "|  GPU   GI   CI        PID   Type   Process name                  GPU Memory |\n",
            "|        ID   ID                                                   Usage      |\n",
            "|=============================================================================|\n",
            "|  No running processes found                                                 |\n",
            "+-----------------------------------------------------------------------------+\n"
          ]
        }
      ]
    },
    {
      "cell_type": "markdown",
      "source": [
        "## 1. Create your own regression dataset (or make the one we created in \"Create data to view and fit\" bigger) and build fit a model to it.\n",
        "\n",
        "To create a regression dataset, we can use either [sklearn.datasets.make_regression()](https://scikit-learn.org/stable/modules/generated/sklearn.datasets.make_regression.html) function or we can create features and labels using numpy."
      ],
      "metadata": {
        "id": "0C02Bug4U1jJ"
      }
    },
    {
      "cell_type": "code",
      "source": [
        "# Let's create a regression dataset using numpy\n",
        "# create features (x the independent variable) \n",
        "x = np.arange(0, 1000, 5) # make 200 sample  with step 5 from 0 to 1000(excluded)\n",
        "\n",
        "# create labels (y the dependent variable)\n",
        "y = 2*x + 20\n",
        "\n",
        "# Visualize our dataset\n",
        "plt.scatter(x, y)"
      ],
      "metadata": {
        "colab": {
          "base_uri": "https://localhost:8080/",
          "height": 283
        },
        "id": "r8TvVwN5Uvyi",
        "outputId": "47eb7814-2e4a-4218-e459-e77cd228fa53"
      },
      "execution_count": 3,
      "outputs": [
        {
          "output_type": "execute_result",
          "data": {
            "text/plain": [
              "<matplotlib.collections.PathCollection at 0x7fc1bde96cd0>"
            ]
          },
          "metadata": {},
          "execution_count": 3
        },
        {
          "output_type": "display_data",
          "data": {
            "text/plain": [
              "<Figure size 432x288 with 1 Axes>"
            ],
            "image/png": "[encoded data removed]"
          },
          "metadata": {
            "needs_background": "light"
          }
        }
      ]
    },
    {
      "cell_type": "code",
      "source": [
        "len(x), len(y)"
      ],
      "metadata": {
        "colab": {
          "base_uri": "https://localhost:8080/"
        },
        "id": "EFqxHLe6YhIz",
        "outputId": "6d849ab6-1ff9-4c3a-9d45-35b476b57cd9"
      },
      "execution_count": 4,
      "outputs": [
        {
          "output_type": "execute_result",
          "data": {
            "text/plain": [
              "(200, 200)"
            ]
          },
          "metadata": {},
          "execution_count": 4
        }
      ]
    },
    {
      "cell_type": "code",
      "source": [
        "# Turn our dataset into tensors\n",
        "x = tf.cast(tf.constant(x), dtype=tf.float32)\n",
        "y = tf.cast(tf.constant(y), dtype=tf.float32)\n",
        "x, y"
      ],
      "metadata": {
        "colab": {
          "base_uri": "https://localhost:8080/"
        },
        "id": "N29-VcpHaAYz",
        "outputId": "2247e0a9-c688-4c85-b7eb-a7e9dc9e10c7"
      },
      "execution_count": 5,
      "outputs": [
        {
          "output_type": "execute_result",
          "data": {
            "text/plain": [
              "(<tf.Tensor: shape=(200,), dtype=float32, numpy=\n",
              " array([  0.,   5.,  10.,  15.,  20.,  25.,  30.,  35.,  40.,  45.,  50.,\n",
              "         55.,  60.,  65.,  70.,  75.,  80.,  85.,  90.,  95., 100., 105.,\n",
              "        110., 115., 120., 125., 130., 135., 140., 145., 150., 155., 160.,\n",
              "        165., 170., 175., 180., 185., 190., 195., 200., 205., 210., 215.,\n",
              "        220., 225., 230., 235., 240., 245., 250., 255., 260., 265., 270.,\n",
              "        275., 280., 285., 290., 295., 300., 305., 310., 315., 320., 325.,\n",
              "        330., 335., 340., 345., 350., 355., 360., 365., 370., 375., 380.,\n",
              "        385., 390., 395., 400., 405., 410., 415., 420., 425., 430., 435.,\n",
              "        440., 445., 450., 455., 460., 465., 470., 475., 480., 485., 490.,\n",
              "        495., 500., 505., 510., 515., 520., 525., 530., 535., 540., 545.,\n",
              "        550., 555., 560., 565., 570., 575., 580., 585., 590., 595., 600.,\n",
              "        605., 610., 615., 620., 625., 630., 635., 640., 645., 650., 655.,\n",
              "        660., 665., 670., 675., 680., 685., 690., 695., 700., 705., 710.,\n",
              "        715., 720., 725., 730., 735., 740., 745., 750., 755., 760., 765.,\n",
              "        770., 775., 780., 785., 790., 795., 800., 805., 810., 815., 820.,\n",
              "        825., 830., 835., 840., 845., 850., 855., 860., 865., 870., 875.,\n",
              "        880., 885., 890., 895., 900., 905., 910., 915., 920., 925., 930.,\n",
              "        935., 940., 945., 950., 955., 960., 965., 970., 975., 980., 985.,\n",
              "        990., 995.], dtype=float32)>,\n",
              " <tf.Tensor: shape=(200,), dtype=float32, numpy=\n",
              " array([  20.,   30.,   40.,   50.,   60.,   70.,   80.,   90.,  100.,\n",
              "         110.,  120.,  130.,  140.,  150.,  160.,  170.,  180.,  190.,\n",
              "         200.,  210.,  220.,  230.,  240.,  250.,  260.,  270.,  280.,\n",
              "         290.,  300.,  310.,  320.,  330.,  340.,  350.,  360.,  370.,\n",
              "         380.,  390.,  400.,  410.,  420.,  430.,  440.,  450.,  460.,\n",
              "         470.,  480.,  490.,  500.,  510.,  520.,  530.,  540.,  550.,\n",
              "         560.,  570.,  580.,  590.,  600.,  610.,  620.,  630.,  640.,\n",
              "         650.,  660.,  670.,  680.,  690.,  700.,  710.,  720.,  730.,\n",
              "         740.,  750.,  760.,  770.,  780.,  790.,  800.,  810.,  820.,\n",
              "         830.,  840.,  850.,  860.,  870.,  880.,  890.,  900.,  910.,\n",
              "         920.,  930.,  940.,  950.,  960.,  970.,  980.,  990., 1000.,\n",
              "        1010., 1020., 1030., 1040., 1050., 1060., 1070., 1080., 1090.,\n",
              "        1100., 1110., 1120., 1130., 1140., 1150., 1160., 1170., 1180.,\n",
              "        1190., 1200., 1210., 1220., 1230., 1240., 1250., 1260., 1270.,\n",
              "        1280., 1290., 1300., 1310., 1320., 1330., 1340., 1350., 1360.,\n",
              "        1370., 1380., 1390., 1400., 1410., 1420., 1430., 1440., 1450.,\n",
              "        1460., 1470., 1480., 1490., 1500., 1510., 1520., 1530., 1540.,\n",
              "        1550., 1560., 1570., 1580., 1590., 1600., 1610., 1620., 1630.,\n",
              "        1640., 1650., 1660., 1670., 1680., 1690., 1700., 1710., 1720.,\n",
              "        1730., 1740., 1750., 1760., 1770., 1780., 1790., 1800., 1810.,\n",
              "        1820., 1830., 1840., 1850., 1860., 1870., 1880., 1890., 1900.,\n",
              "        1910., 1920., 1930., 1940., 1950., 1960., 1970., 1980., 1990.,\n",
              "        2000., 2010.], dtype=float32)>)"
            ]
          },
          "metadata": {},
          "execution_count": 5
        }
      ]
    },
    {
      "cell_type": "code",
      "source": [
        "# Split our dataset into training and test set\n",
        "\n",
        "# Split features into train and test\n",
        "x_train = x[:160] # first 160 for training (80%)\n",
        "x_test = x[160:] # last 40 for testing (20%)\n",
        "\n",
        "print(len(x_train), len(x_test))\n",
        "\n",
        "# split labels into train and test\n",
        "y_train = y[:160]\n",
        "y_test = y[160:]\n",
        "print(len(y_train), len(y_test))"
      ],
      "metadata": {
        "colab": {
          "base_uri": "https://localhost:8080/"
        },
        "id": "Sszfd8BSb7AD",
        "outputId": "363cb58d-adc6-403f-d3d7-8e270a7a7dab"
      },
      "execution_count": 6,
      "outputs": [
        {
          "output_type": "stream",
          "name": "stdout",
          "text": [
            "160 40\n",
            "160 40\n"
          ]
        }
      ]
    },
    {
      "cell_type": "code",
      "source": [
        "# Visualize the data\n",
        "plt.figure(figsize=(10, 7))\n",
        "# Plot training data in blue\n",
        "plt.scatter(x_train, y_train, c=\"b\", label=\"Training data\")\n",
        "# Plot test data in green \n",
        "plt.scatter(x_test, y_test, c=\"g\", label=\"Testing data\")\n",
        "# Show a legend\n",
        "plt.legend()"
      ],
      "metadata": {
        "colab": {
          "base_uri": "https://localhost:8080/",
          "height": 446
        },
        "id": "URrzx1lDdBBI",
        "outputId": "627835a5-c544-413d-d6f1-6c37afd1aa15"
      },
      "execution_count": 7,
      "outputs": [
        {
          "output_type": "execute_result",
          "data": {
            "text/plain": [
              "<matplotlib.legend.Legend at 0x7fc1c299fc10>"
            ]
          },
          "metadata": {},
          "execution_count": 7
        },
        {
          "output_type": "display_data",
          "data": {
            "text/plain": [
              "<Figure size 720x504 with 1 Axes>"
            ],
            "image/png": "[encoded data removed]"
          },
          "metadata": {
            "needs_background": "light"
          }
        }
      ]
    },
    {
      "cell_type": "code",
      "source": [
        "# Build a model\n",
        "\n",
        "# Set random seed\n",
        "tf.random.set_seed(42)\n",
        "\n",
        "# 1. Create a model\n",
        "model = tf.keras.Sequential([\n",
        "    tf.keras.layers.Dense(1, input_shape=[1])\n",
        "])\n",
        "\n",
        "# 2. Compile the model\n",
        "model.compile(loss=tf.keras.losses.mae,\n",
        "              optimizer=tf.keras.optimizers.Adam(),\n",
        "              metrics=['mae'])\n",
        "\n",
        "# 3. Fit the model\n",
        "model.fit(x_train, y_train, epochs=100)"
      ],
      "metadata": {
        "colab": {
          "base_uri": "https://localhost:8080/"
        },
        "id": "xm2adBozeL2Y",
        "outputId": "c99ee0d8-b3c5-4641-dbb3-7aff680972c0"
      },
      "execution_count": 8,
      "outputs": [
        {
          "output_type": "stream",
          "name": "stdout",
          "text": [
            "Epoch 1/100\n",
            "5/5 [==============================] - 2s 3ms/step - loss: 587.5646 - mae: 587.5646\n",
            "Epoch 2/100\n",
            "5/5 [==============================] - 0s 3ms/step - loss: 585.5997 - mae: 585.5997\n",
            "Epoch 3/100\n",
            "5/5 [==============================] - 0s 2ms/step - loss: 583.5809 - mae: 583.5809\n",
            "Epoch 4/100\n",
            "5/5 [==============================] - 0s 2ms/step - loss: 581.6141 - mae: 581.6141\n",
            "Epoch 5/100\n",
            "5/5 [==============================] - 0s 2ms/step - loss: 579.6484 - mae: 579.6484\n",
            "Epoch 6/100\n",
            "5/5 [==============================] - 0s 3ms/step - loss: 577.6393 - mae: 577.6393\n",
            "Epoch 7/100\n",
            "5/5 [==============================] - 0s 3ms/step - loss: 575.6872 - mae: 575.6872\n",
            "Epoch 8/100\n",
            "5/5 [==============================] - 0s 2ms/step - loss: 573.6750 - mae: 573.6750\n",
            "Epoch 9/100\n",
            "5/5 [==============================] - 0s 3ms/step - loss: 571.6595 - mae: 571.6595\n",
            "Epoch 10/100\n",
            "5/5 [==============================] - 0s 3ms/step - loss: 569.7119 - mae: 569.7119\n",
            "Epoch 11/100\n",
            "5/5 [==============================] - 0s 4ms/step - loss: 567.7719 - mae: 567.7719\n",
            "Epoch 12/100\n",
            "5/5 [==============================] - 0s 3ms/step - loss: 565.7321 - mae: 565.7321\n",
            "Epoch 13/100\n",
            "5/5 [==============================] - 0s 4ms/step - loss: 563.7648 - mae: 563.7648\n",
            "Epoch 14/100\n",
            "5/5 [==============================] - 0s 4ms/step - loss: 561.7660 - mae: 561.7660\n",
            "Epoch 15/100\n",
            "5/5 [==============================] - 0s 4ms/step - loss: 559.7814 - mae: 559.7814\n",
            "Epoch 16/100\n",
            "5/5 [==============================] - 0s 3ms/step - loss: 557.7858 - mae: 557.7858\n",
            "Epoch 17/100\n",
            "5/5 [==============================] - 0s 3ms/step - loss: 555.8300 - mae: 555.8300\n",
            "Epoch 18/100\n",
            "5/5 [==============================] - 0s 6ms/step - loss: 553.8306 - mae: 553.8306\n",
            "Epoch 19/100\n",
            "5/5 [==============================] - 0s 3ms/step - loss: 551.8252 - mae: 551.8252\n",
            "Epoch 20/100\n",
            "5/5 [==============================] - 0s 3ms/step - loss: 549.8878 - mae: 549.8878\n",
            "Epoch 21/100\n",
            "5/5 [==============================] - 0s 7ms/step - loss: 547.8674 - mae: 547.8674\n",
            "Epoch 22/100\n",
            "5/5 [==============================] - 0s 3ms/step - loss: 545.8864 - mae: 545.8864\n",
            "Epoch 23/100\n",
            "5/5 [==============================] - 0s 3ms/step - loss: 543.9318 - mae: 543.9318\n",
            "Epoch 24/100\n",
            "5/5 [==============================] - 0s 4ms/step - loss: 541.8968 - mae: 541.8968\n",
            "Epoch 25/100\n",
            "5/5 [==============================] - 0s 3ms/step - loss: 539.9235 - mae: 539.9235\n",
            "Epoch 26/100\n",
            "5/5 [==============================] - 0s 4ms/step - loss: 538.0096 - mae: 538.0096\n",
            "Epoch 27/100\n",
            "5/5 [==============================] - 0s 3ms/step - loss: 535.9476 - mae: 535.9476\n",
            "Epoch 28/100\n",
            "5/5 [==============================] - 0s 3ms/step - loss: 533.9584 - mae: 533.9584\n",
            "Epoch 29/100\n",
            "5/5 [==============================] - 0s 3ms/step - loss: 532.0151 - mae: 532.0151\n",
            "Epoch 30/100\n",
            "5/5 [==============================] - 0s 3ms/step - loss: 530.0117 - mae: 530.0117\n",
            "Epoch 31/100\n",
            "5/5 [==============================] - 0s 5ms/step - loss: 528.0063 - mae: 528.0063\n",
            "Epoch 32/100\n",
            "5/5 [==============================] - 0s 3ms/step - loss: 526.0384 - mae: 526.0384\n",
            "Epoch 33/100\n",
            "5/5 [==============================] - 0s 3ms/step - loss: 524.0272 - mae: 524.0272\n",
            "Epoch 34/100\n",
            "5/5 [==============================] - 0s 3ms/step - loss: 522.1107 - mae: 522.1107\n",
            "Epoch 35/100\n",
            "5/5 [==============================] - 0s 4ms/step - loss: 520.0569 - mae: 520.0569\n",
            "Epoch 36/100\n",
            "5/5 [==============================] - 0s 4ms/step - loss: 518.1160 - mae: 518.1160\n",
            "Epoch 37/100\n",
            "5/5 [==============================] - 0s 3ms/step - loss: 516.0995 - mae: 516.0995\n",
            "Epoch 38/100\n",
            "5/5 [==============================] - 0s 3ms/step - loss: 514.1419 - mae: 514.1419\n",
            "Epoch 39/100\n",
            "5/5 [==============================] - 0s 3ms/step - loss: 512.1468 - mae: 512.1468\n",
            "Epoch 40/100\n",
            "5/5 [==============================] - 0s 4ms/step - loss: 510.1428 - mae: 510.1428\n",
            "Epoch 41/100\n",
            "5/5 [==============================] - 0s 3ms/step - loss: 508.1782 - mae: 508.1782\n",
            "Epoch 42/100\n",
            "5/5 [==============================] - 0s 4ms/step - loss: 506.2088 - mae: 506.2088\n",
            "Epoch 43/100\n",
            "5/5 [==============================] - 0s 3ms/step - loss: 504.1628 - mae: 504.1628\n",
            "Epoch 44/100\n",
            "5/5 [==============================] - 0s 5ms/step - loss: 502.2524 - mae: 502.2524\n",
            "Epoch 45/100\n",
            "5/5 [==============================] - 0s 3ms/step - loss: 500.2188 - mae: 500.2188\n",
            "Epoch 46/100\n",
            "5/5 [==============================] - 0s 4ms/step - loss: 498.2475 - mae: 498.2475\n",
            "Epoch 47/100\n",
            "5/5 [==============================] - 0s 3ms/step - loss: 496.2692 - mae: 496.2692\n",
            "Epoch 48/100\n",
            "5/5 [==============================] - 0s 3ms/step - loss: 494.3047 - mae: 494.3047\n",
            "Epoch 49/100\n",
            "5/5 [==============================] - 0s 3ms/step - loss: 492.2998 - mae: 492.2998\n",
            "Epoch 50/100\n",
            "5/5 [==============================] - 0s 3ms/step - loss: 490.3179 - mae: 490.3179\n",
            "Epoch 51/100\n",
            "5/5 [==============================] - 0s 3ms/step - loss: 488.3484 - mae: 488.3484\n",
            "Epoch 52/100\n",
            "5/5 [==============================] - 0s 5ms/step - loss: 486.2947 - mae: 486.2947\n",
            "Epoch 53/100\n",
            "5/5 [==============================] - 0s 8ms/step - loss: 484.3542 - mae: 484.3542\n",
            "Epoch 54/100\n",
            "5/5 [==============================] - 0s 3ms/step - loss: 482.3769 - mae: 482.3769\n",
            "Epoch 55/100\n",
            "5/5 [==============================] - 0s 4ms/step - loss: 480.4165 - mae: 480.4165\n",
            "Epoch 56/100\n",
            "5/5 [==============================] - 0s 11ms/step - loss: 478.3709 - mae: 478.3709\n",
            "Epoch 57/100\n",
            "5/5 [==============================] - 0s 5ms/step - loss: 476.4091 - mae: 476.4091\n",
            "Epoch 58/100\n",
            "5/5 [==============================] - 0s 3ms/step - loss: 474.4098 - mae: 474.4098\n",
            "Epoch 59/100\n",
            "5/5 [==============================] - 0s 4ms/step - loss: 472.4681 - mae: 472.4681\n",
            "Epoch 60/100\n",
            "5/5 [==============================] - 0s 3ms/step - loss: 470.4604 - mae: 470.4604\n",
            "Epoch 61/100\n",
            "5/5 [==============================] - 0s 5ms/step - loss: 468.4684 - mae: 468.4684\n",
            "Epoch 62/100\n",
            "5/5 [==============================] - 0s 3ms/step - loss: 466.4759 - mae: 466.4759\n",
            "Epoch 63/100\n",
            "5/5 [==============================] - 0s 3ms/step - loss: 464.5022 - mae: 464.5022\n",
            "Epoch 64/100\n",
            "5/5 [==============================] - 0s 3ms/step - loss: 462.5129 - mae: 462.5129\n",
            "Epoch 65/100\n",
            "5/5 [==============================] - 0s 3ms/step - loss: 460.5461 - mae: 460.5461\n",
            "Epoch 66/100\n",
            "5/5 [==============================] - 0s 4ms/step - loss: 458.5208 - mae: 458.5208\n",
            "Epoch 67/100\n",
            "5/5 [==============================] - 0s 3ms/step - loss: 456.6218 - mae: 456.6218\n",
            "Epoch 68/100\n",
            "5/5 [==============================] - 0s 3ms/step - loss: 454.5607 - mae: 454.5607\n",
            "Epoch 69/100\n",
            "5/5 [==============================] - 0s 4ms/step - loss: 452.6093 - mae: 452.6093\n",
            "Epoch 70/100\n",
            "5/5 [==============================] - 0s 3ms/step - loss: 450.6098 - mae: 450.6098\n",
            "Epoch 71/100\n",
            "5/5 [==============================] - 0s 5ms/step - loss: 448.6431 - mae: 448.6431\n",
            "Epoch 72/100\n",
            "5/5 [==============================] - 0s 4ms/step - loss: 446.6254 - mae: 446.6254\n",
            "Epoch 73/100\n",
            "5/5 [==============================] - 0s 3ms/step - loss: 444.6234 - mae: 444.6234\n",
            "Epoch 74/100\n",
            "5/5 [==============================] - 0s 3ms/step - loss: 442.6582 - mae: 442.6582\n",
            "Epoch 75/100\n",
            "5/5 [==============================] - 0s 4ms/step - loss: 440.6634 - mae: 440.6634\n",
            "Epoch 76/100\n",
            "5/5 [==============================] - 0s 3ms/step - loss: 438.7177 - mae: 438.7177\n",
            "Epoch 77/100\n",
            "5/5 [==============================] - 0s 6ms/step - loss: 436.6929 - mae: 436.6929\n",
            "Epoch 78/100\n",
            "5/5 [==============================] - 0s 3ms/step - loss: 434.7279 - mae: 434.7279\n",
            "Epoch 79/100\n",
            "5/5 [==============================] - 0s 3ms/step - loss: 432.7227 - mae: 432.7227\n",
            "Epoch 80/100\n",
            "5/5 [==============================] - 0s 3ms/step - loss: 430.7553 - mae: 430.7553\n",
            "Epoch 81/100\n",
            "5/5 [==============================] - 0s 3ms/step - loss: 428.7842 - mae: 428.7842\n",
            "Epoch 82/100\n",
            "5/5 [==============================] - 0s 3ms/step - loss: 426.7896 - mae: 426.7896\n",
            "Epoch 83/100\n",
            "5/5 [==============================] - 0s 3ms/step - loss: 424.7995 - mae: 424.7995\n",
            "Epoch 84/100\n",
            "5/5 [==============================] - 0s 4ms/step - loss: 422.7756 - mae: 422.7756\n",
            "Epoch 85/100\n",
            "5/5 [==============================] - 0s 5ms/step - loss: 420.8564 - mae: 420.8564\n",
            "Epoch 86/100\n",
            "5/5 [==============================] - 0s 5ms/step - loss: 418.8576 - mae: 418.8576\n",
            "Epoch 87/100\n",
            "5/5 [==============================] - 0s 4ms/step - loss: 416.8943 - mae: 416.8943\n",
            "Epoch 88/100\n",
            "5/5 [==============================] - 0s 2ms/step - loss: 414.8513 - mae: 414.8513\n",
            "Epoch 89/100\n",
            "5/5 [==============================] - 0s 3ms/step - loss: 412.8576 - mae: 412.8576\n",
            "Epoch 90/100\n",
            "5/5 [==============================] - 0s 3ms/step - loss: 410.8800 - mae: 410.8800\n",
            "Epoch 91/100\n",
            "5/5 [==============================] - 0s 3ms/step - loss: 408.9015 - mae: 408.9015\n",
            "Epoch 92/100\n",
            "5/5 [==============================] - 0s 3ms/step - loss: 406.9350 - mae: 406.9350\n",
            "Epoch 93/100\n",
            "5/5 [==============================] - 0s 3ms/step - loss: 404.9342 - mae: 404.9342\n",
            "Epoch 94/100\n",
            "5/5 [==============================] - 0s 3ms/step - loss: 402.9969 - mae: 402.9969\n",
            "Epoch 95/100\n",
            "5/5 [==============================] - 0s 3ms/step - loss: 400.9743 - mae: 400.9743\n",
            "Epoch 96/100\n",
            "5/5 [==============================] - 0s 3ms/step - loss: 398.9570 - mae: 398.9570\n",
            "Epoch 97/100\n",
            "5/5 [==============================] - 0s 3ms/step - loss: 397.0304 - mae: 397.0304\n",
            "Epoch 98/100\n",
            "5/5 [==============================] - 0s 3ms/step - loss: 395.0811 - mae: 395.0811\n",
            "Epoch 99/100\n",
            "5/5 [==============================] - 0s 3ms/step - loss: 393.0256 - mae: 393.0256\n",
            "Epoch 100/100\n",
            "5/5 [==============================] - 0s 2ms/step - loss: 391.0440 - mae: 391.0440\n"
          ]
        },
        {
          "output_type": "execute_result",
          "data": {
            "text/plain": [
              "<keras.callbacks.History at 0x7fc1bff53950>"
            ]
          },
          "metadata": {},
          "execution_count": 8
        }
      ]
    },
    {
      "cell_type": "code",
      "source": [
        "# Check model summary\n",
        "model.summary()"
      ],
      "metadata": {
        "colab": {
          "base_uri": "https://localhost:8080/"
        },
        "id": "JvAPOb4Gfrsi",
        "outputId": "eb15484f-8828-4a24-e2ba-5bbcdbc71f2d"
      },
      "execution_count": 9,
      "outputs": [
        {
          "output_type": "stream",
          "name": "stdout",
          "text": [
            "Model: \"sequential\"\n",
            "_________________________________________________________________\n",
            " Layer (type)                Output Shape              Param #   \n",
            "=================================================================\n",
            " dense (Dense)               (None, 1)                 2         \n",
            "                                                                 \n",
            "=================================================================\n",
            "Total params: 2\n",
            "Trainable params: 2\n",
            "Non-trainable params: 0\n",
            "_________________________________________________________________\n"
          ]
        }
      ]
    },
    {
      "cell_type": "code",
      "source": [
        "y_pred = model.predict(x_test)\n",
        "y_pred"
      ],
      "metadata": {
        "colab": {
          "base_uri": "https://localhost:8080/"
        },
        "id": "1ovmkMw0hWXG",
        "outputId": "ef030e69-dbb8-4cc9-b3f2-5b0713005f30"
      },
      "execution_count": 10,
      "outputs": [
        {
          "output_type": "execute_result",
          "data": {
            "text/plain": [
              "array([[ 855.1653 ],\n",
              "       [ 860.50696],\n",
              "       [ 865.8486 ],\n",
              "       [ 871.19025],\n",
              "       [ 876.5319 ],\n",
              "       [ 881.8736 ],\n",
              "       [ 887.2152 ],\n",
              "       [ 892.5569 ],\n",
              "       [ 897.89856],\n",
              "       [ 903.2402 ],\n",
              "       [ 908.58185],\n",
              "       [ 913.9235 ],\n",
              "       [ 919.2652 ],\n",
              "       [ 924.6068 ],\n",
              "       [ 929.9485 ],\n",
              "       [ 935.29016],\n",
              "       [ 940.63184],\n",
              "       [ 945.97345],\n",
              "       [ 951.3151 ],\n",
              "       [ 956.6568 ],\n",
              "       [ 961.9984 ],\n",
              "       [ 967.3401 ],\n",
              "       [ 972.68176],\n",
              "       [ 978.02344],\n",
              "       [ 983.36505],\n",
              "       [ 988.7067 ],\n",
              "       [ 994.0484 ],\n",
              "       [ 999.3901 ],\n",
              "       [1004.7317 ],\n",
              "       [1010.07336],\n",
              "       [1015.41504],\n",
              "       [1020.75665],\n",
              "       [1026.0984 ],\n",
              "       [1031.44   ],\n",
              "       [1036.7816 ],\n",
              "       [1042.1233 ],\n",
              "       [1047.465  ],\n",
              "       [1052.8066 ],\n",
              "       [1058.1483 ],\n",
              "       [1063.49   ]], dtype=float32)"
            ]
          },
          "metadata": {},
          "execution_count": 10
        }
      ]
    },
    {
      "cell_type": "code",
      "source": [
        "y_test"
      ],
      "metadata": {
        "colab": {
          "base_uri": "https://localhost:8080/"
        },
        "id": "LA6SPafOhi2O",
        "outputId": "05fd3df4-a11f-4354-a4b7-0bedd530f22f"
      },
      "execution_count": 11,
      "outputs": [
        {
          "output_type": "execute_result",
          "data": {
            "text/plain": [
              "<tf.Tensor: shape=(40,), dtype=float32, numpy=\n",
              "array([1620., 1630., 1640., 1650., 1660., 1670., 1680., 1690., 1700.,\n",
              "       1710., 1720., 1730., 1740., 1750., 1760., 1770., 1780., 1790.,\n",
              "       1800., 1810., 1820., 1830., 1840., 1850., 1860., 1870., 1880.,\n",
              "       1890., 1900., 1910., 1920., 1930., 1940., 1950., 1960., 1970.,\n",
              "       1980., 1990., 2000., 2010.], dtype=float32)>"
            ]
          },
          "metadata": {},
          "execution_count": 11
        }
      ]
    },
    {
      "cell_type": "code",
      "source": [
        "# Let's create a plotting function\n",
        "def plot_predictions(train_data=x_train,\n",
        "                     train_labels=y_train,\n",
        "                     test_data = x_test,\n",
        "                     test_labels=y_test,\n",
        "                     predictions=y_pred):\n",
        "    \"\"\"\n",
        "    Plots training data, test data and compares predictions to ground truth labels.\n",
        "    \"\"\"\n",
        "    plt.figure(figsize=(10, 7))\n",
        "    # Plot training data in blue\n",
        "    plt.scatter(train_data, train_labels, c=\"b\", label=\"Training data\")\n",
        "    # Plot testing data in green\n",
        "    plt.scatter(test_data, test_labels, c=\"g\", label=\"Testing data\")\n",
        "    # Plot model's predictions in red\n",
        "    plt.scatter(test_data, predictions, c=\"r\", label=\"Predictions\")\n",
        "    # Show the legend\n",
        "    plt.legend()\n"
      ],
      "metadata": {
        "id": "gCwHv8uKhpVH"
      },
      "execution_count": 12,
      "outputs": []
    },
    {
      "cell_type": "code",
      "source": [
        "plot_predictions(train_data=x_train,\n",
        "                     train_labels=y_train,\n",
        "                     test_data = x_test,\n",
        "                     test_labels=y_test,\n",
        "                     predictions=y_pred)"
      ],
      "metadata": {
        "colab": {
          "base_uri": "https://localhost:8080/",
          "height": 428
        },
        "id": "tJHXREImiW-e",
        "outputId": "34a1084b-eb9e-49f7-ce5a-9bcffd6940fc"
      },
      "execution_count": 13,
      "outputs": [
        {
          "output_type": "display_data",
          "data": {
            "text/plain": [
              "<Figure size 720x504 with 1 Axes>"
            ],
            "image/png": "[encoded data removed]"
          },
          "metadata": {
            "needs_background": "light"
          }
        }
      ]
    },
    {
      "cell_type": "markdown",
      "source": [
        "oops, our model performs too bad with a single layer and a neuron as we can see the gap in the above graph."
      ],
      "metadata": {
        "id": "zhyXEUu4jGjO"
      }
    },
    {
      "cell_type": "markdown",
      "source": [
        "## 2. Try building a neural network with 4 Dense layers and fitting it to your own regression dataset, how does it perform?"
      ],
      "metadata": {
        "id": "gyOnolqWjXQO"
      }
    },
    {
      "cell_type": "code",
      "source": [
        "# Now let's build another model with 4 layers\n",
        "\n",
        "#set random seed\n",
        "tf.random.set_seed(42)\n",
        "\n",
        "# create a model\n",
        "model_1 = tf.keras.Sequential([\n",
        "    tf.keras.layers.Dense(10, input_shape=[1], name=\"input_layer\"),\n",
        "    tf.keras.layers.Dense(10, name=\"layer_1\"),\n",
        "    tf.keras.layers.Dense(10, name=\"layer_2\"),\n",
        "    tf.keras.layers.Dense(10, name=\"layer_3\"),\n",
        "    tf.keras.layers.Dense(1, name=\"output_layer\")\n",
        "])\n",
        "\n",
        "# Compile the model\n",
        "model_1.compile(loss=tf.keras.losses.mae,\n",
        "                optimizer=tf.keras.optimizers.Adam(),\n",
        "                metrics=['mae'])\n",
        "\n",
        "# Fit the model\n",
        "model_1.fit(x_train, y_train, epochs=100)"
      ],
      "metadata": {
        "colab": {
          "base_uri": "https://localhost:8080/"
        },
        "id": "JDCxGMOCiro3",
        "outputId": "0ba0b925-2852-4200-adc0-12a9f0ce7145"
      },
      "execution_count": 14,
      "outputs": [
        {
          "output_type": "stream",
          "name": "stdout",
          "text": [
            "Epoch 1/100\n",
            "5/5 [==============================] - 0s 3ms/step - loss: 1025.9655 - mae: 1025.9655\n",
            "Epoch 2/100\n",
            "5/5 [==============================] - 0s 3ms/step - loss: 968.9095 - mae: 968.9095\n",
            "Epoch 3/100\n",
            "5/5 [==============================] - 0s 3ms/step - loss: 916.7286 - mae: 916.7286\n",
            "Epoch 4/100\n",
            "5/5 [==============================] - 0s 3ms/step - loss: 870.2539 - mae: 870.2539\n",
            "Epoch 5/100\n",
            "5/5 [==============================] - 0s 3ms/step - loss: 825.8322 - mae: 825.8322\n",
            "Epoch 6/100\n",
            "5/5 [==============================] - 0s 3ms/step - loss: 780.3269 - mae: 780.3269\n",
            "Epoch 7/100\n",
            "5/5 [==============================] - 0s 3ms/step - loss: 733.9410 - mae: 733.9410\n",
            "Epoch 8/100\n",
            "5/5 [==============================] - 0s 3ms/step - loss: 681.4362 - mae: 681.4362\n",
            "Epoch 9/100\n",
            "5/5 [==============================] - 0s 3ms/step - loss: 621.1309 - mae: 621.1309\n",
            "Epoch 10/100\n",
            "5/5 [==============================] - 0s 3ms/step - loss: 552.5629 - mae: 552.5629\n",
            "Epoch 11/100\n",
            "5/5 [==============================] - 0s 3ms/step - loss: 471.4010 - mae: 471.4010\n",
            "Epoch 12/100\n",
            "5/5 [==============================] - 0s 3ms/step - loss: 368.7447 - mae: 368.7447\n",
            "Epoch 13/100\n",
            "5/5 [==============================] - 0s 3ms/step - loss: 248.5953 - mae: 248.5953\n",
            "Epoch 14/100\n",
            "5/5 [==============================] - 0s 3ms/step - loss: 100.4134 - mae: 100.4134\n",
            "Epoch 15/100\n",
            "5/5 [==============================] - 0s 3ms/step - loss: 50.6179 - mae: 50.6179\n",
            "Epoch 16/100\n",
            "5/5 [==============================] - 0s 3ms/step - loss: 71.0975 - mae: 71.0975\n",
            "Epoch 17/100\n",
            "5/5 [==============================] - 0s 3ms/step - loss: 24.8862 - mae: 24.8862\n",
            "Epoch 18/100\n",
            "5/5 [==============================] - 0s 3ms/step - loss: 37.0088 - mae: 37.0088\n",
            "Epoch 19/100\n",
            "5/5 [==============================] - 0s 3ms/step - loss: 16.7538 - mae: 16.7538\n",
            "Epoch 20/100\n",
            "5/5 [==============================] - 0s 4ms/step - loss: 15.0139 - mae: 15.0139\n",
            "Epoch 21/100\n",
            "5/5 [==============================] - 0s 3ms/step - loss: 13.2943 - mae: 13.2943\n",
            "Epoch 22/100\n",
            "5/5 [==============================] - 0s 3ms/step - loss: 12.3506 - mae: 12.3506\n",
            "Epoch 23/100\n",
            "5/5 [==============================] - 0s 3ms/step - loss: 9.9031 - mae: 9.9031\n",
            "Epoch 24/100\n",
            "5/5 [==============================] - 0s 3ms/step - loss: 9.9634 - mae: 9.9634\n",
            "Epoch 25/100\n",
            "5/5 [==============================] - 0s 3ms/step - loss: 8.4572 - mae: 8.4572\n",
            "Epoch 26/100\n",
            "5/5 [==============================] - 0s 3ms/step - loss: 8.3381 - mae: 8.3381\n",
            "Epoch 27/100\n",
            "5/5 [==============================] - 0s 3ms/step - loss: 8.5566 - mae: 8.5566\n",
            "Epoch 28/100\n",
            "5/5 [==============================] - 0s 3ms/step - loss: 8.4175 - mae: 8.4175\n",
            "Epoch 29/100\n",
            "5/5 [==============================] - 0s 3ms/step - loss: 8.5792 - mae: 8.5792\n",
            "Epoch 30/100\n",
            "5/5 [==============================] - 0s 3ms/step - loss: 9.1203 - mae: 9.1203\n",
            "Epoch 31/100\n",
            "5/5 [==============================] - 0s 3ms/step - loss: 8.8675 - mae: 8.8675\n",
            "Epoch 32/100\n",
            "5/5 [==============================] - 0s 3ms/step - loss: 7.9589 - mae: 7.9589\n",
            "Epoch 33/100\n",
            "5/5 [==============================] - 0s 3ms/step - loss: 7.5990 - mae: 7.5990\n",
            "Epoch 34/100\n",
            "5/5 [==============================] - 0s 3ms/step - loss: 7.4955 - mae: 7.4955\n",
            "Epoch 35/100\n",
            "5/5 [==============================] - 0s 3ms/step - loss: 7.5613 - mae: 7.5613\n",
            "Epoch 36/100\n",
            "5/5 [==============================] - 0s 3ms/step - loss: 8.0015 - mae: 8.0015\n",
            "Epoch 37/100\n",
            "5/5 [==============================] - 0s 3ms/step - loss: 7.6765 - mae: 7.6765\n",
            "Epoch 38/100\n",
            "5/5 [==============================] - 0s 3ms/step - loss: 8.0904 - mae: 8.0904\n",
            "Epoch 39/100\n",
            "5/5 [==============================] - 0s 3ms/step - loss: 7.9633 - mae: 7.9633\n",
            "Epoch 40/100\n",
            "5/5 [==============================] - 0s 3ms/step - loss: 7.4866 - mae: 7.4866\n",
            "Epoch 41/100\n",
            "5/5 [==============================] - 0s 3ms/step - loss: 7.4437 - mae: 7.4437\n",
            "Epoch 42/100\n",
            "5/5 [==============================] - 0s 6ms/step - loss: 7.4033 - mae: 7.4033\n",
            "Epoch 43/100\n",
            "5/5 [==============================] - 0s 3ms/step - loss: 7.4123 - mae: 7.4123\n",
            "Epoch 44/100\n",
            "5/5 [==============================] - 0s 3ms/step - loss: 7.5754 - mae: 7.5754\n",
            "Epoch 45/100\n",
            "5/5 [==============================] - 0s 3ms/step - loss: 7.7944 - mae: 7.7944\n",
            "Epoch 46/100\n",
            "5/5 [==============================] - 0s 3ms/step - loss: 7.2680 - mae: 7.2680\n",
            "Epoch 47/100\n",
            "5/5 [==============================] - 0s 3ms/step - loss: 7.2148 - mae: 7.2148\n",
            "Epoch 48/100\n",
            "5/5 [==============================] - 0s 3ms/step - loss: 7.1007 - mae: 7.1007\n",
            "Epoch 49/100\n",
            "5/5 [==============================] - 0s 4ms/step - loss: 7.1431 - mae: 7.1431\n",
            "Epoch 50/100\n",
            "5/5 [==============================] - 0s 3ms/step - loss: 7.3426 - mae: 7.3426\n",
            "Epoch 51/100\n",
            "5/5 [==============================] - 0s 3ms/step - loss: 7.1865 - mae: 7.1865\n",
            "Epoch 52/100\n",
            "5/5 [==============================] - 0s 3ms/step - loss: 7.2116 - mae: 7.2116\n",
            "Epoch 53/100\n",
            "5/5 [==============================] - 0s 3ms/step - loss: 7.0658 - mae: 7.0658\n",
            "Epoch 54/100\n",
            "5/5 [==============================] - 0s 3ms/step - loss: 7.1627 - mae: 7.1627\n",
            "Epoch 55/100\n",
            "5/5 [==============================] - 0s 3ms/step - loss: 7.1347 - mae: 7.1347\n",
            "Epoch 56/100\n",
            "5/5 [==============================] - 0s 3ms/step - loss: 7.4335 - mae: 7.4335\n",
            "Epoch 57/100\n",
            "5/5 [==============================] - 0s 3ms/step - loss: 7.2463 - mae: 7.2463\n",
            "Epoch 58/100\n",
            "5/5 [==============================] - 0s 3ms/step - loss: 8.9944 - mae: 8.9944\n",
            "Epoch 59/100\n",
            "5/5 [==============================] - 0s 3ms/step - loss: 8.3732 - mae: 8.3732\n",
            "Epoch 60/100\n",
            "5/5 [==============================] - 0s 3ms/step - loss: 7.7274 - mae: 7.7274\n",
            "Epoch 61/100\n",
            "5/5 [==============================] - 0s 4ms/step - loss: 8.5391 - mae: 8.5391\n",
            "Epoch 62/100\n",
            "5/5 [==============================] - 0s 3ms/step - loss: 8.1463 - mae: 8.1463\n",
            "Epoch 63/100\n",
            "5/5 [==============================] - 0s 3ms/step - loss: 7.5056 - mae: 7.5056\n",
            "Epoch 64/100\n",
            "5/5 [==============================] - 0s 3ms/step - loss: 8.0958 - mae: 8.0958\n",
            "Epoch 65/100\n",
            "5/5 [==============================] - 0s 3ms/step - loss: 6.6504 - mae: 6.6504\n",
            "Epoch 66/100\n",
            "5/5 [==============================] - 0s 3ms/step - loss: 6.6933 - mae: 6.6933\n",
            "Epoch 67/100\n",
            "5/5 [==============================] - 0s 3ms/step - loss: 6.8519 - mae: 6.8519\n",
            "Epoch 68/100\n",
            "5/5 [==============================] - 0s 3ms/step - loss: 7.0323 - mae: 7.0323\n",
            "Epoch 69/100\n",
            "5/5 [==============================] - 0s 3ms/step - loss: 6.8500 - mae: 6.8500\n",
            "Epoch 70/100\n",
            "5/5 [==============================] - 0s 3ms/step - loss: 6.6239 - mae: 6.6239\n",
            "Epoch 71/100\n",
            "5/5 [==============================] - 0s 3ms/step - loss: 7.0511 - mae: 7.0511\n",
            "Epoch 72/100\n",
            "5/5 [==============================] - 0s 3ms/step - loss: 6.9732 - mae: 6.9732\n",
            "Epoch 73/100\n",
            "5/5 [==============================] - 0s 3ms/step - loss: 6.5276 - mae: 6.5276\n",
            "Epoch 74/100\n",
            "5/5 [==============================] - 0s 3ms/step - loss: 6.5227 - mae: 6.5227\n",
            "Epoch 75/100\n",
            "5/5 [==============================] - 0s 3ms/step - loss: 6.9027 - mae: 6.9027\n",
            "Epoch 76/100\n",
            "5/5 [==============================] - 0s 3ms/step - loss: 6.6745 - mae: 6.6745\n",
            "Epoch 77/100\n",
            "5/5 [==============================] - 0s 3ms/step - loss: 6.4375 - mae: 6.4375\n",
            "Epoch 78/100\n",
            "5/5 [==============================] - 0s 3ms/step - loss: 7.0870 - mae: 7.0870\n",
            "Epoch 79/100\n",
            "5/5 [==============================] - 0s 3ms/step - loss: 6.9674 - mae: 6.9674\n",
            "Epoch 80/100\n",
            "5/5 [==============================] - 0s 3ms/step - loss: 7.5756 - mae: 7.5756\n",
            "Epoch 81/100\n",
            "5/5 [==============================] - 0s 3ms/step - loss: 7.4751 - mae: 7.4751\n",
            "Epoch 82/100\n",
            "5/5 [==============================] - 0s 3ms/step - loss: 7.7250 - mae: 7.7250\n",
            "Epoch 83/100\n",
            "5/5 [==============================] - 0s 3ms/step - loss: 7.2699 - mae: 7.2699\n",
            "Epoch 84/100\n",
            "5/5 [==============================] - 0s 3ms/step - loss: 6.2027 - mae: 6.2027\n",
            "Epoch 85/100\n",
            "5/5 [==============================] - 0s 3ms/step - loss: 6.1162 - mae: 6.1162\n",
            "Epoch 86/100\n",
            "5/5 [==============================] - 0s 3ms/step - loss: 6.3395 - mae: 6.3395\n",
            "Epoch 87/100\n",
            "5/5 [==============================] - 0s 3ms/step - loss: 6.2871 - mae: 6.2871\n",
            "Epoch 88/100\n",
            "5/5 [==============================] - 0s 3ms/step - loss: 6.2068 - mae: 6.2068\n",
            "Epoch 89/100\n",
            "5/5 [==============================] - 0s 3ms/step - loss: 6.3426 - mae: 6.3426\n",
            "Epoch 90/100\n",
            "5/5 [==============================] - 0s 3ms/step - loss: 6.4069 - mae: 6.4069\n",
            "Epoch 91/100\n",
            "5/5 [==============================] - 0s 3ms/step - loss: 6.6533 - mae: 6.6533\n",
            "Epoch 92/100\n",
            "5/5 [==============================] - 0s 3ms/step - loss: 6.4413 - mae: 6.4413\n",
            "Epoch 93/100\n",
            "5/5 [==============================] - 0s 3ms/step - loss: 5.8736 - mae: 5.8736\n",
            "Epoch 94/100\n",
            "5/5 [==============================] - 0s 3ms/step - loss: 6.0323 - mae: 6.0323\n",
            "Epoch 95/100\n",
            "5/5 [==============================] - 0s 3ms/step - loss: 6.1752 - mae: 6.1752\n",
            "Epoch 96/100\n",
            "5/5 [==============================] - 0s 3ms/step - loss: 5.8960 - mae: 5.8960\n",
            "Epoch 97/100\n",
            "5/5 [==============================] - 0s 3ms/step - loss: 5.7985 - mae: 5.7985\n",
            "Epoch 98/100\n",
            "5/5 [==============================] - 0s 3ms/step - loss: 6.2899 - mae: 6.2899\n",
            "Epoch 99/100\n",
            "5/5 [==============================] - 0s 3ms/step - loss: 6.4303 - mae: 6.4303\n",
            "Epoch 100/100\n",
            "5/5 [==============================] - 0s 3ms/step - loss: 5.8836 - mae: 5.8836\n"
          ]
        },
        {
          "output_type": "execute_result",
          "data": {
            "text/plain": [
              "<keras.callbacks.History at 0x7fc12c2e3950>"
            ]
          },
          "metadata": {},
          "execution_count": 14
        }
      ]
    },
    {
      "cell_type": "code",
      "source": [
        "# Get model summary\n",
        "model_1.summary()"
      ],
      "metadata": {
        "colab": {
          "base_uri": "https://localhost:8080/"
        },
        "id": "bm0_dhlhkWSV",
        "outputId": "82567406-837b-48c0-9e6b-903a399e6f58"
      },
      "execution_count": 15,
      "outputs": [
        {
          "output_type": "stream",
          "name": "stdout",
          "text": [
            "Model: \"sequential_1\"\n",
            "_________________________________________________________________\n",
            " Layer (type)                Output Shape              Param #   \n",
            "=================================================================\n",
            " input_layer (Dense)         (None, 10)                20        \n",
            "                                                                 \n",
            " layer_1 (Dense)             (None, 10)                110       \n",
            "                                                                 \n",
            " layer_2 (Dense)             (None, 10)                110       \n",
            "                                                                 \n",
            " layer_3 (Dense)             (None, 10)                110       \n",
            "                                                                 \n",
            " output_layer (Dense)        (None, 1)                 11        \n",
            "                                                                 \n",
            "=================================================================\n",
            "Total params: 361\n",
            "Trainable params: 361\n",
            "Non-trainable params: 0\n",
            "_________________________________________________________________\n"
          ]
        }
      ]
    },
    {
      "cell_type": "code",
      "source": [
        "y_pred = model_1.predict(x_test)"
      ],
      "metadata": {
        "id": "AptQeFurlA0P"
      },
      "execution_count": 16,
      "outputs": []
    },
    {
      "cell_type": "code",
      "source": [
        "y_pred"
      ],
      "metadata": {
        "colab": {
          "base_uri": "https://localhost:8080/"
        },
        "id": "RE8g0RaFlHo9",
        "outputId": "f347b7f4-1446-48e8-a2f9-5f83fdba83bf"
      },
      "execution_count": 17,
      "outputs": [
        {
          "output_type": "execute_result",
          "data": {
            "text/plain": [
              "array([[1626.664 ],\n",
              "       [1636.7902],\n",
              "       [1646.9161],\n",
              "       [1657.0417],\n",
              "       [1667.1676],\n",
              "       [1677.2937],\n",
              "       [1687.4197],\n",
              "       [1697.5457],\n",
              "       [1707.6714],\n",
              "       [1717.7974],\n",
              "       [1727.9232],\n",
              "       [1738.0491],\n",
              "       [1748.175 ],\n",
              "       [1758.3009],\n",
              "       [1768.4271],\n",
              "       [1778.5529],\n",
              "       [1788.6788],\n",
              "       [1798.8049],\n",
              "       [1808.9307],\n",
              "       [1819.0568],\n",
              "       [1829.1825],\n",
              "       [1839.3085],\n",
              "       [1849.4343],\n",
              "       [1859.5603],\n",
              "       [1869.6862],\n",
              "       [1879.8121],\n",
              "       [1889.9381],\n",
              "       [1900.0638],\n",
              "       [1910.1901],\n",
              "       [1920.3159],\n",
              "       [1930.4419],\n",
              "       [1940.568 ],\n",
              "       [1950.6938],\n",
              "       [1960.8196],\n",
              "       [1970.9454],\n",
              "       [1981.0715],\n",
              "       [1991.1974],\n",
              "       [2001.3235],\n",
              "       [2011.4493],\n",
              "       [2021.5752]], dtype=float32)"
            ]
          },
          "metadata": {},
          "execution_count": 17
        }
      ]
    },
    {
      "cell_type": "code",
      "source": [
        "y_test"
      ],
      "metadata": {
        "colab": {
          "base_uri": "https://localhost:8080/"
        },
        "id": "RWyvYlCalJUn",
        "outputId": "1e58df97-ee74-43af-df2b-32ee2945a165"
      },
      "execution_count": 18,
      "outputs": [
        {
          "output_type": "execute_result",
          "data": {
            "text/plain": [
              "<tf.Tensor: shape=(40,), dtype=float32, numpy=\n",
              "array([1620., 1630., 1640., 1650., 1660., 1670., 1680., 1690., 1700.,\n",
              "       1710., 1720., 1730., 1740., 1750., 1760., 1770., 1780., 1790.,\n",
              "       1800., 1810., 1820., 1830., 1840., 1850., 1860., 1870., 1880.,\n",
              "       1890., 1900., 1910., 1920., 1930., 1940., 1950., 1960., 1970.,\n",
              "       1980., 1990., 2000., 2010.], dtype=float32)>"
            ]
          },
          "metadata": {},
          "execution_count": 18
        }
      ]
    },
    {
      "cell_type": "code",
      "source": [
        "plot_predictions(train_data=x_train,\n",
        "                 train_labels=y_train,\n",
        "                 test_data=x_test,\n",
        "                 test_labels=y_test,\n",
        "                 predictions=y_pred)"
      ],
      "metadata": {
        "colab": {
          "base_uri": "https://localhost:8080/",
          "height": 428
        },
        "id": "DLX5RLuklLIl",
        "outputId": "6bccc216-a7ef-488f-c84f-e02deeba20c9"
      },
      "execution_count": 19,
      "outputs": [
        {
          "output_type": "display_data",
          "data": {
            "text/plain": [
              "<Figure size 720x504 with 1 Axes>"
            ],
            "image/png": "[encoded data removed]"
          },
          "metadata": {
            "needs_background": "light"
          }
        }
      ]
    },
    {
      "cell_type": "markdown",
      "source": [
        "### Wow, see the improvemnt "
      ],
      "metadata": {
        "id": "NL_suCVSlkIl"
      }
    },
    {
      "cell_type": "code",
      "source": [
        "# Evaluate the model\n",
        "model_1.evaluate(x_test, y_test)"
      ],
      "metadata": {
        "colab": {
          "base_uri": "https://localhost:8080/"
        },
        "id": "8HKiozJIlhmv",
        "outputId": "6d290258-fb7b-49c4-c17d-ea32a7180d99"
      },
      "execution_count": 20,
      "outputs": [
        {
          "output_type": "stream",
          "name": "stdout",
          "text": [
            "2/2 [==============================] - 0s 6ms/step - loss: 9.1196 - mae: 9.1196\n"
          ]
        },
        {
          "output_type": "execute_result",
          "data": {
            "text/plain": [
              "[9.119607925415039, 9.119607925415039]"
            ]
          },
          "metadata": {},
          "execution_count": 20
        }
      ]
    },
    {
      "cell_type": "code",
      "source": [
        "model_1.predict([100.0]) # y=2x+20 -> y = 2*100+20 = 220"
      ],
      "metadata": {
        "colab": {
          "base_uri": "https://localhost:8080/"
        },
        "id": "PYnRivhdvCSk",
        "outputId": "f4a71eb9-93a7-44cd-84df-5aa573b24ed3"
      },
      "execution_count": 28,
      "outputs": [
        {
          "output_type": "execute_result",
          "data": {
            "text/plain": [
              "array([[209.0338]], dtype=float32)"
            ]
          },
          "metadata": {},
          "execution_count": 28
        }
      ]
    },
    {
      "cell_type": "code",
      "source": [
        "# Change y_pred to tensor\n",
        "tf.constant(y_pred)"
      ],
      "metadata": {
        "colab": {
          "base_uri": "https://localhost:8080/"
        },
        "id": "yP56V1PrvGaM",
        "outputId": "3b0ff94a-91d0-45eb-f455-5c8bf92924f9"
      },
      "execution_count": 29,
      "outputs": [
        {
          "output_type": "execute_result",
          "data": {
            "text/plain": [
              "<tf.Tensor: shape=(40, 1), dtype=float32, numpy=\n",
              "array([[1626.664 ],\n",
              "       [1636.7902],\n",
              "       [1646.9161],\n",
              "       [1657.0417],\n",
              "       [1667.1676],\n",
              "       [1677.2937],\n",
              "       [1687.4197],\n",
              "       [1697.5457],\n",
              "       [1707.6714],\n",
              "       [1717.7974],\n",
              "       [1727.9232],\n",
              "       [1738.0491],\n",
              "       [1748.175 ],\n",
              "       [1758.3009],\n",
              "       [1768.4271],\n",
              "       [1778.5529],\n",
              "       [1788.6788],\n",
              "       [1798.8049],\n",
              "       [1808.9307],\n",
              "       [1819.0568],\n",
              "       [1829.1825],\n",
              "       [1839.3085],\n",
              "       [1849.4343],\n",
              "       [1859.5603],\n",
              "       [1869.6862],\n",
              "       [1879.8121],\n",
              "       [1889.9381],\n",
              "       [1900.0638],\n",
              "       [1910.1901],\n",
              "       [1920.3159],\n",
              "       [1930.4419],\n",
              "       [1940.568 ],\n",
              "       [1950.6938],\n",
              "       [1960.8196],\n",
              "       [1970.9454],\n",
              "       [1981.0715],\n",
              "       [1991.1974],\n",
              "       [2001.3235],\n",
              "       [2011.4493],\n",
              "       [2021.5752]], dtype=float32)>"
            ]
          },
          "metadata": {},
          "execution_count": 29
        }
      ]
    },
    {
      "cell_type": "code",
      "source": [
        "y_test.shape, y_pred.shape"
      ],
      "metadata": {
        "colab": {
          "base_uri": "https://localhost:8080/"
        },
        "id": "RidwLOQIwPsJ",
        "outputId": "2332df74-a491-4270-e41b-b926a9869b8c"
      },
      "execution_count": 30,
      "outputs": [
        {
          "output_type": "execute_result",
          "data": {
            "text/plain": [
              "(TensorShape([40]), (40, 1))"
            ]
          },
          "metadata": {},
          "execution_count": 30
        }
      ]
    },
    {
      "cell_type": "code",
      "source": [
        "# Squeeze y_pred to the same shape as y_test to calculate mae nand mse\n",
        "y_pred = tf.squeeze(y_pred)"
      ],
      "metadata": {
        "id": "opBV6KzywZE1"
      },
      "execution_count": 31,
      "outputs": []
    },
    {
      "cell_type": "code",
      "source": [
        "# Calculate the mean absolute error (mae)\n",
        "mae = tf.metrics.mean_absolute_error(y_test, y_pred)\n",
        "mae"
      ],
      "metadata": {
        "colab": {
          "base_uri": "https://localhost:8080/"
        },
        "id": "PJMUVwftwrj8",
        "outputId": "101d1f46-a53c-4b35-e79f-a5be6f9280bd"
      },
      "execution_count": 32,
      "outputs": [
        {
          "output_type": "execute_result",
          "data": {
            "text/plain": [
              "<tf.Tensor: shape=(), dtype=float32, numpy=9.119608>"
            ]
          },
          "metadata": {},
          "execution_count": 32
        }
      ]
    },
    {
      "cell_type": "code",
      "source": [
        "# Calculate the mean square error (mse)\n",
        "mse = tf.metrics.mean_squared_error(y_test, y_pred)\n",
        "mse"
      ],
      "metadata": {
        "colab": {
          "base_uri": "https://localhost:8080/"
        },
        "id": "PS-CkZEbw5s8",
        "outputId": "ed69863b-b392-4130-b420-23fb936baa21"
      },
      "execution_count": 33,
      "outputs": [
        {
          "output_type": "execute_result",
          "data": {
            "text/plain": [
              "<tf.Tensor: shape=(), dtype=float32, numpy=85.28029>"
            ]
          },
          "metadata": {},
          "execution_count": 33
        }
      ]
    },
    {
      "cell_type": "code",
      "source": [
        "# It looks our model can still be improved, Let's build one more model \n",
        "# This time we only use three hidden layers each with a different neuron and train it for 50 more epochs.\n",
        "\n",
        "# set random seed\n",
        "tf.random.set_seed(42)\n",
        "\n",
        "# Create a model\n",
        "model_2 = tf.keras.Sequential([\n",
        "    tf.keras.layers.Dense(100, input_shape=[1], name=\"input_layer\"),\n",
        "    tf.keras.layers.Dense(50, name=\"layer_1\"),\n",
        "    tf.keras.layers.Dense(10, name=\"layer_2\"),\n",
        "    tf.keras.layers.Dense(1, name=\"output_layer\")\n",
        "])\n",
        "\n",
        "# Compile the model\n",
        "model_2.compile(loss=tf.keras.losses.mae,\n",
        "                optimizer=tf.keras.optimizers.Adam(),\n",
        "                metrics=[\"mae\"])\n",
        "\n",
        "# Fit the model\n",
        "history = model_2.fit(x_train, y_train, epochs=150)"
      ],
      "metadata": {
        "colab": {
          "base_uri": "https://localhost:8080/"
        },
        "id": "W1nLnolUxHwF",
        "outputId": "d60d8e69-4ef8-4872-8ce9-2f66a233d5bb"
      },
      "execution_count": 56,
      "outputs": [
        {
          "output_type": "stream",
          "name": "stdout",
          "text": [
            "Epoch 1/150\n",
            "5/5 [==============================] - 0s 5ms/step - loss: 609.6384 - mae: 609.6384\n",
            "Epoch 2/150\n",
            "5/5 [==============================] - 0s 5ms/step - loss: 385.9877 - mae: 385.9877\n",
            "Epoch 3/150\n",
            "5/5 [==============================] - 0s 5ms/step - loss: 117.8466 - mae: 117.8466\n",
            "Epoch 4/150\n",
            "5/5 [==============================] - 0s 4ms/step - loss: 101.5200 - mae: 101.5200\n",
            "Epoch 5/150\n",
            "5/5 [==============================] - 0s 7ms/step - loss: 66.4491 - mae: 66.4491\n",
            "Epoch 6/150\n",
            "5/5 [==============================] - 0s 4ms/step - loss: 53.5328 - mae: 53.5328\n",
            "Epoch 7/150\n",
            "5/5 [==============================] - 0s 4ms/step - loss: 32.1620 - mae: 32.1620\n",
            "Epoch 8/150\n",
            "5/5 [==============================] - 0s 4ms/step - loss: 25.8148 - mae: 25.8148\n",
            "Epoch 9/150\n",
            "5/5 [==============================] - 0s 4ms/step - loss: 17.2206 - mae: 17.2206\n",
            "Epoch 10/150\n",
            "5/5 [==============================] - 0s 4ms/step - loss: 18.7062 - mae: 18.7062\n",
            "Epoch 11/150\n",
            "5/5 [==============================] - 0s 4ms/step - loss: 15.3836 - mae: 15.3836\n",
            "Epoch 12/150\n",
            "5/5 [==============================] - 0s 4ms/step - loss: 14.2726 - mae: 14.2726\n",
            "Epoch 13/150\n",
            "5/5 [==============================] - 0s 4ms/step - loss: 9.7661 - mae: 9.7661\n",
            "Epoch 14/150\n",
            "5/5 [==============================] - 0s 4ms/step - loss: 8.6828 - mae: 8.6828\n",
            "Epoch 15/150\n",
            "5/5 [==============================] - 0s 4ms/step - loss: 8.9296 - mae: 8.9296\n",
            "Epoch 16/150\n",
            "5/5 [==============================] - 0s 4ms/step - loss: 9.7728 - mae: 9.7728\n",
            "Epoch 17/150\n",
            "5/5 [==============================] - 0s 5ms/step - loss: 10.4170 - mae: 10.4170\n",
            "Epoch 18/150\n",
            "5/5 [==============================] - 0s 4ms/step - loss: 9.9902 - mae: 9.9902\n",
            "Epoch 19/150\n",
            "5/5 [==============================] - 0s 4ms/step - loss: 9.1189 - mae: 9.1189\n",
            "Epoch 20/150\n",
            "5/5 [==============================] - 0s 6ms/step - loss: 9.8909 - mae: 9.8909\n",
            "Epoch 21/150\n",
            "5/5 [==============================] - 0s 4ms/step - loss: 8.6801 - mae: 8.6801\n",
            "Epoch 22/150\n",
            "5/5 [==============================] - 0s 4ms/step - loss: 8.9551 - mae: 8.9551\n",
            "Epoch 23/150\n",
            "5/5 [==============================] - 0s 4ms/step - loss: 8.7852 - mae: 8.7852\n",
            "Epoch 24/150\n",
            "5/5 [==============================] - 0s 4ms/step - loss: 9.1155 - mae: 9.1155\n",
            "Epoch 25/150\n",
            "5/5 [==============================] - 0s 4ms/step - loss: 8.5565 - mae: 8.5565\n",
            "Epoch 26/150\n",
            "5/5 [==============================] - 0s 4ms/step - loss: 8.0535 - mae: 8.0535\n",
            "Epoch 27/150\n",
            "5/5 [==============================] - 0s 4ms/step - loss: 8.0358 - mae: 8.0358\n",
            "Epoch 28/150\n",
            "5/5 [==============================] - 0s 4ms/step - loss: 7.7193 - mae: 7.7193\n",
            "Epoch 29/150\n",
            "5/5 [==============================] - 0s 4ms/step - loss: 8.4084 - mae: 8.4084\n",
            "Epoch 30/150\n",
            "5/5 [==============================] - 0s 4ms/step - loss: 7.8262 - mae: 7.8262\n",
            "Epoch 31/150\n",
            "5/5 [==============================] - 0s 4ms/step - loss: 8.2035 - mae: 8.2035\n",
            "Epoch 32/150\n",
            "5/5 [==============================] - 0s 5ms/step - loss: 7.5250 - mae: 7.5250\n",
            "Epoch 33/150\n",
            "5/5 [==============================] - 0s 4ms/step - loss: 7.5526 - mae: 7.5526\n",
            "Epoch 34/150\n",
            "5/5 [==============================] - 0s 4ms/step - loss: 7.5735 - mae: 7.5735\n",
            "Epoch 35/150\n",
            "5/5 [==============================] - 0s 4ms/step - loss: 7.3693 - mae: 7.3693\n",
            "Epoch 36/150\n",
            "5/5 [==============================] - 0s 6ms/step - loss: 8.9331 - mae: 8.9331\n",
            "Epoch 37/150\n",
            "5/5 [==============================] - 0s 6ms/step - loss: 8.2945 - mae: 8.2945\n",
            "Epoch 38/150\n",
            "5/5 [==============================] - 0s 7ms/step - loss: 7.4353 - mae: 7.4353\n",
            "Epoch 39/150\n",
            "5/5 [==============================] - 0s 7ms/step - loss: 7.3409 - mae: 7.3409\n",
            "Epoch 40/150\n",
            "5/5 [==============================] - 0s 7ms/step - loss: 7.3107 - mae: 7.3107\n",
            "Epoch 41/150\n",
            "5/5 [==============================] - 0s 7ms/step - loss: 7.3129 - mae: 7.3129\n",
            "Epoch 42/150\n",
            "5/5 [==============================] - 0s 7ms/step - loss: 8.3165 - mae: 8.3165\n",
            "Epoch 43/150\n",
            "5/5 [==============================] - 0s 6ms/step - loss: 7.4988 - mae: 7.4988\n",
            "Epoch 44/150\n",
            "5/5 [==============================] - 0s 6ms/step - loss: 7.2810 - mae: 7.2810\n",
            "Epoch 45/150\n",
            "5/5 [==============================] - 0s 7ms/step - loss: 8.4854 - mae: 8.4854\n",
            "Epoch 46/150\n",
            "5/5 [==============================] - 0s 9ms/step - loss: 7.4683 - mae: 7.4683\n",
            "Epoch 47/150\n",
            "5/5 [==============================] - 0s 10ms/step - loss: 8.8705 - mae: 8.8705\n",
            "Epoch 48/150\n",
            "5/5 [==============================] - 0s 4ms/step - loss: 8.2026 - mae: 8.2026\n",
            "Epoch 49/150\n",
            "5/5 [==============================] - 0s 4ms/step - loss: 8.4665 - mae: 8.4665\n",
            "Epoch 50/150\n",
            "5/5 [==============================] - 0s 4ms/step - loss: 8.5276 - mae: 8.5276\n",
            "Epoch 51/150\n",
            "5/5 [==============================] - 0s 6ms/step - loss: 10.1364 - mae: 10.1364\n",
            "Epoch 52/150\n",
            "5/5 [==============================] - 0s 4ms/step - loss: 8.0686 - mae: 8.0686\n",
            "Epoch 53/150\n",
            "5/5 [==============================] - 0s 3ms/step - loss: 6.9245 - mae: 6.9245\n",
            "Epoch 54/150\n",
            "5/5 [==============================] - 0s 3ms/step - loss: 7.9834 - mae: 7.9834\n",
            "Epoch 55/150\n",
            "5/5 [==============================] - 0s 3ms/step - loss: 7.7540 - mae: 7.7540\n",
            "Epoch 56/150\n",
            "5/5 [==============================] - 0s 4ms/step - loss: 6.9812 - mae: 6.9812\n",
            "Epoch 57/150\n",
            "5/5 [==============================] - 0s 3ms/step - loss: 7.0918 - mae: 7.0918\n",
            "Epoch 58/150\n",
            "5/5 [==============================] - 0s 3ms/step - loss: 7.4710 - mae: 7.4710\n",
            "Epoch 59/150\n",
            "5/5 [==============================] - 0s 3ms/step - loss: 7.7516 - mae: 7.7516\n",
            "Epoch 60/150\n",
            "5/5 [==============================] - 0s 3ms/step - loss: 8.0261 - mae: 8.0261\n",
            "Epoch 61/150\n",
            "5/5 [==============================] - 0s 3ms/step - loss: 9.8165 - mae: 9.8165\n",
            "Epoch 62/150\n",
            "5/5 [==============================] - 0s 3ms/step - loss: 9.7037 - mae: 9.7037\n",
            "Epoch 63/150\n",
            "5/5 [==============================] - 0s 3ms/step - loss: 9.8557 - mae: 9.8557\n",
            "Epoch 64/150\n",
            "5/5 [==============================] - 0s 3ms/step - loss: 8.7386 - mae: 8.7386\n",
            "Epoch 65/150\n",
            "5/5 [==============================] - 0s 3ms/step - loss: 10.1532 - mae: 10.1532\n",
            "Epoch 66/150\n",
            "5/5 [==============================] - 0s 3ms/step - loss: 9.0688 - mae: 9.0688\n",
            "Epoch 67/150\n",
            "5/5 [==============================] - 0s 3ms/step - loss: 9.2727 - mae: 9.2727\n",
            "Epoch 68/150\n",
            "5/5 [==============================] - 0s 3ms/step - loss: 8.5941 - mae: 8.5941\n",
            "Epoch 69/150\n",
            "5/5 [==============================] - 0s 3ms/step - loss: 6.6560 - mae: 6.6560\n",
            "Epoch 70/150\n",
            "5/5 [==============================] - 0s 3ms/step - loss: 6.8317 - mae: 6.8317\n",
            "Epoch 71/150\n",
            "5/5 [==============================] - 0s 3ms/step - loss: 8.0877 - mae: 8.0877\n",
            "Epoch 72/150\n",
            "5/5 [==============================] - 0s 3ms/step - loss: 8.6754 - mae: 8.6754\n",
            "Epoch 73/150\n",
            "5/5 [==============================] - 0s 3ms/step - loss: 10.0824 - mae: 10.0824\n",
            "Epoch 74/150\n",
            "5/5 [==============================] - 0s 3ms/step - loss: 9.1780 - mae: 9.1780\n",
            "Epoch 75/150\n",
            "5/5 [==============================] - 0s 3ms/step - loss: 9.3175 - mae: 9.3175\n",
            "Epoch 76/150\n",
            "5/5 [==============================] - 0s 3ms/step - loss: 7.7381 - mae: 7.7381\n",
            "Epoch 77/150\n",
            "5/5 [==============================] - 0s 3ms/step - loss: 6.7777 - mae: 6.7777\n",
            "Epoch 78/150\n",
            "5/5 [==============================] - 0s 3ms/step - loss: 6.3259 - mae: 6.3259\n",
            "Epoch 79/150\n",
            "5/5 [==============================] - 0s 3ms/step - loss: 6.3037 - mae: 6.3037\n",
            "Epoch 80/150\n",
            "5/5 [==============================] - 0s 3ms/step - loss: 6.1645 - mae: 6.1645\n",
            "Epoch 81/150\n",
            "5/5 [==============================] - 0s 3ms/step - loss: 7.0136 - mae: 7.0136\n",
            "Epoch 82/150\n",
            "5/5 [==============================] - 0s 3ms/step - loss: 6.1661 - mae: 6.1661\n",
            "Epoch 83/150\n",
            "5/5 [==============================] - 0s 3ms/step - loss: 5.9474 - mae: 5.9474\n",
            "Epoch 84/150\n",
            "5/5 [==============================] - 0s 3ms/step - loss: 6.7194 - mae: 6.7194\n",
            "Epoch 85/150\n",
            "5/5 [==============================] - 0s 3ms/step - loss: 7.0724 - mae: 7.0724\n",
            "Epoch 86/150\n",
            "5/5 [==============================] - 0s 3ms/step - loss: 6.2910 - mae: 6.2910\n",
            "Epoch 87/150\n",
            "5/5 [==============================] - 0s 3ms/step - loss: 5.9702 - mae: 5.9702\n",
            "Epoch 88/150\n",
            "5/5 [==============================] - 0s 5ms/step - loss: 6.5780 - mae: 6.5780\n",
            "Epoch 89/150\n",
            "5/5 [==============================] - 0s 3ms/step - loss: 6.7684 - mae: 6.7684\n",
            "Epoch 90/150\n",
            "5/5 [==============================] - 0s 3ms/step - loss: 7.0271 - mae: 7.0271\n",
            "Epoch 91/150\n",
            "5/5 [==============================] - 0s 3ms/step - loss: 7.5142 - mae: 7.5142\n",
            "Epoch 92/150\n",
            "5/5 [==============================] - 0s 3ms/step - loss: 8.4275 - mae: 8.4275\n",
            "Epoch 93/150\n",
            "5/5 [==============================] - 0s 3ms/step - loss: 8.8984 - mae: 8.8984\n",
            "Epoch 94/150\n",
            "5/5 [==============================] - 0s 3ms/step - loss: 11.9260 - mae: 11.9260\n",
            "Epoch 95/150\n",
            "5/5 [==============================] - 0s 3ms/step - loss: 10.5189 - mae: 10.5189\n",
            "Epoch 96/150\n",
            "5/5 [==============================] - 0s 3ms/step - loss: 9.6742 - mae: 9.6742\n",
            "Epoch 97/150\n",
            "5/5 [==============================] - 0s 3ms/step - loss: 8.8678 - mae: 8.8678\n",
            "Epoch 98/150\n",
            "5/5 [==============================] - 0s 3ms/step - loss: 6.7661 - mae: 6.7661\n",
            "Epoch 99/150\n",
            "5/5 [==============================] - 0s 3ms/step - loss: 6.9412 - mae: 6.9412\n",
            "Epoch 100/150\n",
            "5/5 [==============================] - 0s 3ms/step - loss: 6.1463 - mae: 6.1463\n",
            "Epoch 101/150\n",
            "5/5 [==============================] - 0s 3ms/step - loss: 5.8774 - mae: 5.8774\n",
            "Epoch 102/150\n",
            "5/5 [==============================] - 0s 3ms/step - loss: 5.8459 - mae: 5.8459\n",
            "Epoch 103/150\n",
            "5/5 [==============================] - 0s 4ms/step - loss: 6.3174 - mae: 6.3174\n",
            "Epoch 104/150\n",
            "5/5 [==============================] - 0s 3ms/step - loss: 5.6280 - mae: 5.6280\n",
            "Epoch 105/150\n",
            "5/5 [==============================] - 0s 3ms/step - loss: 6.0413 - mae: 6.0413\n",
            "Epoch 106/150\n",
            "5/5 [==============================] - 0s 3ms/step - loss: 5.8452 - mae: 5.8452\n",
            "Epoch 107/150\n",
            "5/5 [==============================] - 0s 3ms/step - loss: 6.3617 - mae: 6.3617\n",
            "Epoch 108/150\n",
            "5/5 [==============================] - 0s 3ms/step - loss: 9.0083 - mae: 9.0083\n",
            "Epoch 109/150\n",
            "5/5 [==============================] - 0s 3ms/step - loss: 6.0804 - mae: 6.0804\n",
            "Epoch 110/150\n",
            "5/5 [==============================] - 0s 3ms/step - loss: 5.8553 - mae: 5.8553\n",
            "Epoch 111/150\n",
            "5/5 [==============================] - 0s 3ms/step - loss: 6.4464 - mae: 6.4464\n",
            "Epoch 112/150\n",
            "5/5 [==============================] - 0s 3ms/step - loss: 5.2625 - mae: 5.2625\n",
            "Epoch 113/150\n",
            "5/5 [==============================] - 0s 3ms/step - loss: 5.0272 - mae: 5.0272\n",
            "Epoch 114/150\n",
            "5/5 [==============================] - 0s 3ms/step - loss: 6.3182 - mae: 6.3182\n",
            "Epoch 115/150\n",
            "5/5 [==============================] - 0s 3ms/step - loss: 8.1294 - mae: 8.1294\n",
            "Epoch 116/150\n",
            "5/5 [==============================] - 0s 4ms/step - loss: 7.2057 - mae: 7.2057\n",
            "Epoch 117/150\n",
            "5/5 [==============================] - 0s 3ms/step - loss: 5.7202 - mae: 5.7202\n",
            "Epoch 118/150\n",
            "5/5 [==============================] - 0s 3ms/step - loss: 4.8738 - mae: 4.8738\n",
            "Epoch 119/150\n",
            "5/5 [==============================] - 0s 3ms/step - loss: 6.3004 - mae: 6.3004\n",
            "Epoch 120/150\n",
            "5/5 [==============================] - 0s 3ms/step - loss: 5.8238 - mae: 5.8238\n",
            "Epoch 121/150\n",
            "5/5 [==============================] - 0s 3ms/step - loss: 9.3158 - mae: 9.3158\n",
            "Epoch 122/150\n",
            "5/5 [==============================] - 0s 3ms/step - loss: 7.6614 - mae: 7.6614\n",
            "Epoch 123/150\n",
            "5/5 [==============================] - 0s 3ms/step - loss: 6.2735 - mae: 6.2735\n",
            "Epoch 124/150\n",
            "5/5 [==============================] - 0s 3ms/step - loss: 4.6900 - mae: 4.6900\n",
            "Epoch 125/150\n",
            "5/5 [==============================] - 0s 3ms/step - loss: 4.4277 - mae: 4.4277\n",
            "Epoch 126/150\n",
            "5/5 [==============================] - 0s 3ms/step - loss: 4.9942 - mae: 4.9942\n",
            "Epoch 127/150\n",
            "5/5 [==============================] - 0s 3ms/step - loss: 4.8615 - mae: 4.8615\n",
            "Epoch 128/150\n",
            "5/5 [==============================] - 0s 3ms/step - loss: 5.8026 - mae: 5.8026\n",
            "Epoch 129/150\n",
            "5/5 [==============================] - 0s 3ms/step - loss: 4.5633 - mae: 4.5633\n",
            "Epoch 130/150\n",
            "5/5 [==============================] - 0s 3ms/step - loss: 4.4658 - mae: 4.4658\n",
            "Epoch 131/150\n",
            "5/5 [==============================] - 0s 4ms/step - loss: 6.4027 - mae: 6.4027\n",
            "Epoch 132/150\n",
            "5/5 [==============================] - 0s 3ms/step - loss: 10.1749 - mae: 10.1749\n",
            "Epoch 133/150\n",
            "5/5 [==============================] - 0s 3ms/step - loss: 7.6458 - mae: 7.6458\n",
            "Epoch 134/150\n",
            "5/5 [==============================] - 0s 3ms/step - loss: 11.8539 - mae: 11.8539\n",
            "Epoch 135/150\n",
            "5/5 [==============================] - 0s 3ms/step - loss: 9.1671 - mae: 9.1671\n",
            "Epoch 136/150\n",
            "5/5 [==============================] - 0s 3ms/step - loss: 12.2639 - mae: 12.2639\n",
            "Epoch 137/150\n",
            "5/5 [==============================] - 0s 3ms/step - loss: 10.8001 - mae: 10.8001\n",
            "Epoch 138/150\n",
            "5/5 [==============================] - 0s 3ms/step - loss: 9.4454 - mae: 9.4454\n",
            "Epoch 139/150\n",
            "5/5 [==============================] - 0s 4ms/step - loss: 13.3288 - mae: 13.3288\n",
            "Epoch 140/150\n",
            "5/5 [==============================] - 0s 3ms/step - loss: 6.5287 - mae: 6.5287\n",
            "Epoch 141/150\n",
            "5/5 [==============================] - 0s 3ms/step - loss: 6.0764 - mae: 6.0764\n",
            "Epoch 142/150\n",
            "5/5 [==============================] - 0s 3ms/step - loss: 4.6411 - mae: 4.6411\n",
            "Epoch 143/150\n",
            "5/5 [==============================] - 0s 3ms/step - loss: 4.6132 - mae: 4.6132\n",
            "Epoch 144/150\n",
            "5/5 [==============================] - 0s 3ms/step - loss: 4.8010 - mae: 4.8010\n",
            "Epoch 145/150\n",
            "5/5 [==============================] - 0s 3ms/step - loss: 4.2555 - mae: 4.2555\n",
            "Epoch 146/150\n",
            "5/5 [==============================] - 0s 3ms/step - loss: 5.9794 - mae: 5.9794\n",
            "Epoch 147/150\n",
            "5/5 [==============================] - 0s 6ms/step - loss: 5.5533 - mae: 5.5533\n",
            "Epoch 148/150\n",
            "5/5 [==============================] - 0s 3ms/step - loss: 4.6651 - mae: 4.6651\n",
            "Epoch 149/150\n",
            "5/5 [==============================] - 0s 3ms/step - loss: 3.8018 - mae: 3.8018\n",
            "Epoch 150/150\n",
            "5/5 [==============================] - 0s 3ms/step - loss: 4.1696 - mae: 4.1696\n"
          ]
        }
      ]
    },
    {
      "cell_type": "code",
      "source": [
        "# Plot history training curve\n",
        "pd.DataFrame(history.history).plot()\n",
        "plt.title(\"Loss\")\n",
        "plt.xlabel(\"epochs\")"
      ],
      "metadata": {
        "colab": {
          "base_uri": "https://localhost:8080/",
          "height": 313
        },
        "id": "wW-uUSoW0s3f",
        "outputId": "79d07514-f9b9-4381-b7ba-d67b235eae5b"
      },
      "execution_count": 57,
      "outputs": [
        {
          "output_type": "execute_result",
          "data": {
            "text/plain": [
              "Text(0.5, 0, 'epochs')"
            ]
          },
          "metadata": {},
          "execution_count": 57
        },
        {
          "output_type": "display_data",
          "data": {
            "text/plain": [
              "<Figure size 432x288 with 1 Axes>"
            ],
            "image/png": "[encoded data removed]"
          },
          "metadata": {
            "needs_background": "light"
          }
        }
      ]
    },
    {
      "cell_type": "code",
      "source": [
        "# Evaluate the model on the test dataset\n",
        "model_2.evaluate(x_test, y_test)"
      ],
      "metadata": {
        "colab": {
          "base_uri": "https://localhost:8080/"
        },
        "id": "UNaacKRL4Fq4",
        "outputId": "53a8839c-77c2-4b84-ffbd-e243605cff73"
      },
      "execution_count": 61,
      "outputs": [
        {
          "output_type": "stream",
          "name": "stdout",
          "text": [
            "2/2 [==============================] - 1s 7ms/step - loss: 5.1088 - mae: 5.1088\n"
          ]
        },
        {
          "output_type": "execute_result",
          "data": {
            "text/plain": [
              "[5.10882568359375, 5.10882568359375]"
            ]
          },
          "metadata": {},
          "execution_count": 61
        }
      ]
    },
    {
      "cell_type": "code",
      "source": [
        "y_pred = model_2.predict(x_test)\n",
        "y_pred"
      ],
      "metadata": {
        "colab": {
          "base_uri": "https://localhost:8080/"
        },
        "id": "2gE_i26y6Hvh",
        "outputId": "3bc3e3aa-e783-479b-a3ed-c3e141d9baca"
      },
      "execution_count": 62,
      "outputs": [
        {
          "output_type": "execute_result",
          "data": {
            "text/plain": [
              "array([[1614.5634],\n",
              "       [1624.5801],\n",
              "       [1634.5969],\n",
              "       [1644.6138],\n",
              "       [1654.6306],\n",
              "       [1664.6475],\n",
              "       [1674.6643],\n",
              "       [1684.681 ],\n",
              "       [1694.6978],\n",
              "       [1704.7146],\n",
              "       [1714.7314],\n",
              "       [1724.7483],\n",
              "       [1734.7653],\n",
              "       [1744.782 ],\n",
              "       [1754.7988],\n",
              "       [1764.8156],\n",
              "       [1774.8324],\n",
              "       [1784.8494],\n",
              "       [1794.866 ],\n",
              "       [1804.8828],\n",
              "       [1814.8994],\n",
              "       [1824.9163],\n",
              "       [1834.9331],\n",
              "       [1844.95  ],\n",
              "       [1854.9669],\n",
              "       [1864.9839],\n",
              "       [1875.0005],\n",
              "       [1885.0173],\n",
              "       [1895.0342],\n",
              "       [1905.0508],\n",
              "       [1915.0676],\n",
              "       [1925.0845],\n",
              "       [1935.1012],\n",
              "       [1945.118 ],\n",
              "       [1955.1349],\n",
              "       [1965.1516],\n",
              "       [1975.1685],\n",
              "       [1985.1854],\n",
              "       [1995.2021],\n",
              "       [2005.219 ]], dtype=float32)"
            ]
          },
          "metadata": {},
          "execution_count": 62
        }
      ]
    },
    {
      "cell_type": "code",
      "source": [
        "y_test"
      ],
      "metadata": {
        "colab": {
          "base_uri": "https://localhost:8080/"
        },
        "id": "Vy0KCXdb6R0o",
        "outputId": "30c17b6c-e65e-437b-b17f-1e944b8adb79"
      },
      "execution_count": 63,
      "outputs": [
        {
          "output_type": "execute_result",
          "data": {
            "text/plain": [
              "<tf.Tensor: shape=(40,), dtype=float32, numpy=\n",
              "array([1620., 1630., 1640., 1650., 1660., 1670., 1680., 1690., 1700.,\n",
              "       1710., 1720., 1730., 1740., 1750., 1760., 1770., 1780., 1790.,\n",
              "       1800., 1810., 1820., 1830., 1840., 1850., 1860., 1870., 1880.,\n",
              "       1890., 1900., 1910., 1920., 1930., 1940., 1950., 1960., 1970.,\n",
              "       1980., 1990., 2000., 2010.], dtype=float32)>"
            ]
          },
          "metadata": {},
          "execution_count": 63
        }
      ]
    },
    {
      "cell_type": "code",
      "source": [
        "plot_predictions(train_data=x_train,\n",
        "                train_labels=y_train,\n",
        "                test_data=x_test,\n",
        "                test_labels=y_test,\n",
        "                predictions=y_pred)"
      ],
      "metadata": {
        "colab": {
          "base_uri": "https://localhost:8080/",
          "height": 428
        },
        "id": "yIqES9Mz6V6Q",
        "outputId": "830688a9-80ab-4362-9f57-630dd3530e5d"
      },
      "execution_count": 65,
      "outputs": [
        {
          "output_type": "display_data",
          "data": {
            "text/plain": [
              "<Figure size 720x504 with 1 Axes>"
            ],
            "image/png": "[encoded data removed]"
          },
          "metadata": {
            "needs_background": "light"
          }
        }
      ]
    },
    {
      "cell_type": "code",
      "source": [
        "# Calciulate the mae and mse of mode_2\n",
        "mae_2 = tf.metrics.mean_absolute_error(y_test, tf.squeeze(y_pred))\n",
        "mse_2 = tf.metrics.mean_squared_error(y_test, tf.squeeze(y_pred))\n",
        "mae_2, mse_2"
      ],
      "metadata": {
        "colab": {
          "base_uri": "https://localhost:8080/"
        },
        "id": "EptNgavT7LlY",
        "outputId": "1da7dd2d-50d5-440e-c6cc-9da047efe3f5"
      },
      "execution_count": 66,
      "outputs": [
        {
          "output_type": "execute_result",
          "data": {
            "text/plain": [
              "(<tf.Tensor: shape=(), dtype=float32, numpy=5.1088257>,\n",
              " <tf.Tensor: shape=(), dtype=float32, numpy=26.137753>)"
            ]
          },
          "metadata": {},
          "execution_count": 66
        }
      ]
    },
    {
      "cell_type": "markdown",
      "source": [
        "## 3. Try and improve the results we got on the insurance dataset, some things you might want to try include:\n",
        "* Building a larger model (how does one with 4 dense layers go?).\n",
        "* Increasing the number of units in each layer.\n",
        "* Lookup the documentation of Adam and find out what the first parameter is, what happens if you increase it by 10x?\n",
        "* What happens if you train for longer (say 300 epochs instead of 200)?"
      ],
      "metadata": {
        "id": "hkR69H7D8uD3"
      }
    },
    {
      "cell_type": "code",
      "source": [
        "import pandas as pd\n",
        "# Read the dataset\n",
        "data =pd.read_csv(\"https://raw.githubusercontent.com/stedy/Machine-Learning-with-R-datasets/master/insurance.csv\")\n",
        "data.head()"
      ],
      "metadata": {
        "colab": {
          "base_uri": "https://localhost:8080/",
          "height": 206
        },
        "id": "8KP8Jv3O8UT4",
        "outputId": "973402f6-27e8-4b9f-fb67-d10e29aeb462"
      },
      "execution_count": 2,
      "outputs": [
        {
          "output_type": "execute_result",
          "data": {
            "text/plain": [
              "   age     sex     bmi  children smoker     region      charges\n",
              "0   19  female  27.900         0    yes  southwest  16884.92400\n",
              "1   18    male  33.770         1     no  southeast   1725.55230\n",
              "2   28    male  33.000         3     no  southeast   4449.46200\n",
              "3   33    male  22.705         0     no  northwest  21984.47061\n",
              "4   32    male  28.880         0     no  northwest   3866.85520"
            ],
            "text/html": [
              "\n",
              "  <div id=\"df-5a2875cd-91ac-4662-a3d5-2ae2cee8c97e\">\n",
              "    <div class=\"colab-df-container\">\n",
              "      <div>\n",
              "<style scoped>\n",
              "    .dataframe tbody tr th:only-of-type {\n",
              "        vertical-align: middle;\n",
              "    }\n",
              "\n",
              "    .dataframe tbody tr th {\n",
              "        vertical-align: top;\n",
              "    }\n",
              "\n",
              "    .dataframe thead th {\n",
              "        text-align: right;\n",
              "    }\n",
              "</style>\n",
              "<table border=\"1\" class=\"dataframe\">\n",
              "  <thead>\n",
              "    <tr style=\"text-align: right;\">\n",
              "      <th></th>\n",
              "      <th>age</th>\n",
              "      <th>sex</th>\n",
              "      <th>bmi</th>\n",
              "      <th>children</th>\n",
              "      <th>smoker</th>\n",
              "      <th>region</th>\n",
              "      <th>charges</th>\n",
              "    </tr>\n",
              "  </thead>\n",
              "  <tbody>\n",
              "    <tr>\n",
              "      <th>0</th>\n",
              "      <td>19</td>\n",
              "      <td>female</td>\n",
              "      <td>27.900</td>\n",
              "      <td>0</td>\n",
              "      <td>yes</td>\n",
              "      <td>southwest</td>\n",
              "      <td>16884.92400</td>\n",
              "    </tr>\n",
              "    <tr>\n",
              "      <th>1</th>\n",
              "      <td>18</td>\n",
              "      <td>male</td>\n",
              "      <td>33.770</td>\n",
              "      <td>1</td>\n",
              "      <td>no</td>\n",
              "      <td>southeast</td>\n",
              "      <td>1725.55230</td>\n",
              "    </tr>\n",
              "    <tr>\n",
              "      <th>2</th>\n",
              "      <td>28</td>\n",
              "      <td>male</td>\n",
              "      <td>33.000</td>\n",
              "      <td>3</td>\n",
              "      <td>no</td>\n",
              "      <td>southeast</td>\n",
              "      <td>4449.46200</td>\n",
              "    </tr>\n",
              "    <tr>\n",
              "      <th>3</th>\n",
              "      <td>33</td>\n",
              "      <td>male</td>\n",
              "      <td>22.705</td>\n",
              "      <td>0</td>\n",
              "      <td>no</td>\n",
              "      <td>northwest</td>\n",
              "      <td>21984.47061</td>\n",
              "    </tr>\n",
              "    <tr>\n",
              "      <th>4</th>\n",
              "      <td>32</td>\n",
              "      <td>male</td>\n",
              "      <td>28.880</td>\n",
              "      <td>0</td>\n",
              "      <td>no</td>\n",
              "      <td>northwest</td>\n",
              "      <td>3866.85520</td>\n",
              "    </tr>\n",
              "  </tbody>\n",
              "</table>\n",
              "</div>\n",
              "      <button class=\"colab-df-convert\" onclick=\"convertToInteractive('df-5a2875cd-91ac-4662-a3d5-2ae2cee8c97e')\"\n",
              "              title=\"Convert this dataframe to an interactive table.\"\n",
              "              style=\"display:none;\">\n",
              "        \n",
              "  <svg xmlns=\"http://www.w3.org/2000/svg\" height=\"24px\"viewBox=\"0 0 24 24\"\n",
              "       width=\"24px\">\n",
              "    <path d=\"M0 0h24v24H0V0z\" fill=\"none\"/>\n",
              "    <path d=\"M18.56 5.44l.94 2.06.94-2.06 2.06-.94-2.06-.94-.94-2.06-.94 2.06-2.06.94zm-11 1L8.5 8.5l.94-2.06 2.06-.94-2.06-.94L8.5 2.5l-.94 2.06-2.06.94zm10 10l.94 2.06.94-2.06 2.06-.94-2.06-.94-.94-2.06-.94 2.06-2.06.94z\"/><path d=\"M17.41 7.96l-1.37-1.37c-.4-.4-.92-.59-1.43-.59-.52 0-1.04.2-1.43.59L10.3 9.45l-7.72 7.72c-.78.78-.78 2.05 0 2.83L4 21.41c.39.39.9.59 1.41.59.51 0 1.02-.2 1.41-.59l7.78-7.78 2.81-2.81c.8-.78.8-2.07 0-2.86zM5.41 20L4 18.59l7.72-7.72 1.47 1.35L5.41 20z\"/>\n",
              "  </svg>\n",
              "      </button>\n",
              "      \n",
              "  <style>\n",
              "    .colab-df-container {\n",
              "      display:flex;\n",
              "      flex-wrap:wrap;\n",
              "      gap: 12px;\n",
              "    }\n",
              "\n",
              "    .colab-df-convert {\n",
              "      background-color: #E8F0FE;\n",
              "      border: none;\n",
              "      border-radius: 50%;\n",
              "      cursor: pointer;\n",
              "      display: none;\n",
              "      fill: #1967D2;\n",
              "      height: 32px;\n",
              "      padding: 0 0 0 0;\n",
              "      width: 32px;\n",
              "    }\n",
              "\n",
              "    .colab-df-convert:hover {\n",
              "      background-color: #E2EBFA;\n",
              "      box-shadow: 0px 1px 2px rgba(60, 64, 67, 0.3), 0px 1px 3px 1px rgba(60, 64, 67, 0.15);\n",
              "      fill: #174EA6;\n",
              "    }\n",
              "\n",
              "    [theme=dark] .colab-df-convert {\n",
              "      background-color: #3B4455;\n",
              "      fill: #D2E3FC;\n",
              "    }\n",
              "\n",
              "    [theme=dark] .colab-df-convert:hover {\n",
              "      background-color: #434B5C;\n",
              "      box-shadow: 0px 1px 3px 1px rgba(0, 0, 0, 0.15);\n",
              "      filter: drop-shadow(0px 1px 2px rgba(0, 0, 0, 0.3));\n",
              "      fill: #FFFFFF;\n",
              "    }\n",
              "  </style>\n",
              "\n",
              "      <script>\n",
              "        const buttonEl =\n",
              "          document.querySelector('#df-5a2875cd-91ac-4662-a3d5-2ae2cee8c97e button.colab-df-convert');\n",
              "        buttonEl.style.display =\n",
              "          google.colab.kernel.accessAllowed ? 'block' : 'none';\n",
              "\n",
              "        async function convertToInteractive(key) {\n",
              "          const element = document.querySelector('#df-5a2875cd-91ac-4662-a3d5-2ae2cee8c97e');\n",
              "          const dataTable =\n",
              "            await google.colab.kernel.invokeFunction('convertToInteractive',\n",
              "                                                     [key], {});\n",
              "          if (!dataTable) return;\n",
              "\n",
              "          const docLinkHtml = 'Like what you see? Visit the ' +\n",
              "            '<a target=\"_blank\" href=https://colab.research.google.com/notebooks/data_table.ipynb>data table notebook</a>'\n",
              "            + ' to learn more about interactive tables.';\n",
              "          element.innerHTML = '';\n",
              "          dataTable['output_type'] = 'display_data';\n",
              "          await google.colab.output.renderOutput(dataTable, element);\n",
              "          const docLink = document.createElement('div');\n",
              "          docLink.innerHTML = docLinkHtml;\n",
              "          element.appendChild(docLink);\n",
              "        }\n",
              "      </script>\n",
              "    </div>\n",
              "  </div>\n",
              "  "
            ]
          },
          "metadata": {},
          "execution_count": 2
        }
      ]
    },
    {
      "cell_type": "code",
      "source": [
        "data_one_hot = pd.get_dummies(data)\n",
        "data_one_hot.head()"
      ],
      "metadata": {
        "colab": {
          "base_uri": "https://localhost:8080/",
          "height": 270
        },
        "id": "CyvrE1gh9xaz",
        "outputId": "4a1ff51c-de3c-476b-e855-6b76608e7742"
      },
      "execution_count": 3,
      "outputs": [
        {
          "output_type": "execute_result",
          "data": {
            "text/plain": [
              "   age     bmi  children      charges  sex_female  sex_male  smoker_no  \\\n",
              "0   19  27.900         0  16884.92400           1         0          0   \n",
              "1   18  33.770         1   1725.55230           0         1          1   \n",
              "2   28  33.000         3   4449.46200           0         1          1   \n",
              "3   33  22.705         0  21984.47061           0         1          1   \n",
              "4   32  28.880         0   3866.85520           0         1          1   \n",
              "\n",
              "   smoker_yes  region_northeast  region_northwest  region_southeast  \\\n",
              "0           1                 0                 0                 0   \n",
              "1           0                 0                 0                 1   \n",
              "2           0                 0                 0                 1   \n",
              "3           0                 0                 1                 0   \n",
              "4           0                 0                 1                 0   \n",
              "\n",
              "   region_southwest  \n",
              "0                 1  \n",
              "1                 0  \n",
              "2                 0  \n",
              "3                 0  \n",
              "4                 0  "
            ],
            "text/html": [
              "\n",
              "  <div id=\"df-097d5534-b505-4eab-a1fc-e73f40a38781\">\n",
              "    <div class=\"colab-df-container\">\n",
              "      <div>\n",
              "<style scoped>\n",
              "    .dataframe tbody tr th:only-of-type {\n",
              "        vertical-align: middle;\n",
              "    }\n",
              "\n",
              "    .dataframe tbody tr th {\n",
              "        vertical-align: top;\n",
              "    }\n",
              "\n",
              "    .dataframe thead th {\n",
              "        text-align: right;\n",
              "    }\n",
              "</style>\n",
              "<table border=\"1\" class=\"dataframe\">\n",
              "  <thead>\n",
              "    <tr style=\"text-align: right;\">\n",
              "      <th></th>\n",
              "      <th>age</th>\n",
              "      <th>bmi</th>\n",
              "      <th>children</th>\n",
              "      <th>charges</th>\n",
              "      <th>sex_female</th>\n",
              "      <th>sex_male</th>\n",
              "      <th>smoker_no</th>\n",
              "      <th>smoker_yes</th>\n",
              "      <th>region_northeast</th>\n",
              "      <th>region_northwest</th>\n",
              "      <th>region_southeast</th>\n",
              "      <th>region_southwest</th>\n",
              "    </tr>\n",
              "  </thead>\n",
              "  <tbody>\n",
              "    <tr>\n",
              "      <th>0</th>\n",
              "      <td>19</td>\n",
              "      <td>27.900</td>\n",
              "      <td>0</td>\n",
              "      <td>16884.92400</td>\n",
              "      <td>1</td>\n",
              "      <td>0</td>\n",
              "      <td>0</td>\n",
              "      <td>1</td>\n",
              "      <td>0</td>\n",
              "      <td>0</td>\n",
              "      <td>0</td>\n",
              "      <td>1</td>\n",
              "    </tr>\n",
              "    <tr>\n",
              "      <th>1</th>\n",
              "      <td>18</td>\n",
              "      <td>33.770</td>\n",
              "      <td>1</td>\n",
              "      <td>1725.55230</td>\n",
              "      <td>0</td>\n",
              "      <td>1</td>\n",
              "      <td>1</td>\n",
              "      <td>0</td>\n",
              "      <td>0</td>\n",
              "      <td>0</td>\n",
              "      <td>1</td>\n",
              "      <td>0</td>\n",
              "    </tr>\n",
              "    <tr>\n",
              "      <th>2</th>\n",
              "      <td>28</td>\n",
              "      <td>33.000</td>\n",
              "      <td>3</td>\n",
              "      <td>4449.46200</td>\n",
              "      <td>0</td>\n",
              "      <td>1</td>\n",
              "      <td>1</td>\n",
              "      <td>0</td>\n",
              "      <td>0</td>\n",
              "      <td>0</td>\n",
              "      <td>1</td>\n",
              "      <td>0</td>\n",
              "    </tr>\n",
              "    <tr>\n",
              "      <th>3</th>\n",
              "      <td>33</td>\n",
              "      <td>22.705</td>\n",
              "      <td>0</td>\n",
              "      <td>21984.47061</td>\n",
              "      <td>0</td>\n",
              "      <td>1</td>\n",
              "      <td>1</td>\n",
              "      <td>0</td>\n",
              "      <td>0</td>\n",
              "      <td>1</td>\n",
              "      <td>0</td>\n",
              "      <td>0</td>\n",
              "    </tr>\n",
              "    <tr>\n",
              "      <th>4</th>\n",
              "      <td>32</td>\n",
              "      <td>28.880</td>\n",
              "      <td>0</td>\n",
              "      <td>3866.85520</td>\n",
              "      <td>0</td>\n",
              "      <td>1</td>\n",
              "      <td>1</td>\n",
              "      <td>0</td>\n",
              "      <td>0</td>\n",
              "      <td>1</td>\n",
              "      <td>0</td>\n",
              "      <td>0</td>\n",
              "    </tr>\n",
              "  </tbody>\n",
              "</table>\n",
              "</div>\n",
              "      <button class=\"colab-df-convert\" onclick=\"convertToInteractive('df-097d5534-b505-4eab-a1fc-e73f40a38781')\"\n",
              "              title=\"Convert this dataframe to an interactive table.\"\n",
              "              style=\"display:none;\">\n",
              "        \n",
              "  <svg xmlns=\"http://www.w3.org/2000/svg\" height=\"24px\"viewBox=\"0 0 24 24\"\n",
              "       width=\"24px\">\n",
              "    <path d=\"M0 0h24v24H0V0z\" fill=\"none\"/>\n",
              "    <path d=\"M18.56 5.44l.94 2.06.94-2.06 2.06-.94-2.06-.94-.94-2.06-.94 2.06-2.06.94zm-11 1L8.5 8.5l.94-2.06 2.06-.94-2.06-.94L8.5 2.5l-.94 2.06-2.06.94zm10 10l.94 2.06.94-2.06 2.06-.94-2.06-.94-.94-2.06-.94 2.06-2.06.94z\"/><path d=\"M17.41 7.96l-1.37-1.37c-.4-.4-.92-.59-1.43-.59-.52 0-1.04.2-1.43.59L10.3 9.45l-7.72 7.72c-.78.78-.78 2.05 0 2.83L4 21.41c.39.39.9.59 1.41.59.51 0 1.02-.2 1.41-.59l7.78-7.78 2.81-2.81c.8-.78.8-2.07 0-2.86zM5.41 20L4 18.59l7.72-7.72 1.47 1.35L5.41 20z\"/>\n",
              "  </svg>\n",
              "      </button>\n",
              "      \n",
              "  <style>\n",
              "    .colab-df-container {\n",
              "      display:flex;\n",
              "      flex-wrap:wrap;\n",
              "      gap: 12px;\n",
              "    }\n",
              "\n",
              "    .colab-df-convert {\n",
              "      background-color: #E8F0FE;\n",
              "      border: none;\n",
              "      border-radius: 50%;\n",
              "      cursor: pointer;\n",
              "      display: none;\n",
              "      fill: #1967D2;\n",
              "      height: 32px;\n",
              "      padding: 0 0 0 0;\n",
              "      width: 32px;\n",
              "    }\n",
              "\n",
              "    .colab-df-convert:hover {\n",
              "      background-color: #E2EBFA;\n",
              "      box-shadow: 0px 1px 2px rgba(60, 64, 67, 0.3), 0px 1px 3px 1px rgba(60, 64, 67, 0.15);\n",
              "      fill: #174EA6;\n",
              "    }\n",
              "\n",
              "    [theme=dark] .colab-df-convert {\n",
              "      background-color: #3B4455;\n",
              "      fill: #D2E3FC;\n",
              "    }\n",
              "\n",
              "    [theme=dark] .colab-df-convert:hover {\n",
              "      background-color: #434B5C;\n",
              "      box-shadow: 0px 1px 3px 1px rgba(0, 0, 0, 0.15);\n",
              "      filter: drop-shadow(0px 1px 2px rgba(0, 0, 0, 0.3));\n",
              "      fill: #FFFFFF;\n",
              "    }\n",
              "  </style>\n",
              "\n",
              "      <script>\n",
              "        const buttonEl =\n",
              "          document.querySelector('#df-097d5534-b505-4eab-a1fc-e73f40a38781 button.colab-df-convert');\n",
              "        buttonEl.style.display =\n",
              "          google.colab.kernel.accessAllowed ? 'block' : 'none';\n",
              "\n",
              "        async function convertToInteractive(key) {\n",
              "          const element = document.querySelector('#df-097d5534-b505-4eab-a1fc-e73f40a38781');\n",
              "          const dataTable =\n",
              "            await google.colab.kernel.invokeFunction('convertToInteractive',\n",
              "                                                     [key], {});\n",
              "          if (!dataTable) return;\n",
              "\n",
              "          const docLinkHtml = 'Like what you see? Visit the ' +\n",
              "            '<a target=\"_blank\" href=https://colab.research.google.com/notebooks/data_table.ipynb>data table notebook</a>'\n",
              "            + ' to learn more about interactive tables.';\n",
              "          element.innerHTML = '';\n",
              "          dataTable['output_type'] = 'display_data';\n",
              "          await google.colab.output.renderOutput(dataTable, element);\n",
              "          const docLink = document.createElement('div');\n",
              "          docLink.innerHTML = docLinkHtml;\n",
              "          element.appendChild(docLink);\n",
              "        }\n",
              "      </script>\n",
              "    </div>\n",
              "  </div>\n",
              "  "
            ]
          },
          "metadata": {},
          "execution_count": 3
        }
      ]
    },
    {
      "cell_type": "code",
      "source": [
        "x, y = data_one_hot.loc[:, data_one_hot.columns!=\"charges\"], data_one_hot[\"charges\"]\n",
        "x, y"
      ],
      "metadata": {
        "colab": {
          "base_uri": "https://localhost:8080/"
        },
        "id": "GuEtr5UY-KQx",
        "outputId": "99b94372-b7fe-48f1-8306-a8d44602a3d8"
      },
      "execution_count": 5,
      "outputs": [
        {
          "output_type": "execute_result",
          "data": {
            "text/plain": [
              "(      age     bmi  children  sex_female  sex_male  smoker_no  smoker_yes  \\\n",
              " 0      19  27.900         0           1         0          0           1   \n",
              " 1      18  33.770         1           0         1          1           0   \n",
              " 2      28  33.000         3           0         1          1           0   \n",
              " 3      33  22.705         0           0         1          1           0   \n",
              " 4      32  28.880         0           0         1          1           0   \n",
              " ...   ...     ...       ...         ...       ...        ...         ...   \n",
              " 1333   50  30.970         3           0         1          1           0   \n",
              " 1334   18  31.920         0           1         0          1           0   \n",
              " 1335   18  36.850         0           1         0          1           0   \n",
              " 1336   21  25.800         0           1         0          1           0   \n",
              " 1337   61  29.070         0           1         0          0           1   \n",
              " \n",
              "       region_northeast  region_northwest  region_southeast  region_southwest  \n",
              " 0                    0                 0                 0                 1  \n",
              " 1                    0                 0                 1                 0  \n",
              " 2                    0                 0                 1                 0  \n",
              " 3                    0                 1                 0                 0  \n",
              " 4                    0                 1                 0                 0  \n",
              " ...                ...               ...               ...               ...  \n",
              " 1333                 0                 1                 0                 0  \n",
              " 1334                 1                 0                 0                 0  \n",
              " 1335                 0                 0                 1                 0  \n",
              " 1336                 0                 0                 0                 1  \n",
              " 1337                 0                 1                 0                 0  \n",
              " \n",
              " [1338 rows x 11 columns], 0       16884.92400\n",
              " 1        1725.55230\n",
              " 2        4449.46200\n",
              " 3       21984.47061\n",
              " 4        3866.85520\n",
              "            ...     \n",
              " 1333    10600.54830\n",
              " 1334     2205.98080\n",
              " 1335     1629.83350\n",
              " 1336     2007.94500\n",
              " 1337    29141.36030\n",
              " Name: charges, Length: 1338, dtype: float64)"
            ]
          },
          "metadata": {},
          "execution_count": 5
        }
      ]
    },
    {
      "cell_type": "code",
      "source": [
        "from sklearn.model_selection import train_test_split\n",
        "\n",
        "# split the dataset into training and test set\n",
        "x_train, x_test, y_train, y_test = train_test_split(x, y, test_size=0.2, random_state=42)"
      ],
      "metadata": {
        "id": "929MgjC0-fqx"
      },
      "execution_count": 6,
      "outputs": []
    },
    {
      "cell_type": "code",
      "source": [
        "# Check the shape of our data\n",
        "x_train.shape, x_test.shape, y_train.shape, y_test.shape"
      ],
      "metadata": {
        "colab": {
          "base_uri": "https://localhost:8080/"
        },
        "id": "tCPu32wP_FWz",
        "outputId": "b4b18b89-10d1-4188-c52e-b145faf19b71"
      },
      "execution_count": 7,
      "outputs": [
        {
          "output_type": "execute_result",
          "data": {
            "text/plain": [
              "((1070, 11), (268, 11), (1070,), (268,))"
            ]
          },
          "metadata": {},
          "execution_count": 7
        }
      ]
    },
    {
      "cell_type": "code",
      "source": [
        "import tensorflow as tf"
      ],
      "metadata": {
        "id": "nnyQDQlMCdx7"
      },
      "execution_count": 9,
      "outputs": []
    },
    {
      "cell_type": "markdown",
      "source": [
        "### Building a larger model (how does one with 4 dense layers go?)"
      ],
      "metadata": {
        "id": "26UQpuykDf0b"
      }
    },
    {
      "cell_type": "code",
      "source": [
        "# let's build a model\n",
        "# set random seed\n",
        "tf.random.set_seed(42)\n",
        "\n",
        "# Create a model\n",
        "data_model_1 = tf.keras.Sequential([\n",
        "    tf.keras.layers.Dense(100),\n",
        "    tf.keras.layers.Dense(50),\n",
        "    tf.keras.layers.Dense(25),\n",
        "    tf.keras.layers.Dense(12),\n",
        "    tf.keras.layers.Dense(1)\n",
        "])\n",
        "\n",
        "# Complie the model\n",
        "data_model_1.compile(loss=tf.keras.losses.mae,\n",
        "                     optimizer=tf.keras.optimizers.Adam(),\n",
        "                     metrics=[\"mae\"])\n",
        "\n",
        "# Fit the model\n",
        "history_model_1 = data_model_1.fit(x_train, y_train, epochs=100)"
      ],
      "metadata": {
        "colab": {
          "base_uri": "https://localhost:8080/"
        },
        "id": "WpyRewi0_Qgy",
        "outputId": "79c0e0f6-c8b2-4a96-bedc-bb20c7aef832"
      },
      "execution_count": 11,
      "outputs": [
        {
          "output_type": "stream",
          "name": "stdout",
          "text": [
            "Epoch 1/100\n",
            "34/34 [==============================] - 1s 1ms/step - loss: 13146.6318 - mae: 13146.6318\n",
            "Epoch 2/100\n",
            "34/34 [==============================] - 0s 2ms/step - loss: 10599.1631 - mae: 10599.1631\n",
            "Epoch 3/100\n",
            "34/34 [==============================] - 0s 2ms/step - loss: 7460.2739 - mae: 7460.2739\n",
            "Epoch 4/100\n",
            "34/34 [==============================] - 0s 1ms/step - loss: 7313.8081 - mae: 7313.8081\n",
            "Epoch 5/100\n",
            "34/34 [==============================] - 0s 1ms/step - loss: 7226.6792 - mae: 7226.6792\n",
            "Epoch 6/100\n",
            "34/34 [==============================] - 0s 2ms/step - loss: 7119.4399 - mae: 7119.4399\n",
            "Epoch 7/100\n",
            "34/34 [==============================] - 0s 1ms/step - loss: 7012.7163 - mae: 7012.7163\n",
            "Epoch 8/100\n",
            "34/34 [==============================] - 0s 1ms/step - loss: 6874.6323 - mae: 6874.6323\n",
            "Epoch 9/100\n",
            "34/34 [==============================] - 0s 2ms/step - loss: 6734.7544 - mae: 6734.7544\n",
            "Epoch 10/100\n",
            "34/34 [==============================] - 0s 2ms/step - loss: 6639.8989 - mae: 6639.8989\n",
            "Epoch 11/100\n",
            "34/34 [==============================] - 0s 1ms/step - loss: 6629.6284 - mae: 6629.6284\n",
            "Epoch 12/100\n",
            "34/34 [==============================] - 0s 1ms/step - loss: 6573.6406 - mae: 6573.6406\n",
            "Epoch 13/100\n",
            "34/34 [==============================] - 0s 1ms/step - loss: 6509.7920 - mae: 6509.7920\n",
            "Epoch 14/100\n",
            "34/34 [==============================] - 0s 1ms/step - loss: 6477.7510 - mae: 6477.7510\n",
            "Epoch 15/100\n",
            "34/34 [==============================] - 0s 2ms/step - loss: 6445.1987 - mae: 6445.1987\n",
            "Epoch 16/100\n",
            "34/34 [==============================] - 0s 2ms/step - loss: 6388.5815 - mae: 6388.5815\n",
            "Epoch 17/100\n",
            "34/34 [==============================] - 0s 1ms/step - loss: 6348.0776 - mae: 6348.0776\n",
            "Epoch 18/100\n",
            "34/34 [==============================] - 0s 1ms/step - loss: 6299.7031 - mae: 6299.7031\n",
            "Epoch 19/100\n",
            "34/34 [==============================] - 0s 1ms/step - loss: 6247.5312 - mae: 6247.5312\n",
            "Epoch 20/100\n",
            "34/34 [==============================] - 0s 1ms/step - loss: 6179.8848 - mae: 6179.8848\n",
            "Epoch 21/100\n",
            "34/34 [==============================] - 0s 1ms/step - loss: 6098.4204 - mae: 6098.4204\n",
            "Epoch 22/100\n",
            "34/34 [==============================] - 0s 1ms/step - loss: 6029.2173 - mae: 6029.2173\n",
            "Epoch 23/100\n",
            "34/34 [==============================] - 0s 1ms/step - loss: 5911.6523 - mae: 5911.6523\n",
            "Epoch 24/100\n",
            "34/34 [==============================] - 0s 1ms/step - loss: 5798.3916 - mae: 5798.3916\n",
            "Epoch 25/100\n",
            "34/34 [==============================] - 0s 1ms/step - loss: 5626.1592 - mae: 5626.1592\n",
            "Epoch 26/100\n",
            "34/34 [==============================] - 0s 2ms/step - loss: 5362.2988 - mae: 5362.2988\n",
            "Epoch 27/100\n",
            "34/34 [==============================] - 0s 2ms/step - loss: 5024.2793 - mae: 5024.2793\n",
            "Epoch 28/100\n",
            "34/34 [==============================] - 0s 3ms/step - loss: 4555.9116 - mae: 4555.9116\n",
            "Epoch 29/100\n",
            "34/34 [==============================] - 0s 6ms/step - loss: 4072.5818 - mae: 4072.5818\n",
            "Epoch 30/100\n",
            "34/34 [==============================] - 0s 6ms/step - loss: 3910.0913 - mae: 3910.0913\n",
            "Epoch 31/100\n",
            "34/34 [==============================] - 0s 4ms/step - loss: 3861.1387 - mae: 3861.1387\n",
            "Epoch 32/100\n",
            "34/34 [==============================] - 0s 4ms/step - loss: 3840.6941 - mae: 3840.6941\n",
            "Epoch 33/100\n",
            "34/34 [==============================] - 0s 4ms/step - loss: 3879.5613 - mae: 3879.5613\n",
            "Epoch 34/100\n",
            "34/34 [==============================] - 0s 4ms/step - loss: 3972.6692 - mae: 3972.6692\n",
            "Epoch 35/100\n",
            "34/34 [==============================] - 0s 2ms/step - loss: 3791.4006 - mae: 3791.4006\n",
            "Epoch 36/100\n",
            "34/34 [==============================] - 0s 1ms/step - loss: 3794.9319 - mae: 3794.9319\n",
            "Epoch 37/100\n",
            "34/34 [==============================] - 0s 2ms/step - loss: 3779.4143 - mae: 3779.4143\n",
            "Epoch 38/100\n",
            "34/34 [==============================] - 0s 1ms/step - loss: 3780.1726 - mae: 3780.1726\n",
            "Epoch 39/100\n",
            "34/34 [==============================] - 0s 1ms/step - loss: 3776.1531 - mae: 3776.1531\n",
            "Epoch 40/100\n",
            "34/34 [==============================] - 0s 1ms/step - loss: 3748.7419 - mae: 3748.7419\n",
            "Epoch 41/100\n",
            "34/34 [==============================] - 0s 1ms/step - loss: 3817.6360 - mae: 3817.6360\n",
            "Epoch 42/100\n",
            "34/34 [==============================] - 0s 5ms/step - loss: 3818.6111 - mae: 3818.6111\n",
            "Epoch 43/100\n",
            "34/34 [==============================] - 0s 4ms/step - loss: 3762.4927 - mae: 3762.4927\n",
            "Epoch 44/100\n",
            "34/34 [==============================] - 0s 6ms/step - loss: 3775.5986 - mae: 3775.5986\n",
            "Epoch 45/100\n",
            "34/34 [==============================] - 0s 6ms/step - loss: 3749.7141 - mae: 3749.7141\n",
            "Epoch 46/100\n",
            "34/34 [==============================] - 0s 4ms/step - loss: 3715.9377 - mae: 3715.9377\n",
            "Epoch 47/100\n",
            "34/34 [==============================] - 0s 4ms/step - loss: 3759.1436 - mae: 3759.1436\n",
            "Epoch 48/100\n",
            "34/34 [==============================] - 0s 3ms/step - loss: 3699.2603 - mae: 3699.2603\n",
            "Epoch 49/100\n",
            "34/34 [==============================] - 0s 2ms/step - loss: 3702.4211 - mae: 3702.4211\n",
            "Epoch 50/100\n",
            "34/34 [==============================] - 0s 1ms/step - loss: 3726.1199 - mae: 3726.1199\n",
            "Epoch 51/100\n",
            "34/34 [==============================] - 0s 1ms/step - loss: 3688.2544 - mae: 3688.2544\n",
            "Epoch 52/100\n",
            "34/34 [==============================] - 0s 1ms/step - loss: 3660.7117 - mae: 3660.7117\n",
            "Epoch 53/100\n",
            "34/34 [==============================] - 0s 2ms/step - loss: 3680.4382 - mae: 3680.4382\n",
            "Epoch 54/100\n",
            "34/34 [==============================] - 0s 1ms/step - loss: 3702.5447 - mae: 3702.5447\n",
            "Epoch 55/100\n",
            "34/34 [==============================] - 0s 1ms/step - loss: 3685.7861 - mae: 3685.7861\n",
            "Epoch 56/100\n",
            "34/34 [==============================] - 0s 1ms/step - loss: 3635.0447 - mae: 3635.0447\n",
            "Epoch 57/100\n",
            "34/34 [==============================] - 0s 1ms/step - loss: 3644.6011 - mae: 3644.6011\n",
            "Epoch 58/100\n",
            "34/34 [==============================] - 0s 1ms/step - loss: 3654.8547 - mae: 3654.8547\n",
            "Epoch 59/100\n",
            "34/34 [==============================] - 0s 2ms/step - loss: 3622.5803 - mae: 3622.5803\n",
            "Epoch 60/100\n",
            "34/34 [==============================] - 0s 2ms/step - loss: 3635.6582 - mae: 3635.6582\n",
            "Epoch 61/100\n",
            "34/34 [==============================] - 0s 2ms/step - loss: 3620.6296 - mae: 3620.6296\n",
            "Epoch 62/100\n",
            "34/34 [==============================] - 0s 1ms/step - loss: 3608.8662 - mae: 3608.8662\n",
            "Epoch 63/100\n",
            "34/34 [==============================] - 0s 2ms/step - loss: 3664.2676 - mae: 3664.2676\n",
            "Epoch 64/100\n",
            "34/34 [==============================] - 0s 1ms/step - loss: 3648.7539 - mae: 3648.7539\n",
            "Epoch 65/100\n",
            "34/34 [==============================] - 0s 1ms/step - loss: 3594.0359 - mae: 3594.0359\n",
            "Epoch 66/100\n",
            "34/34 [==============================] - 0s 1ms/step - loss: 3605.9407 - mae: 3605.9407\n",
            "Epoch 67/100\n",
            "34/34 [==============================] - 0s 1ms/step - loss: 3572.7827 - mae: 3572.7827\n",
            "Epoch 68/100\n",
            "34/34 [==============================] - 0s 1ms/step - loss: 3571.3550 - mae: 3571.3550\n",
            "Epoch 69/100\n",
            "34/34 [==============================] - 0s 1ms/step - loss: 3560.3071 - mae: 3560.3071\n",
            "Epoch 70/100\n",
            "34/34 [==============================] - 0s 2ms/step - loss: 3559.8118 - mae: 3559.8118\n",
            "Epoch 71/100\n",
            "34/34 [==============================] - 0s 1ms/step - loss: 3534.1670 - mae: 3534.1670\n",
            "Epoch 72/100\n",
            "34/34 [==============================] - 0s 1ms/step - loss: 3549.3804 - mae: 3549.3804\n",
            "Epoch 73/100\n",
            "34/34 [==============================] - 0s 1ms/step - loss: 3535.0308 - mae: 3535.0308\n",
            "Epoch 74/100\n",
            "34/34 [==============================] - 0s 2ms/step - loss: 3519.4531 - mae: 3519.4531\n",
            "Epoch 75/100\n",
            "34/34 [==============================] - 0s 2ms/step - loss: 3543.1113 - mae: 3543.1113\n",
            "Epoch 76/100\n",
            "34/34 [==============================] - 0s 1ms/step - loss: 3545.7051 - mae: 3545.7051\n",
            "Epoch 77/100\n",
            "34/34 [==============================] - 0s 1ms/step - loss: 3516.0288 - mae: 3516.0288\n",
            "Epoch 78/100\n",
            "34/34 [==============================] - 0s 1ms/step - loss: 3571.1096 - mae: 3571.1096\n",
            "Epoch 79/100\n",
            "34/34 [==============================] - 0s 1ms/step - loss: 3568.3081 - mae: 3568.3081\n",
            "Epoch 80/100\n",
            "34/34 [==============================] - 0s 1ms/step - loss: 3525.7256 - mae: 3525.7256\n",
            "Epoch 81/100\n",
            "34/34 [==============================] - 0s 2ms/step - loss: 3542.0652 - mae: 3542.0652\n",
            "Epoch 82/100\n",
            "34/34 [==============================] - 0s 1ms/step - loss: 3516.6387 - mae: 3516.6387\n",
            "Epoch 83/100\n",
            "34/34 [==============================] - 0s 1ms/step - loss: 3516.7983 - mae: 3516.7983\n",
            "Epoch 84/100\n",
            "34/34 [==============================] - 0s 1ms/step - loss: 3497.6738 - mae: 3497.6738\n",
            "Epoch 85/100\n",
            "34/34 [==============================] - 0s 2ms/step - loss: 3491.3586 - mae: 3491.3586\n",
            "Epoch 86/100\n",
            "34/34 [==============================] - 0s 1ms/step - loss: 3515.1665 - mae: 3515.1665\n",
            "Epoch 87/100\n",
            "34/34 [==============================] - 0s 2ms/step - loss: 3508.8486 - mae: 3508.8486\n",
            "Epoch 88/100\n",
            "34/34 [==============================] - 0s 2ms/step - loss: 3531.7891 - mae: 3531.7891\n",
            "Epoch 89/100\n",
            "34/34 [==============================] - 0s 1ms/step - loss: 3499.7026 - mae: 3499.7026\n",
            "Epoch 90/100\n",
            "34/34 [==============================] - 0s 1ms/step - loss: 3546.7104 - mae: 3546.7104\n",
            "Epoch 91/100\n",
            "34/34 [==============================] - 0s 2ms/step - loss: 3553.0718 - mae: 3553.0718\n",
            "Epoch 92/100\n",
            "34/34 [==============================] - 0s 2ms/step - loss: 3559.6597 - mae: 3559.6597\n",
            "Epoch 93/100\n",
            "34/34 [==============================] - 0s 1ms/step - loss: 3527.3462 - mae: 3527.3462\n",
            "Epoch 94/100\n",
            "34/34 [==============================] - 0s 1ms/step - loss: 3527.6643 - mae: 3527.6643\n",
            "Epoch 95/100\n",
            "34/34 [==============================] - 0s 2ms/step - loss: 3562.1873 - mae: 3562.1873\n",
            "Epoch 96/100\n",
            "34/34 [==============================] - 0s 1ms/step - loss: 3501.1047 - mae: 3501.1047\n",
            "Epoch 97/100\n",
            "34/34 [==============================] - 0s 1ms/step - loss: 3517.6541 - mae: 3517.6541\n",
            "Epoch 98/100\n",
            "34/34 [==============================] - 0s 2ms/step - loss: 3542.5784 - mae: 3542.5784\n",
            "Epoch 99/100\n",
            "34/34 [==============================] - 0s 2ms/step - loss: 3507.9285 - mae: 3507.9285\n",
            "Epoch 100/100\n",
            "34/34 [==============================] - 0s 1ms/step - loss: 3498.6699 - mae: 3498.6699\n"
          ]
        }
      ]
    },
    {
      "cell_type": "code",
      "source": [
        "import matplotlib.pyplot as plt\n",
        "# plot training curves\n",
        "pd.DataFrame(history_model_1.history).plot()\n",
        "plt.ylabel(\"loss\")\n",
        "plt.xlabel(\"epochs\")"
      ],
      "metadata": {
        "colab": {
          "base_uri": "https://localhost:8080/",
          "height": 297
        },
        "id": "kte8YCo5Cbpc",
        "outputId": "c423c837-9e7a-4da8-fcfe-6482fcac653a"
      },
      "execution_count": 14,
      "outputs": [
        {
          "output_type": "execute_result",
          "data": {
            "text/plain": [
              "Text(0.5, 0, 'epochs')"
            ]
          },
          "metadata": {},
          "execution_count": 14
        },
        {
          "output_type": "display_data",
          "data": {
            "text/plain": [
              "<Figure size 432x288 with 1 Axes>"
            ],
            "image/png": "[encoded data removed]"
          },
          "metadata": {
            "needs_background": "light"
          }
        }
      ]
    },
    {
      "cell_type": "code",
      "source": [
        "data_model_1.evaluate(x_test, y_test)"
      ],
      "metadata": {
        "colab": {
          "base_uri": "https://localhost:8080/"
        },
        "id": "vUXTDW1bDk67",
        "outputId": "e98fc361-3db1-406c-85c1-c9fc2df98be2"
      },
      "execution_count": 15,
      "outputs": [
        {
          "output_type": "stream",
          "name": "stdout",
          "text": [
            "9/9 [==============================] - 0s 1ms/step - loss: 3169.8928 - mae: 3169.8928\n"
          ]
        },
        {
          "output_type": "execute_result",
          "data": {
            "text/plain": [
              "[3169.892822265625, 3169.892822265625]"
            ]
          },
          "metadata": {},
          "execution_count": 15
        }
      ]
    },
    {
      "cell_type": "markdown",
      "source": [
        "### Increasing the number of units in each layer."
      ],
      "metadata": {
        "id": "7vD0wslzDsrc"
      }
    },
    {
      "cell_type": "code",
      "source": [
        "# Let's build another model by increasing the number of units in each layer this time\n",
        "\n",
        "# set random seed\n",
        "tf.random.set_seed(42)\n",
        "\n",
        "# create a model\n",
        "data_model_2 = tf.keras.Sequential([\n",
        "    tf.keras.layers.Dense(200), # increase each neuron by 100\n",
        "    tf.keras.layers.Dense(150),\n",
        "    tf.keras.layers.Dense(125),\n",
        "    tf.keras.layers.Dense(112),\n",
        "    tf.keras.layers.Dense(1)\n",
        "])\n",
        "\n",
        "# Compile the model\n",
        "data_model_2.compile(loss=tf.keras.losses.mae,\n",
        "                     optimizer=tf.keras.optimizers.Adam(),\n",
        "                     metrics=[\"mae\"])\n",
        "\n",
        "# fit the model\n",
        "history_model_2 = data_model_2.fit(x_train, y_train, epochs=100)"
      ],
      "metadata": {
        "colab": {
          "base_uri": "https://localhost:8080/"
        },
        "id": "ckQ61ZVwDEAi",
        "outputId": "4d3ab843-514f-4d35-b07b-dc872a38c041"
      },
      "execution_count": 16,
      "outputs": [
        {
          "output_type": "stream",
          "name": "stdout",
          "text": [
            "Epoch 1/100\n",
            "34/34 [==============================] - 1s 2ms/step - loss: 10866.4834 - mae: 10866.4834\n",
            "Epoch 2/100\n",
            "34/34 [==============================] - 0s 2ms/step - loss: 7460.1973 - mae: 7460.1973\n",
            "Epoch 3/100\n",
            "34/34 [==============================] - 0s 2ms/step - loss: 7106.7876 - mae: 7106.7876\n",
            "Epoch 4/100\n",
            "34/34 [==============================] - 0s 2ms/step - loss: 6853.7490 - mae: 6853.7490\n",
            "Epoch 5/100\n",
            "34/34 [==============================] - 0s 2ms/step - loss: 6695.6646 - mae: 6695.6646\n",
            "Epoch 6/100\n",
            "34/34 [==============================] - 0s 2ms/step - loss: 6612.0439 - mae: 6612.0439\n",
            "Epoch 7/100\n",
            "34/34 [==============================] - 0s 2ms/step - loss: 6553.9023 - mae: 6553.9023\n",
            "Epoch 8/100\n",
            "34/34 [==============================] - 0s 2ms/step - loss: 6515.5615 - mae: 6515.5615\n",
            "Epoch 9/100\n",
            "34/34 [==============================] - 0s 3ms/step - loss: 6418.5566 - mae: 6418.5566\n",
            "Epoch 10/100\n",
            "34/34 [==============================] - 0s 2ms/step - loss: 6353.1470 - mae: 6353.1470\n",
            "Epoch 11/100\n",
            "34/34 [==============================] - 0s 3ms/step - loss: 6181.3438 - mae: 6181.3438\n",
            "Epoch 12/100\n",
            "34/34 [==============================] - 0s 2ms/step - loss: 5999.9375 - mae: 5999.9375\n",
            "Epoch 13/100\n",
            "34/34 [==============================] - 0s 2ms/step - loss: 5714.3726 - mae: 5714.3726\n",
            "Epoch 14/100\n",
            "34/34 [==============================] - 0s 2ms/step - loss: 5036.0674 - mae: 5036.0674\n",
            "Epoch 15/100\n",
            "34/34 [==============================] - 0s 2ms/step - loss: 4544.7109 - mae: 4544.7109\n",
            "Epoch 16/100\n",
            "34/34 [==============================] - 0s 2ms/step - loss: 4020.5571 - mae: 4020.5571\n",
            "Epoch 17/100\n",
            "34/34 [==============================] - 0s 2ms/step - loss: 3952.4924 - mae: 3952.4924\n",
            "Epoch 18/100\n",
            "34/34 [==============================] - 0s 2ms/step - loss: 3899.7593 - mae: 3899.7593\n",
            "Epoch 19/100\n",
            "34/34 [==============================] - 0s 2ms/step - loss: 3882.5869 - mae: 3882.5869\n",
            "Epoch 20/100\n",
            "34/34 [==============================] - 0s 2ms/step - loss: 3909.3743 - mae: 3909.3743\n",
            "Epoch 21/100\n",
            "34/34 [==============================] - 0s 2ms/step - loss: 3865.5247 - mae: 3865.5247\n",
            "Epoch 22/100\n",
            "34/34 [==============================] - 0s 2ms/step - loss: 3895.8000 - mae: 3895.8000\n",
            "Epoch 23/100\n",
            "34/34 [==============================] - 0s 2ms/step - loss: 3919.3867 - mae: 3919.3867\n",
            "Epoch 24/100\n",
            "34/34 [==============================] - 0s 2ms/step - loss: 3903.6670 - mae: 3903.6670\n",
            "Epoch 25/100\n",
            "34/34 [==============================] - 0s 2ms/step - loss: 3824.2844 - mae: 3824.2844\n",
            "Epoch 26/100\n",
            "34/34 [==============================] - 0s 2ms/step - loss: 3781.0566 - mae: 3781.0566\n",
            "Epoch 27/100\n",
            "34/34 [==============================] - 0s 2ms/step - loss: 3873.2976 - mae: 3873.2976\n",
            "Epoch 28/100\n",
            "34/34 [==============================] - 0s 2ms/step - loss: 3764.9172 - mae: 3764.9172\n",
            "Epoch 29/100\n",
            "34/34 [==============================] - 0s 2ms/step - loss: 3760.0437 - mae: 3760.0437\n",
            "Epoch 30/100\n",
            "34/34 [==============================] - 0s 2ms/step - loss: 3784.4604 - mae: 3784.4604\n",
            "Epoch 31/100\n",
            "34/34 [==============================] - 0s 2ms/step - loss: 3779.2930 - mae: 3779.2930\n",
            "Epoch 32/100\n",
            "34/34 [==============================] - 0s 2ms/step - loss: 3708.0684 - mae: 3708.0684\n",
            "Epoch 33/100\n",
            "34/34 [==============================] - 0s 2ms/step - loss: 3783.3396 - mae: 3783.3396\n",
            "Epoch 34/100\n",
            "34/34 [==============================] - 0s 2ms/step - loss: 3916.5005 - mae: 3916.5005\n",
            "Epoch 35/100\n",
            "34/34 [==============================] - 0s 2ms/step - loss: 3664.3921 - mae: 3664.3921\n",
            "Epoch 36/100\n",
            "34/34 [==============================] - 0s 2ms/step - loss: 3670.9934 - mae: 3670.9934\n",
            "Epoch 37/100\n",
            "34/34 [==============================] - 0s 2ms/step - loss: 3646.9265 - mae: 3646.9265\n",
            "Epoch 38/100\n",
            "34/34 [==============================] - 0s 2ms/step - loss: 3634.2195 - mae: 3634.2195\n",
            "Epoch 39/100\n",
            "34/34 [==============================] - 0s 2ms/step - loss: 3629.5825 - mae: 3629.5825\n",
            "Epoch 40/100\n",
            "34/34 [==============================] - 0s 2ms/step - loss: 3652.7925 - mae: 3652.7925\n",
            "Epoch 41/100\n",
            "34/34 [==============================] - 0s 2ms/step - loss: 3624.9185 - mae: 3624.9185\n",
            "Epoch 42/100\n",
            "34/34 [==============================] - 0s 2ms/step - loss: 3619.6787 - mae: 3619.6787\n",
            "Epoch 43/100\n",
            "34/34 [==============================] - 0s 2ms/step - loss: 3627.0718 - mae: 3627.0718\n",
            "Epoch 44/100\n",
            "34/34 [==============================] - 0s 2ms/step - loss: 3583.4253 - mae: 3583.4253\n",
            "Epoch 45/100\n",
            "34/34 [==============================] - 0s 2ms/step - loss: 3668.6143 - mae: 3668.6143\n",
            "Epoch 46/100\n",
            "34/34 [==============================] - 0s 2ms/step - loss: 3609.2466 - mae: 3609.2466\n",
            "Epoch 47/100\n",
            "34/34 [==============================] - 0s 2ms/step - loss: 3586.2778 - mae: 3586.2778\n",
            "Epoch 48/100\n",
            "34/34 [==============================] - 0s 2ms/step - loss: 3602.0015 - mae: 3602.0015\n",
            "Epoch 49/100\n",
            "34/34 [==============================] - 0s 2ms/step - loss: 3619.2449 - mae: 3619.2449\n",
            "Epoch 50/100\n",
            "34/34 [==============================] - 0s 2ms/step - loss: 3651.6343 - mae: 3651.6343\n",
            "Epoch 51/100\n",
            "34/34 [==============================] - 0s 2ms/step - loss: 3567.5952 - mae: 3567.5952\n",
            "Epoch 52/100\n",
            "34/34 [==============================] - 0s 2ms/step - loss: 3559.5544 - mae: 3559.5544\n",
            "Epoch 53/100\n",
            "34/34 [==============================] - 0s 2ms/step - loss: 3563.3071 - mae: 3563.3071\n",
            "Epoch 54/100\n",
            "34/34 [==============================] - 0s 2ms/step - loss: 3615.3447 - mae: 3615.3447\n",
            "Epoch 55/100\n",
            "34/34 [==============================] - 0s 2ms/step - loss: 3650.8738 - mae: 3650.8738\n",
            "Epoch 56/100\n",
            "34/34 [==============================] - 0s 2ms/step - loss: 3565.3369 - mae: 3565.3369\n",
            "Epoch 57/100\n",
            "34/34 [==============================] - 0s 2ms/step - loss: 3542.6685 - mae: 3542.6685\n",
            "Epoch 58/100\n",
            "34/34 [==============================] - 0s 2ms/step - loss: 3656.2444 - mae: 3656.2444\n",
            "Epoch 59/100\n",
            "34/34 [==============================] - 0s 2ms/step - loss: 3550.5444 - mae: 3550.5444\n",
            "Epoch 60/100\n",
            "34/34 [==============================] - 0s 2ms/step - loss: 3560.7095 - mae: 3560.7095\n",
            "Epoch 61/100\n",
            "34/34 [==============================] - 0s 2ms/step - loss: 3580.6619 - mae: 3580.6619\n",
            "Epoch 62/100\n",
            "34/34 [==============================] - 0s 2ms/step - loss: 3548.4265 - mae: 3548.4265\n",
            "Epoch 63/100\n",
            "34/34 [==============================] - 0s 2ms/step - loss: 3557.4656 - mae: 3557.4656\n",
            "Epoch 64/100\n",
            "34/34 [==============================] - 0s 2ms/step - loss: 3539.4326 - mae: 3539.4326\n",
            "Epoch 65/100\n",
            "34/34 [==============================] - 0s 2ms/step - loss: 3529.3972 - mae: 3529.3972\n",
            "Epoch 66/100\n",
            "34/34 [==============================] - 0s 2ms/step - loss: 3655.1360 - mae: 3655.1360\n",
            "Epoch 67/100\n",
            "34/34 [==============================] - 0s 2ms/step - loss: 3623.3594 - mae: 3623.3594\n",
            "Epoch 68/100\n",
            "34/34 [==============================] - 0s 2ms/step - loss: 3685.2622 - mae: 3685.2622\n",
            "Epoch 69/100\n",
            "34/34 [==============================] - 0s 2ms/step - loss: 3534.9050 - mae: 3534.9050\n",
            "Epoch 70/100\n",
            "34/34 [==============================] - 0s 2ms/step - loss: 3562.6045 - mae: 3562.6045\n",
            "Epoch 71/100\n",
            "34/34 [==============================] - 0s 2ms/step - loss: 3557.1958 - mae: 3557.1958\n",
            "Epoch 72/100\n",
            "34/34 [==============================] - 0s 2ms/step - loss: 3604.8491 - mae: 3604.8491\n",
            "Epoch 73/100\n",
            "34/34 [==============================] - 0s 2ms/step - loss: 3567.5010 - mae: 3567.5010\n",
            "Epoch 74/100\n",
            "34/34 [==============================] - 0s 2ms/step - loss: 3547.6863 - mae: 3547.6863\n",
            "Epoch 75/100\n",
            "34/34 [==============================] - 0s 2ms/step - loss: 3526.7031 - mae: 3526.7031\n",
            "Epoch 76/100\n",
            "34/34 [==============================] - 0s 2ms/step - loss: 3548.5745 - mae: 3548.5745\n",
            "Epoch 77/100\n",
            "34/34 [==============================] - 0s 2ms/step - loss: 3693.6638 - mae: 3693.6638\n",
            "Epoch 78/100\n",
            "34/34 [==============================] - 0s 2ms/step - loss: 3585.1589 - mae: 3585.1589\n",
            "Epoch 79/100\n",
            "34/34 [==============================] - 0s 2ms/step - loss: 3619.9817 - mae: 3619.9817\n",
            "Epoch 80/100\n",
            "34/34 [==============================] - 0s 2ms/step - loss: 3581.8145 - mae: 3581.8145\n",
            "Epoch 81/100\n",
            "34/34 [==============================] - 0s 2ms/step - loss: 3574.1853 - mae: 3574.1853\n",
            "Epoch 82/100\n",
            "34/34 [==============================] - 0s 2ms/step - loss: 3618.1484 - mae: 3618.1484\n",
            "Epoch 83/100\n",
            "34/34 [==============================] - 0s 2ms/step - loss: 3575.3359 - mae: 3575.3359\n",
            "Epoch 84/100\n",
            "34/34 [==============================] - 0s 2ms/step - loss: 3529.1145 - mae: 3529.1145\n",
            "Epoch 85/100\n",
            "34/34 [==============================] - 0s 2ms/step - loss: 3546.0291 - mae: 3546.0291\n",
            "Epoch 86/100\n",
            "34/34 [==============================] - 0s 2ms/step - loss: 3547.3218 - mae: 3547.3218\n",
            "Epoch 87/100\n",
            "34/34 [==============================] - 0s 2ms/step - loss: 3655.6309 - mae: 3655.6309\n",
            "Epoch 88/100\n",
            "34/34 [==============================] - 0s 2ms/step - loss: 3653.8386 - mae: 3653.8386\n",
            "Epoch 89/100\n",
            "34/34 [==============================] - 0s 2ms/step - loss: 3560.9478 - mae: 3560.9478\n",
            "Epoch 90/100\n",
            "34/34 [==============================] - 0s 2ms/step - loss: 3521.4966 - mae: 3521.4966\n",
            "Epoch 91/100\n",
            "34/34 [==============================] - 0s 2ms/step - loss: 3520.6562 - mae: 3520.6562\n",
            "Epoch 92/100\n",
            "34/34 [==============================] - 0s 2ms/step - loss: 3583.1741 - mae: 3583.1741\n",
            "Epoch 93/100\n",
            "34/34 [==============================] - 0s 2ms/step - loss: 3628.3748 - mae: 3628.3748\n",
            "Epoch 94/100\n",
            "34/34 [==============================] - 0s 2ms/step - loss: 3596.7688 - mae: 3596.7688\n",
            "Epoch 95/100\n",
            "34/34 [==============================] - 0s 2ms/step - loss: 3553.5728 - mae: 3553.5728\n",
            "Epoch 96/100\n",
            "34/34 [==============================] - 0s 2ms/step - loss: 3507.9617 - mae: 3507.9617\n",
            "Epoch 97/100\n",
            "34/34 [==============================] - 0s 2ms/step - loss: 3636.3728 - mae: 3636.3728\n",
            "Epoch 98/100\n",
            "34/34 [==============================] - 0s 2ms/step - loss: 3566.2083 - mae: 3566.2083\n",
            "Epoch 99/100\n",
            "34/34 [==============================] - 0s 2ms/step - loss: 3621.6636 - mae: 3621.6636\n",
            "Epoch 100/100\n",
            "34/34 [==============================] - 0s 2ms/step - loss: 3532.3970 - mae: 3532.3970\n"
          ]
        }
      ]
    },
    {
      "cell_type": "code",
      "source": [
        "# Evaluate model2\n",
        "data_model_2.evaluate(x_test, y_test)"
      ],
      "metadata": {
        "colab": {
          "base_uri": "https://localhost:8080/"
        },
        "id": "vieYADyTFAMJ",
        "outputId": "b9d7e763-64b4-4857-fffe-d6ecb3e686c5"
      },
      "execution_count": 17,
      "outputs": [
        {
          "output_type": "stream",
          "name": "stdout",
          "text": [
            "9/9 [==============================] - 0s 4ms/step - loss: 3174.8164 - mae: 3174.8164\n"
          ]
        },
        {
          "output_type": "execute_result",
          "data": {
            "text/plain": [
              "[3174.81640625, 3174.81640625]"
            ]
          },
          "metadata": {},
          "execution_count": 17
        }
      ]
    },
    {
      "cell_type": "markdown",
      "source": [
        "### Lookup the documentation of Adam and find out what the first parameter is, what happens if you increase it by 10x?"
      ],
      "metadata": {
        "id": "ZcTWDsGtFnhC"
      }
    },
    {
      "cell_type": "code",
      "source": [
        "# Build another model by increasing the learning rate by 10x\n",
        "# set random seed\n",
        "tf.random.set_seed(42)\n",
        "\n",
        "# Create a model\n",
        "data_model_3 = tf.keras.Sequential([\n",
        "    tf.keras.layers.Dense(100),\n",
        "    tf.keras.layers.Dense(50),\n",
        "    tf.keras.layers.Dense(25),\n",
        "    tf.keras.layers.Dense(12),\n",
        "    tf.keras.layers.Dense(1)\n",
        "])\n",
        "\n",
        "# Complie the model\n",
        "data_model_3.compile(loss=tf.keras.losses.mae,\n",
        "                     optimizer=tf.keras.optimizers.Adam(lr=0.01), # increase the defeault lr by 10x\n",
        "                     metrics=[\"mae\"])\n",
        "\n",
        "# Fit the model\n",
        "history_model_3 = data_model_1.fit(x_train, y_train, epochs=100)"
      ],
      "metadata": {
        "colab": {
          "base_uri": "https://localhost:8080/"
        },
        "id": "ulKHFEO6Fj3a",
        "outputId": "5354b5be-25fc-4f4d-a64a-b28fc0412335"
      },
      "execution_count": 18,
      "outputs": [
        {
          "output_type": "stream",
          "name": "stdout",
          "text": [
            "Epoch 1/100\n",
            "34/34 [==============================] - 0s 2ms/step - loss: 3497.1135 - mae: 3497.1135\n",
            "Epoch 2/100\n",
            " 1/34 [..............................] - ETA: 0s - loss: 3406.3618 - mae: 3406.3618"
          ]
        },
        {
          "output_type": "stream",
          "name": "stderr",
          "text": [
            "/usr/local/lib/python3.7/dist-packages/keras/optimizer_v2/adam.py:105: UserWarning: The `lr` argument is deprecated, use `learning_rate` instead.\n",
            "  super(Adam, self).__init__(name, **kwargs)\n"
          ]
        },
        {
          "output_type": "stream",
          "name": "stdout",
          "text": [
            "34/34 [==============================] - 0s 4ms/step - loss: 3520.0833 - mae: 3520.0833\n",
            "Epoch 3/100\n",
            "34/34 [==============================] - 0s 3ms/step - loss: 3508.8811 - mae: 3508.8811\n",
            "Epoch 4/100\n",
            "34/34 [==============================] - 0s 3ms/step - loss: 3503.8440 - mae: 3503.8440\n",
            "Epoch 5/100\n",
            "34/34 [==============================] - 0s 2ms/step - loss: 3515.1973 - mae: 3515.1973\n",
            "Epoch 6/100\n",
            "34/34 [==============================] - 0s 3ms/step - loss: 3573.2620 - mae: 3573.2620\n",
            "Epoch 7/100\n",
            "34/34 [==============================] - 0s 3ms/step - loss: 3507.6582 - mae: 3507.6582\n",
            "Epoch 8/100\n",
            "34/34 [==============================] - 0s 2ms/step - loss: 3552.0825 - mae: 3552.0825\n",
            "Epoch 9/100\n",
            "34/34 [==============================] - 0s 3ms/step - loss: 3514.2566 - mae: 3514.2566\n",
            "Epoch 10/100\n",
            "34/34 [==============================] - 0s 3ms/step - loss: 3540.7231 - mae: 3540.7231\n",
            "Epoch 11/100\n",
            "34/34 [==============================] - 0s 3ms/step - loss: 3530.3120 - mae: 3530.3120\n",
            "Epoch 12/100\n",
            "34/34 [==============================] - 0s 3ms/step - loss: 3515.8271 - mae: 3515.8271\n",
            "Epoch 13/100\n",
            "34/34 [==============================] - 0s 2ms/step - loss: 3492.1599 - mae: 3492.1599\n",
            "Epoch 14/100\n",
            "34/34 [==============================] - 0s 1ms/step - loss: 3503.2703 - mae: 3503.2703\n",
            "Epoch 15/100\n",
            "34/34 [==============================] - 0s 1ms/step - loss: 3554.0938 - mae: 3554.0938\n",
            "Epoch 16/100\n",
            "34/34 [==============================] - 0s 1ms/step - loss: 3502.8975 - mae: 3502.8975\n",
            "Epoch 17/100\n",
            "34/34 [==============================] - 0s 1ms/step - loss: 3510.5481 - mae: 3510.5481\n",
            "Epoch 18/100\n",
            "34/34 [==============================] - 0s 2ms/step - loss: 3511.1023 - mae: 3511.1023\n",
            "Epoch 19/100\n",
            "34/34 [==============================] - 0s 1ms/step - loss: 3506.2800 - mae: 3506.2800\n",
            "Epoch 20/100\n",
            "34/34 [==============================] - 0s 2ms/step - loss: 3520.9187 - mae: 3520.9187\n",
            "Epoch 21/100\n",
            "34/34 [==============================] - 0s 3ms/step - loss: 3539.0220 - mae: 3539.0220\n",
            "Epoch 22/100\n",
            "34/34 [==============================] - 0s 3ms/step - loss: 3514.3406 - mae: 3514.3406\n",
            "Epoch 23/100\n",
            "34/34 [==============================] - 0s 3ms/step - loss: 3515.9231 - mae: 3515.9231\n",
            "Epoch 24/100\n",
            "34/34 [==============================] - 0s 3ms/step - loss: 3526.7490 - mae: 3526.7490\n",
            "Epoch 25/100\n",
            "34/34 [==============================] - 0s 2ms/step - loss: 3515.3518 - mae: 3515.3518\n",
            "Epoch 26/100\n",
            "34/34 [==============================] - 0s 2ms/step - loss: 3559.4478 - mae: 3559.4478\n",
            "Epoch 27/100\n",
            "34/34 [==============================] - 0s 2ms/step - loss: 3619.8589 - mae: 3619.8589\n",
            "Epoch 28/100\n",
            "34/34 [==============================] - 0s 2ms/step - loss: 3554.3008 - mae: 3554.3008\n",
            "Epoch 29/100\n",
            "34/34 [==============================] - 0s 2ms/step - loss: 3539.7620 - mae: 3539.7620\n",
            "Epoch 30/100\n",
            "34/34 [==============================] - 0s 3ms/step - loss: 3528.2808 - mae: 3528.2808\n",
            "Epoch 31/100\n",
            "34/34 [==============================] - 0s 2ms/step - loss: 3519.1223 - mae: 3519.1223\n",
            "Epoch 32/100\n",
            "34/34 [==============================] - 0s 2ms/step - loss: 3513.8809 - mae: 3513.8809\n",
            "Epoch 33/100\n",
            "34/34 [==============================] - 0s 2ms/step - loss: 3518.5293 - mae: 3518.5293\n",
            "Epoch 34/100\n",
            "34/34 [==============================] - 0s 1ms/step - loss: 3551.7563 - mae: 3551.7563\n",
            "Epoch 35/100\n",
            "34/34 [==============================] - 0s 1ms/step - loss: 3515.0325 - mae: 3515.0325\n",
            "Epoch 36/100\n",
            "34/34 [==============================] - 0s 1ms/step - loss: 3498.4451 - mae: 3498.4451\n",
            "Epoch 37/100\n",
            "34/34 [==============================] - 0s 1ms/step - loss: 3483.4456 - mae: 3483.4456\n",
            "Epoch 38/100\n",
            "34/34 [==============================] - 0s 1ms/step - loss: 3498.4688 - mae: 3498.4688\n",
            "Epoch 39/100\n",
            "34/34 [==============================] - 0s 1ms/step - loss: 3570.6907 - mae: 3570.6907\n",
            "Epoch 40/100\n",
            "34/34 [==============================] - 0s 1ms/step - loss: 3550.5234 - mae: 3550.5234\n",
            "Epoch 41/100\n",
            "34/34 [==============================] - 0s 2ms/step - loss: 3537.9177 - mae: 3537.9177\n",
            "Epoch 42/100\n",
            "34/34 [==============================] - 0s 1ms/step - loss: 3510.6885 - mae: 3510.6885\n",
            "Epoch 43/100\n",
            "34/34 [==============================] - 0s 2ms/step - loss: 3502.3809 - mae: 3502.3809\n",
            "Epoch 44/100\n",
            "34/34 [==============================] - 0s 1ms/step - loss: 3530.7163 - mae: 3530.7163\n",
            "Epoch 45/100\n",
            "34/34 [==============================] - 0s 2ms/step - loss: 3520.0457 - mae: 3520.0457\n",
            "Epoch 46/100\n",
            "34/34 [==============================] - 0s 1ms/step - loss: 3492.8271 - mae: 3492.8271\n",
            "Epoch 47/100\n",
            "34/34 [==============================] - 0s 1ms/step - loss: 3499.2917 - mae: 3499.2917\n",
            "Epoch 48/100\n",
            "34/34 [==============================] - 0s 1ms/step - loss: 3491.9668 - mae: 3491.9668\n",
            "Epoch 49/100\n",
            "34/34 [==============================] - 0s 2ms/step - loss: 3496.6470 - mae: 3496.6470\n",
            "Epoch 50/100\n",
            "34/34 [==============================] - 0s 1ms/step - loss: 3509.4561 - mae: 3509.4561\n",
            "Epoch 51/100\n",
            "34/34 [==============================] - 0s 1ms/step - loss: 3486.0415 - mae: 3486.0415\n",
            "Epoch 52/100\n",
            "34/34 [==============================] - 0s 1ms/step - loss: 3483.9407 - mae: 3483.9407\n",
            "Epoch 53/100\n",
            "34/34 [==============================] - 0s 1ms/step - loss: 3540.1604 - mae: 3540.1604\n",
            "Epoch 54/100\n",
            "34/34 [==============================] - 0s 1ms/step - loss: 3496.6558 - mae: 3496.6558\n",
            "Epoch 55/100\n",
            "34/34 [==============================] - 0s 1ms/step - loss: 3525.2039 - mae: 3525.2039\n",
            "Epoch 56/100\n",
            "34/34 [==============================] - 0s 2ms/step - loss: 3490.4385 - mae: 3490.4385\n",
            "Epoch 57/100\n",
            "34/34 [==============================] - 0s 1ms/step - loss: 3500.1511 - mae: 3500.1511\n",
            "Epoch 58/100\n",
            "34/34 [==============================] - 0s 2ms/step - loss: 3512.7468 - mae: 3512.7468\n",
            "Epoch 59/100\n",
            "34/34 [==============================] - 0s 1ms/step - loss: 3488.7158 - mae: 3488.7158\n",
            "Epoch 60/100\n",
            "34/34 [==============================] - 0s 1ms/step - loss: 3506.2019 - mae: 3506.2019\n",
            "Epoch 61/100\n",
            "34/34 [==============================] - 0s 1ms/step - loss: 3530.4031 - mae: 3530.4031\n",
            "Epoch 62/100\n",
            "34/34 [==============================] - 0s 1ms/step - loss: 3502.8271 - mae: 3502.8271\n",
            "Epoch 63/100\n",
            "34/34 [==============================] - 0s 1ms/step - loss: 3529.9805 - mae: 3529.9805\n",
            "Epoch 64/100\n",
            "34/34 [==============================] - 0s 1ms/step - loss: 3500.5581 - mae: 3500.5581\n",
            "Epoch 65/100\n",
            "34/34 [==============================] - 0s 1ms/step - loss: 3491.7366 - mae: 3491.7366\n",
            "Epoch 66/100\n",
            "34/34 [==============================] - 0s 1ms/step - loss: 3529.8508 - mae: 3529.8508\n",
            "Epoch 67/100\n",
            "34/34 [==============================] - 0s 1ms/step - loss: 3503.4092 - mae: 3503.4092\n",
            "Epoch 68/100\n",
            "34/34 [==============================] - 0s 1ms/step - loss: 3551.6047 - mae: 3551.6047\n",
            "Epoch 69/100\n",
            "34/34 [==============================] - 0s 1ms/step - loss: 3491.9392 - mae: 3491.9392\n",
            "Epoch 70/100\n",
            "34/34 [==============================] - 0s 2ms/step - loss: 3487.3430 - mae: 3487.3430\n",
            "Epoch 71/100\n",
            "34/34 [==============================] - 0s 2ms/step - loss: 3497.8567 - mae: 3497.8567\n",
            "Epoch 72/100\n",
            "34/34 [==============================] - 0s 1ms/step - loss: 3500.9001 - mae: 3500.9001\n",
            "Epoch 73/100\n",
            "34/34 [==============================] - 0s 1ms/step - loss: 3500.8152 - mae: 3500.8152\n",
            "Epoch 74/100\n",
            "34/34 [==============================] - 0s 1ms/step - loss: 3489.2954 - mae: 3489.2954\n",
            "Epoch 75/100\n",
            "34/34 [==============================] - 0s 1ms/step - loss: 3492.3975 - mae: 3492.3975\n",
            "Epoch 76/100\n",
            "34/34 [==============================] - 0s 2ms/step - loss: 3512.7344 - mae: 3512.7344\n",
            "Epoch 77/100\n",
            "34/34 [==============================] - 0s 1ms/step - loss: 3513.1602 - mae: 3513.1602\n",
            "Epoch 78/100\n",
            "34/34 [==============================] - 0s 1ms/step - loss: 3535.5242 - mae: 3535.5242\n",
            "Epoch 79/100\n",
            "34/34 [==============================] - 0s 2ms/step - loss: 3518.9011 - mae: 3518.9011\n",
            "Epoch 80/100\n",
            "34/34 [==============================] - 0s 1ms/step - loss: 3559.6011 - mae: 3559.6011\n",
            "Epoch 81/100\n",
            "34/34 [==============================] - 0s 1ms/step - loss: 3524.0120 - mae: 3524.0120\n",
            "Epoch 82/100\n",
            "34/34 [==============================] - 0s 1ms/step - loss: 3530.7910 - mae: 3530.7910\n",
            "Epoch 83/100\n",
            "34/34 [==============================] - 0s 1ms/step - loss: 3508.1887 - mae: 3508.1887\n",
            "Epoch 84/100\n",
            "34/34 [==============================] - 0s 1ms/step - loss: 3504.8369 - mae: 3504.8369\n",
            "Epoch 85/100\n",
            "34/34 [==============================] - 0s 2ms/step - loss: 3495.8892 - mae: 3495.8892\n",
            "Epoch 86/100\n",
            "34/34 [==============================] - 0s 1ms/step - loss: 3521.8457 - mae: 3521.8457\n",
            "Epoch 87/100\n",
            "34/34 [==============================] - 0s 1ms/step - loss: 3511.4033 - mae: 3511.4033\n",
            "Epoch 88/100\n",
            "34/34 [==============================] - 0s 1ms/step - loss: 3514.8713 - mae: 3514.8713\n",
            "Epoch 89/100\n",
            "34/34 [==============================] - 0s 1ms/step - loss: 3501.3960 - mae: 3501.3960\n",
            "Epoch 90/100\n",
            "34/34 [==============================] - 0s 1ms/step - loss: 3504.9182 - mae: 3504.9182\n",
            "Epoch 91/100\n",
            "34/34 [==============================] - 0s 1ms/step - loss: 3517.8367 - mae: 3517.8367\n",
            "Epoch 92/100\n",
            "34/34 [==============================] - 0s 1ms/step - loss: 3560.4402 - mae: 3560.4402\n",
            "Epoch 93/100\n",
            "34/34 [==============================] - 0s 2ms/step - loss: 3525.1565 - mae: 3525.1565\n",
            "Epoch 94/100\n",
            "34/34 [==============================] - 0s 1ms/step - loss: 3517.9932 - mae: 3517.9932\n",
            "Epoch 95/100\n",
            "34/34 [==============================] - 0s 1ms/step - loss: 3521.5796 - mae: 3521.5796\n",
            "Epoch 96/100\n",
            "34/34 [==============================] - 0s 1ms/step - loss: 3509.8369 - mae: 3509.8369\n",
            "Epoch 97/100\n",
            "34/34 [==============================] - 0s 2ms/step - loss: 3512.9517 - mae: 3512.9517\n",
            "Epoch 98/100\n",
            "34/34 [==============================] - 0s 1ms/step - loss: 3526.1648 - mae: 3526.1648\n",
            "Epoch 99/100\n",
            "34/34 [==============================] - 0s 1ms/step - loss: 3497.7283 - mae: 3497.7283\n",
            "Epoch 100/100\n",
            "34/34 [==============================] - 0s 2ms/step - loss: 3492.5662 - mae: 3492.5662\n"
          ]
        }
      ]
    },
    {
      "cell_type": "code",
      "source": [
        "# Evaluate data_model_3 on the test dataset\n",
        "data_model_3.evaluate(x_test, y_test)"
      ],
      "metadata": {
        "colab": {
          "base_uri": "https://localhost:8080/"
        },
        "id": "NoxlxdV8HLxb",
        "outputId": "b656caeb-95a9-45b9-f229-75732ace07e0"
      },
      "execution_count": 19,
      "outputs": [
        {
          "output_type": "stream",
          "name": "stdout",
          "text": [
            "9/9 [==============================] - 0s 2ms/step - loss: 12979.7881 - mae: 12979.7881\n"
          ]
        },
        {
          "output_type": "execute_result",
          "data": {
            "text/plain": [
              "[12979.7880859375, 12979.7880859375]"
            ]
          },
          "metadata": {},
          "execution_count": 19
        }
      ]
    },
    {
      "cell_type": "markdown",
      "source": [
        "#### When we increase the default learning rate by 10x, our model performs almost the same result as the default learning rate on the training dataset. However, the model performs too bad on the test (unseen) dataset. Thus, it can't generalize better than the other models."
      ],
      "metadata": {
        "id": "ZZbZcBMGH7ZU"
      }
    },
    {
      "cell_type": "markdown",
      "source": [
        "### What happens if you train for longer (say 300 epochs instead of 200)?"
      ],
      "metadata": {
        "id": "wqGvMCP9JQI8"
      }
    },
    {
      "cell_type": "code",
      "source": [
        "# Now let's train data_model_1 for longer (300 epochs)\n",
        "\n",
        "# Set random seed\n",
        "tf.random.set_seed(42)\n",
        "\n",
        "# Create a model\n",
        "data_model_4 = tf.keras.Sequential([\n",
        "    tf.keras.layers.Dense(100),\n",
        "    tf.keras.layers.Dense(50),\n",
        "    tf.keras.layers.Dense(25),\n",
        "    tf.keras.layers.Dense(12),\n",
        "    tf.keras.layers.Dense(1)\n",
        "])\n",
        "\n",
        "# Complie the model\n",
        "data_model_4.compile(loss=tf.keras.losses.mae,\n",
        "                     optimizer=tf.keras.optimizers.Adam(),\n",
        "                     metrics=[\"mae\"])\n",
        "\n",
        "# Fit the model\n",
        "history_model_4 = data_model_4.fit(x_train, y_train, epochs=300)"
      ],
      "metadata": {
        "colab": {
          "base_uri": "https://localhost:8080/"
        },
        "id": "CJ2OnnfIHuQ-",
        "outputId": "3c7d1165-7454-4cbd-8a2b-ee1f5c86a8bd"
      },
      "execution_count": 21,
      "outputs": [
        {
          "output_type": "stream",
          "name": "stdout",
          "text": [
            "Epoch 1/300\n",
            "34/34 [==============================] - 1s 3ms/step - loss: 13146.6318 - mae: 13146.6318\n",
            "Epoch 2/300\n",
            "34/34 [==============================] - 0s 3ms/step - loss: 10599.1631 - mae: 10599.1631\n",
            "Epoch 3/300\n",
            "34/34 [==============================] - 0s 2ms/step - loss: 7460.2739 - mae: 7460.2739\n",
            "Epoch 4/300\n",
            "34/34 [==============================] - 0s 2ms/step - loss: 7313.8081 - mae: 7313.8081\n",
            "Epoch 5/300\n",
            "34/34 [==============================] - 0s 3ms/step - loss: 7226.6792 - mae: 7226.6792\n",
            "Epoch 6/300\n",
            "34/34 [==============================] - 0s 3ms/step - loss: 7119.4399 - mae: 7119.4399\n",
            "Epoch 7/300\n",
            "34/34 [==============================] - 0s 2ms/step - loss: 7012.7163 - mae: 7012.7163\n",
            "Epoch 8/300\n",
            "34/34 [==============================] - 0s 2ms/step - loss: 6874.6323 - mae: 6874.6323\n",
            "Epoch 9/300\n",
            "34/34 [==============================] - 0s 1ms/step - loss: 6734.7544 - mae: 6734.7544\n",
            "Epoch 10/300\n",
            "34/34 [==============================] - 0s 2ms/step - loss: 6639.8989 - mae: 6639.8989\n",
            "Epoch 11/300\n",
            "34/34 [==============================] - 0s 1ms/step - loss: 6629.6284 - mae: 6629.6284\n",
            "Epoch 12/300\n",
            "34/34 [==============================] - 0s 1ms/step - loss: 6573.6406 - mae: 6573.6406\n",
            "Epoch 13/300\n",
            "34/34 [==============================] - 0s 1ms/step - loss: 6509.7920 - mae: 6509.7920\n",
            "Epoch 14/300\n",
            "34/34 [==============================] - 0s 1ms/step - loss: 6477.7510 - mae: 6477.7510\n",
            "Epoch 15/300\n",
            "34/34 [==============================] - 0s 2ms/step - loss: 6445.1987 - mae: 6445.1987\n",
            "Epoch 16/300\n",
            "34/34 [==============================] - 0s 2ms/step - loss: 6388.5815 - mae: 6388.5815\n",
            "Epoch 17/300\n",
            "34/34 [==============================] - 0s 1ms/step - loss: 6348.0776 - mae: 6348.0776\n",
            "Epoch 18/300\n",
            "34/34 [==============================] - 0s 1ms/step - loss: 6299.7031 - mae: 6299.7031\n",
            "Epoch 19/300\n",
            "34/34 [==============================] - 0s 1ms/step - loss: 6247.5312 - mae: 6247.5312\n",
            "Epoch 20/300\n",
            "34/34 [==============================] - 0s 1ms/step - loss: 6179.8848 - mae: 6179.8848\n",
            "Epoch 21/300\n",
            "34/34 [==============================] - 0s 2ms/step - loss: 6098.4204 - mae: 6098.4204\n",
            "Epoch 22/300\n",
            "34/34 [==============================] - 0s 1ms/step - loss: 6029.2173 - mae: 6029.2173\n",
            "Epoch 23/300\n",
            "34/34 [==============================] - 0s 1ms/step - loss: 5911.6523 - mae: 5911.6523\n",
            "Epoch 24/300\n",
            "34/34 [==============================] - 0s 2ms/step - loss: 5798.3916 - mae: 5798.3916\n",
            "Epoch 25/300\n",
            "34/34 [==============================] - 0s 2ms/step - loss: 5626.1592 - mae: 5626.1592\n",
            "Epoch 26/300\n",
            "34/34 [==============================] - 0s 1ms/step - loss: 5362.2988 - mae: 5362.2988\n",
            "Epoch 27/300\n",
            "34/34 [==============================] - 0s 2ms/step - loss: 5024.2793 - mae: 5024.2793\n",
            "Epoch 28/300\n",
            "34/34 [==============================] - 0s 1ms/step - loss: 4555.9116 - mae: 4555.9116\n",
            "Epoch 29/300\n",
            "34/34 [==============================] - 0s 1ms/step - loss: 4072.5818 - mae: 4072.5818\n",
            "Epoch 30/300\n",
            "34/34 [==============================] - 0s 2ms/step - loss: 3910.0913 - mae: 3910.0913\n",
            "Epoch 31/300\n",
            "34/34 [==============================] - 0s 1ms/step - loss: 3861.1387 - mae: 3861.1387\n",
            "Epoch 32/300\n",
            "34/34 [==============================] - 0s 1ms/step - loss: 3840.6941 - mae: 3840.6941\n",
            "Epoch 33/300\n",
            "34/34 [==============================] - 0s 1ms/step - loss: 3879.5613 - mae: 3879.5613\n",
            "Epoch 34/300\n",
            "34/34 [==============================] - 0s 1ms/step - loss: 3972.6692 - mae: 3972.6692\n",
            "Epoch 35/300\n",
            "34/34 [==============================] - 0s 2ms/step - loss: 3791.4006 - mae: 3791.4006\n",
            "Epoch 36/300\n",
            "34/34 [==============================] - 0s 2ms/step - loss: 3794.9319 - mae: 3794.9319\n",
            "Epoch 37/300\n",
            "34/34 [==============================] - 0s 1ms/step - loss: 3779.4143 - mae: 3779.4143\n",
            "Epoch 38/300\n",
            "34/34 [==============================] - 0s 2ms/step - loss: 3780.1726 - mae: 3780.1726\n",
            "Epoch 39/300\n",
            "34/34 [==============================] - 0s 1ms/step - loss: 3776.1531 - mae: 3776.1531\n",
            "Epoch 40/300\n",
            "34/34 [==============================] - 0s 1ms/step - loss: 3748.7419 - mae: 3748.7419\n",
            "Epoch 41/300\n",
            "34/34 [==============================] - 0s 2ms/step - loss: 3817.6360 - mae: 3817.6360\n",
            "Epoch 42/300\n",
            "34/34 [==============================] - 0s 1ms/step - loss: 3818.6111 - mae: 3818.6111\n",
            "Epoch 43/300\n",
            "34/34 [==============================] - 0s 1ms/step - loss: 3762.4927 - mae: 3762.4927\n",
            "Epoch 44/300\n",
            "34/34 [==============================] - 0s 1ms/step - loss: 3775.5986 - mae: 3775.5986\n",
            "Epoch 45/300\n",
            "34/34 [==============================] - 0s 1ms/step - loss: 3749.7141 - mae: 3749.7141\n",
            "Epoch 46/300\n",
            "34/34 [==============================] - 0s 1ms/step - loss: 3715.9377 - mae: 3715.9377\n",
            "Epoch 47/300\n",
            "34/34 [==============================] - 0s 1ms/step - loss: 3759.1436 - mae: 3759.1436\n",
            "Epoch 48/300\n",
            "34/34 [==============================] - 0s 1ms/step - loss: 3699.2603 - mae: 3699.2603\n",
            "Epoch 49/300\n",
            "34/34 [==============================] - 0s 1ms/step - loss: 3702.4211 - mae: 3702.4211\n",
            "Epoch 50/300\n",
            "34/34 [==============================] - 0s 1ms/step - loss: 3726.1199 - mae: 3726.1199\n",
            "Epoch 51/300\n",
            "34/34 [==============================] - 0s 1ms/step - loss: 3688.2544 - mae: 3688.2544\n",
            "Epoch 52/300\n",
            "34/34 [==============================] - 0s 2ms/step - loss: 3660.7117 - mae: 3660.7117\n",
            "Epoch 53/300\n",
            "34/34 [==============================] - 0s 2ms/step - loss: 3680.4382 - mae: 3680.4382\n",
            "Epoch 54/300\n",
            "34/34 [==============================] - 0s 2ms/step - loss: 3702.5447 - mae: 3702.5447\n",
            "Epoch 55/300\n",
            "34/34 [==============================] - 0s 2ms/step - loss: 3685.7861 - mae: 3685.7861\n",
            "Epoch 56/300\n",
            "34/34 [==============================] - 0s 1ms/step - loss: 3635.0447 - mae: 3635.0447\n",
            "Epoch 57/300\n",
            "34/34 [==============================] - 0s 1ms/step - loss: 3644.6011 - mae: 3644.6011\n",
            "Epoch 58/300\n",
            "34/34 [==============================] - 0s 2ms/step - loss: 3654.8547 - mae: 3654.8547\n",
            "Epoch 59/300\n",
            "34/34 [==============================] - 0s 2ms/step - loss: 3622.5803 - mae: 3622.5803\n",
            "Epoch 60/300\n",
            "34/34 [==============================] - 0s 1ms/step - loss: 3635.6582 - mae: 3635.6582\n",
            "Epoch 61/300\n",
            "34/34 [==============================] - 0s 1ms/step - loss: 3620.6296 - mae: 3620.6296\n",
            "Epoch 62/300\n",
            "34/34 [==============================] - 0s 1ms/step - loss: 3608.8662 - mae: 3608.8662\n",
            "Epoch 63/300\n",
            "34/34 [==============================] - 0s 1ms/step - loss: 3664.2676 - mae: 3664.2676\n",
            "Epoch 64/300\n",
            "34/34 [==============================] - 0s 1ms/step - loss: 3648.7539 - mae: 3648.7539\n",
            "Epoch 65/300\n",
            "34/34 [==============================] - 0s 1ms/step - loss: 3594.0359 - mae: 3594.0359\n",
            "Epoch 66/300\n",
            "34/34 [==============================] - 0s 1ms/step - loss: 3605.9407 - mae: 3605.9407\n",
            "Epoch 67/300\n",
            "34/34 [==============================] - 0s 2ms/step - loss: 3572.7827 - mae: 3572.7827\n",
            "Epoch 68/300\n",
            "34/34 [==============================] - 0s 1ms/step - loss: 3571.3550 - mae: 3571.3550\n",
            "Epoch 69/300\n",
            "34/34 [==============================] - 0s 1ms/step - loss: 3560.3071 - mae: 3560.3071\n",
            "Epoch 70/300\n",
            "34/34 [==============================] - 0s 1ms/step - loss: 3559.8118 - mae: 3559.8118\n",
            "Epoch 71/300\n",
            "34/34 [==============================] - 0s 1ms/step - loss: 3534.1670 - mae: 3534.1670\n",
            "Epoch 72/300\n",
            "34/34 [==============================] - 0s 2ms/step - loss: 3549.3804 - mae: 3549.3804\n",
            "Epoch 73/300\n",
            "34/34 [==============================] - 0s 1ms/step - loss: 3535.0308 - mae: 3535.0308\n",
            "Epoch 74/300\n",
            "34/34 [==============================] - 0s 1ms/step - loss: 3519.4531 - mae: 3519.4531\n",
            "Epoch 75/300\n",
            "34/34 [==============================] - 0s 2ms/step - loss: 3543.1113 - mae: 3543.1113\n",
            "Epoch 76/300\n",
            "34/34 [==============================] - 0s 1ms/step - loss: 3545.7051 - mae: 3545.7051\n",
            "Epoch 77/300\n",
            "34/34 [==============================] - 0s 1ms/step - loss: 3516.0288 - mae: 3516.0288\n",
            "Epoch 78/300\n",
            "34/34 [==============================] - 0s 1ms/step - loss: 3571.1096 - mae: 3571.1096\n",
            "Epoch 79/300\n",
            "34/34 [==============================] - 0s 1ms/step - loss: 3568.3081 - mae: 3568.3081\n",
            "Epoch 80/300\n",
            "34/34 [==============================] - 0s 1ms/step - loss: 3525.7256 - mae: 3525.7256\n",
            "Epoch 81/300\n",
            "34/34 [==============================] - 0s 1ms/step - loss: 3542.0652 - mae: 3542.0652\n",
            "Epoch 82/300\n",
            "34/34 [==============================] - 0s 2ms/step - loss: 3516.6387 - mae: 3516.6387\n",
            "Epoch 83/300\n",
            "34/34 [==============================] - 0s 1ms/step - loss: 3516.7983 - mae: 3516.7983\n",
            "Epoch 84/300\n",
            "34/34 [==============================] - 0s 2ms/step - loss: 3497.6738 - mae: 3497.6738\n",
            "Epoch 85/300\n",
            "34/34 [==============================] - 0s 1ms/step - loss: 3491.3586 - mae: 3491.3586\n",
            "Epoch 86/300\n",
            "34/34 [==============================] - 0s 1ms/step - loss: 3515.1665 - mae: 3515.1665\n",
            "Epoch 87/300\n",
            "34/34 [==============================] - 0s 2ms/step - loss: 3508.8486 - mae: 3508.8486\n",
            "Epoch 88/300\n",
            "34/34 [==============================] - 0s 1ms/step - loss: 3531.7891 - mae: 3531.7891\n",
            "Epoch 89/300\n",
            "34/34 [==============================] - 0s 2ms/step - loss: 3499.7026 - mae: 3499.7026\n",
            "Epoch 90/300\n",
            "34/34 [==============================] - 0s 1ms/step - loss: 3546.7104 - mae: 3546.7104\n",
            "Epoch 91/300\n",
            "34/34 [==============================] - 0s 2ms/step - loss: 3553.0718 - mae: 3553.0718\n",
            "Epoch 92/300\n",
            "34/34 [==============================] - 0s 1ms/step - loss: 3559.6597 - mae: 3559.6597\n",
            "Epoch 93/300\n",
            "34/34 [==============================] - 0s 1ms/step - loss: 3527.3462 - mae: 3527.3462\n",
            "Epoch 94/300\n",
            "34/34 [==============================] - 0s 1ms/step - loss: 3527.6643 - mae: 3527.6643\n",
            "Epoch 95/300\n",
            "34/34 [==============================] - 0s 1ms/step - loss: 3562.1873 - mae: 3562.1873\n",
            "Epoch 96/300\n",
            "34/34 [==============================] - 0s 1ms/step - loss: 3501.1047 - mae: 3501.1047\n",
            "Epoch 97/300\n",
            "34/34 [==============================] - 0s 1ms/step - loss: 3517.6541 - mae: 3517.6541\n",
            "Epoch 98/300\n",
            "34/34 [==============================] - 0s 1ms/step - loss: 3542.5784 - mae: 3542.5784\n",
            "Epoch 99/300\n",
            "34/34 [==============================] - 0s 1ms/step - loss: 3507.9285 - mae: 3507.9285\n",
            "Epoch 100/300\n",
            "34/34 [==============================] - 0s 1ms/step - loss: 3498.6699 - mae: 3498.6699\n",
            "Epoch 101/300\n",
            "34/34 [==============================] - 0s 1ms/step - loss: 3511.6699 - mae: 3511.6699\n",
            "Epoch 102/300\n",
            "34/34 [==============================] - 0s 2ms/step - loss: 3499.3484 - mae: 3499.3484\n",
            "Epoch 103/300\n",
            "34/34 [==============================] - 0s 2ms/step - loss: 3510.9402 - mae: 3510.9402\n",
            "Epoch 104/300\n",
            "34/34 [==============================] - 0s 1ms/step - loss: 3495.0671 - mae: 3495.0671\n",
            "Epoch 105/300\n",
            "34/34 [==============================] - 0s 1ms/step - loss: 3549.8279 - mae: 3549.8279\n",
            "Epoch 106/300\n",
            "34/34 [==============================] - 0s 2ms/step - loss: 3602.5696 - mae: 3602.5696\n",
            "Epoch 107/300\n",
            "34/34 [==============================] - 0s 1ms/step - loss: 3503.5530 - mae: 3503.5530\n",
            "Epoch 108/300\n",
            "34/34 [==============================] - 0s 1ms/step - loss: 3506.3796 - mae: 3506.3796\n",
            "Epoch 109/300\n",
            "34/34 [==============================] - 0s 2ms/step - loss: 3593.2820 - mae: 3593.2820\n",
            "Epoch 110/300\n",
            "34/34 [==============================] - 0s 1ms/step - loss: 3499.9756 - mae: 3499.9756\n",
            "Epoch 111/300\n",
            "34/34 [==============================] - 0s 1ms/step - loss: 3509.2102 - mae: 3509.2102\n",
            "Epoch 112/300\n",
            "34/34 [==============================] - 0s 1ms/step - loss: 3500.7817 - mae: 3500.7817\n",
            "Epoch 113/300\n",
            "34/34 [==============================] - 0s 1ms/step - loss: 3513.5134 - mae: 3513.5134\n",
            "Epoch 114/300\n",
            "34/34 [==============================] - 0s 1ms/step - loss: 3542.8884 - mae: 3542.8884\n",
            "Epoch 115/300\n",
            "34/34 [==============================] - 0s 1ms/step - loss: 3568.8657 - mae: 3568.8657\n",
            "Epoch 116/300\n",
            "34/34 [==============================] - 0s 1ms/step - loss: 3497.1875 - mae: 3497.1875\n",
            "Epoch 117/300\n",
            "34/34 [==============================] - 0s 1ms/step - loss: 3500.8750 - mae: 3500.8750\n",
            "Epoch 118/300\n",
            "34/34 [==============================] - 0s 2ms/step - loss: 3519.0190 - mae: 3519.0190\n",
            "Epoch 119/300\n",
            "34/34 [==============================] - 0s 2ms/step - loss: 3532.6472 - mae: 3532.6472\n",
            "Epoch 120/300\n",
            "34/34 [==============================] - 0s 1ms/step - loss: 3487.8723 - mae: 3487.8723\n",
            "Epoch 121/300\n",
            "34/34 [==============================] - 0s 1ms/step - loss: 3493.4141 - mae: 3493.4141\n",
            "Epoch 122/300\n",
            "34/34 [==============================] - 0s 1ms/step - loss: 3503.1467 - mae: 3503.1467\n",
            "Epoch 123/300\n",
            "34/34 [==============================] - 0s 2ms/step - loss: 3503.0430 - mae: 3503.0430\n",
            "Epoch 124/300\n",
            "34/34 [==============================] - 0s 1ms/step - loss: 3496.5266 - mae: 3496.5266\n",
            "Epoch 125/300\n",
            "34/34 [==============================] - 0s 1ms/step - loss: 3512.6167 - mae: 3512.6167\n",
            "Epoch 126/300\n",
            "34/34 [==============================] - 0s 1ms/step - loss: 3494.5452 - mae: 3494.5452\n",
            "Epoch 127/300\n",
            "34/34 [==============================] - 0s 2ms/step - loss: 3539.8962 - mae: 3539.8962\n",
            "Epoch 128/300\n",
            "34/34 [==============================] - 0s 1ms/step - loss: 3611.1558 - mae: 3611.1558\n",
            "Epoch 129/300\n",
            "34/34 [==============================] - 0s 1ms/step - loss: 3508.6858 - mae: 3508.6858\n",
            "Epoch 130/300\n",
            "34/34 [==============================] - 0s 1ms/step - loss: 3592.2961 - mae: 3592.2961\n",
            "Epoch 131/300\n",
            "34/34 [==============================] - 0s 2ms/step - loss: 3515.9788 - mae: 3515.9788\n",
            "Epoch 132/300\n",
            "34/34 [==============================] - 0s 1ms/step - loss: 3517.0549 - mae: 3517.0549\n",
            "Epoch 133/300\n",
            "34/34 [==============================] - 0s 2ms/step - loss: 3540.8398 - mae: 3540.8398\n",
            "Epoch 134/300\n",
            "34/34 [==============================] - 0s 1ms/step - loss: 3534.1763 - mae: 3534.1763\n",
            "Epoch 135/300\n",
            "34/34 [==============================] - 0s 2ms/step - loss: 3516.0256 - mae: 3516.0256\n",
            "Epoch 136/300\n",
            "34/34 [==============================] - 0s 1ms/step - loss: 3496.2998 - mae: 3496.2998\n",
            "Epoch 137/300\n",
            "34/34 [==============================] - 0s 1ms/step - loss: 3541.3823 - mae: 3541.3823\n",
            "Epoch 138/300\n",
            "34/34 [==============================] - 0s 1ms/step - loss: 3514.3818 - mae: 3514.3818\n",
            "Epoch 139/300\n",
            "34/34 [==============================] - 0s 1ms/step - loss: 3522.8586 - mae: 3522.8586\n",
            "Epoch 140/300\n",
            "34/34 [==============================] - 0s 2ms/step - loss: 3508.5886 - mae: 3508.5886\n",
            "Epoch 141/300\n",
            "34/34 [==============================] - 0s 1ms/step - loss: 3540.7947 - mae: 3540.7947\n",
            "Epoch 142/300\n",
            "34/34 [==============================] - 0s 1ms/step - loss: 3507.2500 - mae: 3507.2500\n",
            "Epoch 143/300\n",
            "34/34 [==============================] - 0s 2ms/step - loss: 3488.5085 - mae: 3488.5085\n",
            "Epoch 144/300\n",
            "34/34 [==============================] - 0s 1ms/step - loss: 3496.2512 - mae: 3496.2512\n",
            "Epoch 145/300\n",
            "34/34 [==============================] - 0s 1ms/step - loss: 3507.4102 - mae: 3507.4102\n",
            "Epoch 146/300\n",
            "34/34 [==============================] - 0s 1ms/step - loss: 3493.0701 - mae: 3493.0701\n",
            "Epoch 147/300\n",
            "34/34 [==============================] - 0s 1ms/step - loss: 3543.2949 - mae: 3543.2949\n",
            "Epoch 148/300\n",
            "34/34 [==============================] - 0s 1ms/step - loss: 3517.9817 - mae: 3517.9817\n",
            "Epoch 149/300\n",
            "34/34 [==============================] - 0s 1ms/step - loss: 3499.7158 - mae: 3499.7158\n",
            "Epoch 150/300\n",
            "34/34 [==============================] - 0s 1ms/step - loss: 3493.5571 - mae: 3493.5571\n",
            "Epoch 151/300\n",
            "34/34 [==============================] - 0s 1ms/step - loss: 3517.2961 - mae: 3517.2961\n",
            "Epoch 152/300\n",
            "34/34 [==============================] - 0s 2ms/step - loss: 3549.3584 - mae: 3549.3584\n",
            "Epoch 153/300\n",
            "34/34 [==============================] - 0s 1ms/step - loss: 3576.6399 - mae: 3576.6399\n",
            "Epoch 154/300\n",
            "34/34 [==============================] - 0s 1ms/step - loss: 3533.2820 - mae: 3533.2820\n",
            "Epoch 155/300\n",
            "34/34 [==============================] - 0s 1ms/step - loss: 3502.1604 - mae: 3502.1604\n",
            "Epoch 156/300\n",
            "34/34 [==============================] - 0s 1ms/step - loss: 3497.4548 - mae: 3497.4548\n",
            "Epoch 157/300\n",
            "34/34 [==============================] - 0s 2ms/step - loss: 3537.1738 - mae: 3537.1738\n",
            "Epoch 158/300\n",
            "34/34 [==============================] - 0s 2ms/step - loss: 3505.8828 - mae: 3505.8828\n",
            "Epoch 159/300\n",
            "34/34 [==============================] - 0s 1ms/step - loss: 3494.4153 - mae: 3494.4153\n",
            "Epoch 160/300\n",
            "34/34 [==============================] - 0s 1ms/step - loss: 3594.7019 - mae: 3594.7019\n",
            "Epoch 161/300\n",
            "34/34 [==============================] - 0s 1ms/step - loss: 3554.3584 - mae: 3554.3584\n",
            "Epoch 162/300\n",
            "34/34 [==============================] - 0s 2ms/step - loss: 3500.3369 - mae: 3500.3369\n",
            "Epoch 163/300\n",
            "34/34 [==============================] - 0s 1ms/step - loss: 3507.2134 - mae: 3507.2134\n",
            "Epoch 164/300\n",
            "34/34 [==============================] - 0s 1ms/step - loss: 3504.0583 - mae: 3504.0583\n",
            "Epoch 165/300\n",
            "34/34 [==============================] - 0s 1ms/step - loss: 3564.2234 - mae: 3564.2234\n",
            "Epoch 166/300\n",
            "34/34 [==============================] - 0s 2ms/step - loss: 3486.7620 - mae: 3486.7620\n",
            "Epoch 167/300\n",
            "34/34 [==============================] - 0s 2ms/step - loss: 3522.6140 - mae: 3522.6140\n",
            "Epoch 168/300\n",
            "34/34 [==============================] - 0s 1ms/step - loss: 3506.8479 - mae: 3506.8479\n",
            "Epoch 169/300\n",
            "34/34 [==============================] - 0s 2ms/step - loss: 3490.8262 - mae: 3490.8262\n",
            "Epoch 170/300\n",
            "34/34 [==============================] - 0s 1ms/step - loss: 3512.7637 - mae: 3512.7637\n",
            "Epoch 171/300\n",
            "34/34 [==============================] - 0s 1ms/step - loss: 3531.7446 - mae: 3531.7446\n",
            "Epoch 172/300\n",
            "34/34 [==============================] - 0s 1ms/step - loss: 3516.1189 - mae: 3516.1189\n",
            "Epoch 173/300\n",
            "34/34 [==============================] - 0s 2ms/step - loss: 3536.5186 - mae: 3536.5186\n",
            "Epoch 174/300\n",
            "34/34 [==============================] - 0s 1ms/step - loss: 3502.9565 - mae: 3502.9565\n",
            "Epoch 175/300\n",
            "34/34 [==============================] - 0s 1ms/step - loss: 3503.5232 - mae: 3503.5232\n",
            "Epoch 176/300\n",
            "34/34 [==============================] - 0s 2ms/step - loss: 3505.5891 - mae: 3505.5891\n",
            "Epoch 177/300\n",
            "34/34 [==============================] - 0s 1ms/step - loss: 3505.5979 - mae: 3505.5979\n",
            "Epoch 178/300\n",
            "34/34 [==============================] - 0s 2ms/step - loss: 3499.1248 - mae: 3499.1248\n",
            "Epoch 179/300\n",
            "34/34 [==============================] - 0s 1ms/step - loss: 3533.8044 - mae: 3533.8044\n",
            "Epoch 180/300\n",
            "34/34 [==============================] - 0s 1ms/step - loss: 3499.6216 - mae: 3499.6216\n",
            "Epoch 181/300\n",
            "34/34 [==============================] - 0s 1ms/step - loss: 3519.4006 - mae: 3519.4006\n",
            "Epoch 182/300\n",
            "34/34 [==============================] - 0s 1ms/step - loss: 3513.8926 - mae: 3513.8926\n",
            "Epoch 183/300\n",
            "34/34 [==============================] - 0s 1ms/step - loss: 3529.2991 - mae: 3529.2991\n",
            "Epoch 184/300\n",
            "34/34 [==============================] - 0s 2ms/step - loss: 3645.1218 - mae: 3645.1218\n",
            "Epoch 185/300\n",
            "34/34 [==============================] - 0s 1ms/step - loss: 3515.3784 - mae: 3515.3784\n",
            "Epoch 186/300\n",
            "34/34 [==============================] - 0s 1ms/step - loss: 3581.1523 - mae: 3581.1523\n",
            "Epoch 187/300\n",
            "34/34 [==============================] - 0s 1ms/step - loss: 3601.1704 - mae: 3601.1704\n",
            "Epoch 188/300\n",
            "34/34 [==============================] - 0s 1ms/step - loss: 3530.8936 - mae: 3530.8936\n",
            "Epoch 189/300\n",
            "34/34 [==============================] - 0s 1ms/step - loss: 3501.6370 - mae: 3501.6370\n",
            "Epoch 190/300\n",
            "34/34 [==============================] - 0s 2ms/step - loss: 3496.2346 - mae: 3496.2346\n",
            "Epoch 191/300\n",
            "34/34 [==============================] - 0s 1ms/step - loss: 3495.9670 - mae: 3495.9670\n",
            "Epoch 192/300\n",
            "34/34 [==============================] - 0s 2ms/step - loss: 3509.3223 - mae: 3509.3223\n",
            "Epoch 193/300\n",
            "34/34 [==============================] - 0s 2ms/step - loss: 3533.3452 - mae: 3533.3452\n",
            "Epoch 194/300\n",
            "34/34 [==============================] - 0s 1ms/step - loss: 3494.3254 - mae: 3494.3254\n",
            "Epoch 195/300\n",
            "34/34 [==============================] - 0s 1ms/step - loss: 3519.5774 - mae: 3519.5774\n",
            "Epoch 196/300\n",
            "34/34 [==============================] - 0s 1ms/step - loss: 3522.3242 - mae: 3522.3242\n",
            "Epoch 197/300\n",
            "34/34 [==============================] - 0s 1ms/step - loss: 3503.0037 - mae: 3503.0037\n",
            "Epoch 198/300\n",
            "34/34 [==============================] - 0s 1ms/step - loss: 3497.1443 - mae: 3497.1443\n",
            "Epoch 199/300\n",
            "34/34 [==============================] - 0s 1ms/step - loss: 3484.7698 - mae: 3484.7698\n",
            "Epoch 200/300\n",
            "34/34 [==============================] - 0s 1ms/step - loss: 3501.0930 - mae: 3501.0930\n",
            "Epoch 201/300\n",
            "34/34 [==============================] - 0s 1ms/step - loss: 3513.0752 - mae: 3513.0752\n",
            "Epoch 202/300\n",
            "34/34 [==============================] - 0s 2ms/step - loss: 3535.6082 - mae: 3535.6082\n",
            "Epoch 203/300\n",
            "34/34 [==============================] - 0s 2ms/step - loss: 3551.7883 - mae: 3551.7883\n",
            "Epoch 204/300\n",
            "34/34 [==============================] - 0s 1ms/step - loss: 3513.4148 - mae: 3513.4148\n",
            "Epoch 205/300\n",
            "34/34 [==============================] - 0s 1ms/step - loss: 3533.3782 - mae: 3533.3782\n",
            "Epoch 206/300\n",
            "34/34 [==============================] - 0s 1ms/step - loss: 3499.5808 - mae: 3499.5808\n",
            "Epoch 207/300\n",
            "34/34 [==============================] - 0s 2ms/step - loss: 3511.4292 - mae: 3511.4292\n",
            "Epoch 208/300\n",
            "34/34 [==============================] - 0s 2ms/step - loss: 3503.4363 - mae: 3503.4363\n",
            "Epoch 209/300\n",
            "34/34 [==============================] - 0s 2ms/step - loss: 3508.3381 - mae: 3508.3381\n",
            "Epoch 210/300\n",
            "34/34 [==============================] - 0s 2ms/step - loss: 3504.2068 - mae: 3504.2068\n",
            "Epoch 211/300\n",
            "34/34 [==============================] - 0s 1ms/step - loss: 3509.2144 - mae: 3509.2144\n",
            "Epoch 212/300\n",
            "34/34 [==============================] - 0s 1ms/step - loss: 3524.1792 - mae: 3524.1792\n",
            "Epoch 213/300\n",
            "34/34 [==============================] - 0s 1ms/step - loss: 3495.3589 - mae: 3495.3589\n",
            "Epoch 214/300\n",
            "34/34 [==============================] - 0s 1ms/step - loss: 3478.2351 - mae: 3478.2351\n",
            "Epoch 215/300\n",
            "34/34 [==============================] - 0s 2ms/step - loss: 3524.5581 - mae: 3524.5581\n",
            "Epoch 216/300\n",
            "34/34 [==============================] - 0s 1ms/step - loss: 3491.4585 - mae: 3491.4585\n",
            "Epoch 217/300\n",
            "34/34 [==============================] - 0s 1ms/step - loss: 3488.9529 - mae: 3488.9529\n",
            "Epoch 218/300\n",
            "34/34 [==============================] - 0s 1ms/step - loss: 3533.1465 - mae: 3533.1465\n",
            "Epoch 219/300\n",
            "34/34 [==============================] - 0s 1ms/step - loss: 3552.4749 - mae: 3552.4749\n",
            "Epoch 220/300\n",
            "34/34 [==============================] - 0s 2ms/step - loss: 3488.2073 - mae: 3488.2073\n",
            "Epoch 221/300\n",
            "34/34 [==============================] - 0s 2ms/step - loss: 3524.9915 - mae: 3524.9915\n",
            "Epoch 222/300\n",
            "34/34 [==============================] - 0s 1ms/step - loss: 3650.8577 - mae: 3650.8577\n",
            "Epoch 223/300\n",
            "34/34 [==============================] - 0s 1ms/step - loss: 3546.1963 - mae: 3546.1963\n",
            "Epoch 224/300\n",
            "34/34 [==============================] - 0s 1ms/step - loss: 3502.3604 - mae: 3502.3604\n",
            "Epoch 225/300\n",
            "34/34 [==============================] - 0s 1ms/step - loss: 3496.4717 - mae: 3496.4717\n",
            "Epoch 226/300\n",
            "34/34 [==============================] - 0s 1ms/step - loss: 3500.0525 - mae: 3500.0525\n",
            "Epoch 227/300\n",
            "34/34 [==============================] - 0s 1ms/step - loss: 3536.7937 - mae: 3536.7937\n",
            "Epoch 228/300\n",
            "34/34 [==============================] - 0s 1ms/step - loss: 3494.5034 - mae: 3494.5034\n",
            "Epoch 229/300\n",
            "34/34 [==============================] - 0s 1ms/step - loss: 3536.1289 - mae: 3536.1289\n",
            "Epoch 230/300\n",
            "34/34 [==============================] - 0s 1ms/step - loss: 3531.8052 - mae: 3531.8052\n",
            "Epoch 231/300\n",
            "34/34 [==============================] - 0s 1ms/step - loss: 3511.2068 - mae: 3511.2070\n",
            "Epoch 232/300\n",
            "34/34 [==============================] - 0s 1ms/step - loss: 3520.8413 - mae: 3520.8413\n",
            "Epoch 233/300\n",
            "34/34 [==============================] - 0s 1ms/step - loss: 3498.0247 - mae: 3498.0247\n",
            "Epoch 234/300\n",
            "34/34 [==============================] - 0s 1ms/step - loss: 3486.5852 - mae: 3486.5852\n",
            "Epoch 235/300\n",
            "34/34 [==============================] - 0s 1ms/step - loss: 3488.7031 - mae: 3488.7031\n",
            "Epoch 236/300\n",
            "34/34 [==============================] - 0s 1ms/step - loss: 3510.5396 - mae: 3510.5396\n",
            "Epoch 237/300\n",
            "34/34 [==============================] - 0s 1ms/step - loss: 3506.1902 - mae: 3506.1902\n",
            "Epoch 238/300\n",
            "34/34 [==============================] - 0s 1ms/step - loss: 3519.6987 - mae: 3519.6987\n",
            "Epoch 239/300\n",
            "34/34 [==============================] - 0s 1ms/step - loss: 3501.6997 - mae: 3501.6997\n",
            "Epoch 240/300\n",
            "34/34 [==============================] - 0s 1ms/step - loss: 3514.2168 - mae: 3514.2168\n",
            "Epoch 241/300\n",
            "34/34 [==============================] - 0s 2ms/step - loss: 3566.3486 - mae: 3566.3486\n",
            "Epoch 242/300\n",
            "34/34 [==============================] - 0s 2ms/step - loss: 3538.9797 - mae: 3538.9797\n",
            "Epoch 243/300\n",
            "34/34 [==============================] - 0s 1ms/step - loss: 3553.0193 - mae: 3553.0193\n",
            "Epoch 244/300\n",
            "34/34 [==============================] - 0s 2ms/step - loss: 3507.4607 - mae: 3507.4607\n",
            "Epoch 245/300\n",
            "34/34 [==============================] - 0s 1ms/step - loss: 3524.8384 - mae: 3524.8384\n",
            "Epoch 246/300\n",
            "34/34 [==============================] - 0s 2ms/step - loss: 3538.3682 - mae: 3538.3682\n",
            "Epoch 247/300\n",
            "34/34 [==============================] - 0s 1ms/step - loss: 3524.1628 - mae: 3524.1628\n",
            "Epoch 248/300\n",
            "34/34 [==============================] - 0s 1ms/step - loss: 3514.4331 - mae: 3514.4331\n",
            "Epoch 249/300\n",
            "34/34 [==============================] - 0s 2ms/step - loss: 3532.8865 - mae: 3532.8865\n",
            "Epoch 250/300\n",
            "34/34 [==============================] - 0s 1ms/step - loss: 3503.0337 - mae: 3503.0337\n",
            "Epoch 251/300\n",
            "34/34 [==============================] - 0s 2ms/step - loss: 3499.2439 - mae: 3499.2439\n",
            "Epoch 252/300\n",
            "34/34 [==============================] - 0s 1ms/step - loss: 3525.7349 - mae: 3525.7349\n",
            "Epoch 253/300\n",
            "34/34 [==============================] - 0s 1ms/step - loss: 3504.7468 - mae: 3504.7468\n",
            "Epoch 254/300\n",
            "34/34 [==============================] - 0s 2ms/step - loss: 3511.0686 - mae: 3511.0686\n",
            "Epoch 255/300\n",
            "34/34 [==============================] - 0s 1ms/step - loss: 3485.6614 - mae: 3485.6614\n",
            "Epoch 256/300\n",
            "34/34 [==============================] - 0s 1ms/step - loss: 3495.7363 - mae: 3495.7363\n",
            "Epoch 257/300\n",
            "34/34 [==============================] - 0s 1ms/step - loss: 3500.7271 - mae: 3500.7271\n",
            "Epoch 258/300\n",
            "34/34 [==============================] - 0s 2ms/step - loss: 3510.8789 - mae: 3510.8789\n",
            "Epoch 259/300\n",
            "34/34 [==============================] - 0s 2ms/step - loss: 3516.5342 - mae: 3516.5342\n",
            "Epoch 260/300\n",
            "34/34 [==============================] - 0s 1ms/step - loss: 3501.3936 - mae: 3501.3936\n",
            "Epoch 261/300\n",
            "34/34 [==============================] - 0s 1ms/step - loss: 3499.2507 - mae: 3499.2507\n",
            "Epoch 262/300\n",
            "34/34 [==============================] - 0s 1ms/step - loss: 3533.0732 - mae: 3533.0732\n",
            "Epoch 263/300\n",
            "34/34 [==============================] - 0s 1ms/step - loss: 3507.9597 - mae: 3507.9597\n",
            "Epoch 264/300\n",
            "34/34 [==============================] - 0s 2ms/step - loss: 3555.0474 - mae: 3555.0474\n",
            "Epoch 265/300\n",
            "34/34 [==============================] - 0s 1ms/step - loss: 3530.6033 - mae: 3530.6033\n",
            "Epoch 266/300\n",
            "34/34 [==============================] - 0s 2ms/step - loss: 3521.6418 - mae: 3521.6418\n",
            "Epoch 267/300\n",
            "34/34 [==============================] - 0s 2ms/step - loss: 3584.7773 - mae: 3584.7773\n",
            "Epoch 268/300\n",
            "34/34 [==============================] - 0s 1ms/step - loss: 3495.8989 - mae: 3495.8989\n",
            "Epoch 269/300\n",
            "34/34 [==============================] - 0s 2ms/step - loss: 3500.0198 - mae: 3500.0198\n",
            "Epoch 270/300\n",
            "34/34 [==============================] - 0s 2ms/step - loss: 3540.0923 - mae: 3540.0923\n",
            "Epoch 271/300\n",
            "34/34 [==============================] - 0s 1ms/step - loss: 3505.2881 - mae: 3505.2881\n",
            "Epoch 272/300\n",
            "34/34 [==============================] - 0s 1ms/step - loss: 3488.2317 - mae: 3488.2317\n",
            "Epoch 273/300\n",
            "34/34 [==============================] - 0s 2ms/step - loss: 3515.0095 - mae: 3515.0095\n",
            "Epoch 274/300\n",
            "34/34 [==============================] - 0s 2ms/step - loss: 3537.1199 - mae: 3537.1199\n",
            "Epoch 275/300\n",
            "34/34 [==============================] - 0s 1ms/step - loss: 3495.3635 - mae: 3495.3635\n",
            "Epoch 276/300\n",
            "34/34 [==============================] - 0s 1ms/step - loss: 3489.4697 - mae: 3489.4697\n",
            "Epoch 277/300\n",
            "34/34 [==============================] - 0s 1ms/step - loss: 3502.7725 - mae: 3502.7725\n",
            "Epoch 278/300\n",
            "34/34 [==============================] - 0s 1ms/step - loss: 3500.5381 - mae: 3500.5381\n",
            "Epoch 279/300\n",
            "34/34 [==============================] - 0s 1ms/step - loss: 3528.5120 - mae: 3528.5120\n",
            "Epoch 280/300\n",
            "34/34 [==============================] - 0s 2ms/step - loss: 3512.4175 - mae: 3512.4175\n",
            "Epoch 281/300\n",
            "34/34 [==============================] - 0s 2ms/step - loss: 3511.8867 - mae: 3511.8867\n",
            "Epoch 282/300\n",
            "34/34 [==============================] - 0s 2ms/step - loss: 3522.1318 - mae: 3522.1318\n",
            "Epoch 283/300\n",
            "34/34 [==============================] - 0s 1ms/step - loss: 3493.3469 - mae: 3493.3469\n",
            "Epoch 284/300\n",
            "34/34 [==============================] - 0s 1ms/step - loss: 3535.7649 - mae: 3535.7649\n",
            "Epoch 285/300\n",
            "34/34 [==============================] - 0s 1ms/step - loss: 3532.3418 - mae: 3532.3418\n",
            "Epoch 286/300\n",
            "34/34 [==============================] - 0s 1ms/step - loss: 3506.8311 - mae: 3506.8311\n",
            "Epoch 287/300\n",
            "34/34 [==============================] - 0s 2ms/step - loss: 3520.5762 - mae: 3520.5762\n",
            "Epoch 288/300\n",
            "34/34 [==============================] - 0s 1ms/step - loss: 3505.0300 - mae: 3505.0300\n",
            "Epoch 289/300\n",
            "34/34 [==============================] - 0s 1ms/step - loss: 3486.8132 - mae: 3486.8132\n",
            "Epoch 290/300\n",
            "34/34 [==============================] - 0s 2ms/step - loss: 3529.6719 - mae: 3529.6719\n",
            "Epoch 291/300\n",
            "34/34 [==============================] - 0s 2ms/step - loss: 3502.9019 - mae: 3502.9019\n",
            "Epoch 292/300\n",
            "34/34 [==============================] - 0s 1ms/step - loss: 3586.1428 - mae: 3586.1428\n",
            "Epoch 293/300\n",
            "34/34 [==============================] - 0s 1ms/step - loss: 3500.9033 - mae: 3500.9033\n",
            "Epoch 294/300\n",
            "34/34 [==============================] - 0s 1ms/step - loss: 3502.4866 - mae: 3502.4866\n",
            "Epoch 295/300\n",
            "34/34 [==============================] - 0s 1ms/step - loss: 3561.0056 - mae: 3561.0056\n",
            "Epoch 296/300\n",
            "34/34 [==============================] - 0s 1ms/step - loss: 3556.8054 - mae: 3556.8054\n",
            "Epoch 297/300\n",
            "34/34 [==============================] - 0s 1ms/step - loss: 3493.2908 - mae: 3493.2908\n",
            "Epoch 298/300\n",
            "34/34 [==============================] - 0s 2ms/step - loss: 3485.4214 - mae: 3485.4214\n",
            "Epoch 299/300\n",
            "34/34 [==============================] - 0s 1ms/step - loss: 3509.9988 - mae: 3509.9988\n",
            "Epoch 300/300\n",
            "34/34 [==============================] - 0s 1ms/step - loss: 3498.6648 - mae: 3498.6648\n"
          ]
        }
      ]
    },
    {
      "cell_type": "code",
      "source": [
        "# Evaluate data_model_4\n",
        "data_model_4.evaluate(x_test, y_test)"
      ],
      "metadata": {
        "colab": {
          "base_uri": "https://localhost:8080/"
        },
        "id": "Y6RG6HHwKfYS",
        "outputId": "bdfb6f6f-9b93-4785-bff3-4ade2039f955"
      },
      "execution_count": 22,
      "outputs": [
        {
          "output_type": "stream",
          "name": "stdout",
          "text": [
            "9/9 [==============================] - 0s 2ms/step - loss: 3244.0710 - mae: 3244.0710\n"
          ]
        },
        {
          "output_type": "execute_result",
          "data": {
            "text/plain": [
              "[3244.071044921875, 3244.071044921875]"
            ]
          },
          "metadata": {},
          "execution_count": 22
        }
      ]
    },
    {
      "cell_type": "markdown",
      "source": [
        "After running the above experiments, we can conclude that data_model_1 (the model with four layer and default learning rate trainined for 100 epochs) performs better than the other models."
      ],
      "metadata": {
        "id": "gjZdR3lqLhPH"
      }
    },
    {
      "cell_type": "markdown",
      "source": [
        "### Import the Boston pricing dataset from TensorFlow tf.keras.datasets and model it."
      ],
      "metadata": {
        "id": "soiv5sywMpum"
      }
    },
    {
      "cell_type": "code",
      "source": [
        "(x_train, y_train), (x_test, y_test) = tf.keras.datasets.boston_housing.load_data(path=\"boston_housing.npz\",\n",
        "                                                                                  test_split=0.2,\n",
        "                                                                                  seed=42)"
      ],
      "metadata": {
        "colab": {
          "base_uri": "https://localhost:8080/"
        },
        "id": "QRMOZ55wP499",
        "outputId": "6726f399-ab9e-4a25-a48f-b55f68a58e38"
      },
      "execution_count": 23,
      "outputs": [
        {
          "output_type": "stream",
          "name": "stdout",
          "text": [
            "Downloading data from https://storage.googleapis.com/tensorflow/tf-keras-datasets/boston_housing.npz\n",
            "57344/57026 [==============================] - 0s 0us/step\n",
            "65536/57026 [==================================] - 0s 0us/step\n"
          ]
        }
      ]
    },
    {
      "cell_type": "code",
      "source": [
        "# Check the shape of the data\n",
        "x_train.shape, x_test.shape, y_train.shape, y_test.shape"
      ],
      "metadata": {
        "colab": {
          "base_uri": "https://localhost:8080/"
        },
        "id": "OOGxdG1iLJ8o",
        "outputId": "30f1f69b-bf0a-4e62-a373-daa9da40cfea"
      },
      "execution_count": 24,
      "outputs": [
        {
          "output_type": "execute_result",
          "data": {
            "text/plain": [
              "((404, 13), (102, 13), (404,), (102,))"
            ]
          },
          "metadata": {},
          "execution_count": 24
        }
      ]
    },
    {
      "cell_type": "markdown",
      "source": [
        "The dataset is already preprocessed (normalized and in tensor format), we don't need to do any preprocessing."
      ],
      "metadata": {
        "id": "LhJZWddSRVGy"
      }
    },
    {
      "cell_type": "code",
      "source": [
        "# Let's build a model \n",
        "\n",
        "tf.random.set_seed(42)\n",
        "\n",
        "# Create a model \n",
        "model = tf.keras.Sequential([\n",
        "  tf.keras.layers.Dense(200), \n",
        "  tf.keras.layers.Dense(100), \n",
        "  tf.keras.layers.Dense(50),\n",
        "  tf.keras.layers.Dense(10),\n",
        "  tf.keras.layers.Dense(1)\n",
        "])\n",
        "\n",
        "\n",
        "# Compile the model \n",
        "model.compile(loss = tf.keras.losses.mae , \n",
        "              optimizer = tf.keras.optimizers.Adam() , \n",
        "              metrics = ['mae'])\n",
        "\n",
        "# Fit the model \n",
        "history_botson = model.fit(x_train , y_train , epochs=200 )"
      ],
      "metadata": {
        "colab": {
          "base_uri": "https://localhost:8080/"
        },
        "id": "pP37g09HRMsY",
        "outputId": "9a9d2e9d-9dad-4333-f626-d7e890f7091d"
      },
      "execution_count": 26,
      "outputs": [
        {
          "output_type": "stream",
          "name": "stdout",
          "text": [
            "Epoch 1/200\n",
            "13/13 [==============================] - 0s 2ms/step - loss: 67.5498 - mae: 67.5498\n",
            "Epoch 2/200\n",
            "13/13 [==============================] - 0s 2ms/step - loss: 24.3902 - mae: 24.3902\n",
            "Epoch 3/200\n",
            "13/13 [==============================] - 0s 2ms/step - loss: 11.0051 - mae: 11.0051\n",
            "Epoch 4/200\n",
            "13/13 [==============================] - 0s 2ms/step - loss: 8.7134 - mae: 8.7134\n",
            "Epoch 5/200\n",
            "13/13 [==============================] - 0s 2ms/step - loss: 8.0325 - mae: 8.0325\n",
            "Epoch 6/200\n",
            "13/13 [==============================] - 0s 2ms/step - loss: 8.3708 - mae: 8.3708\n",
            "Epoch 7/200\n",
            "13/13 [==============================] - 0s 2ms/step - loss: 7.5760 - mae: 7.5760\n",
            "Epoch 8/200\n",
            "13/13 [==============================] - 0s 2ms/step - loss: 6.3508 - mae: 6.3508\n",
            "Epoch 9/200\n",
            "13/13 [==============================] - 0s 2ms/step - loss: 6.3399 - mae: 6.3399\n",
            "Epoch 10/200\n",
            "13/13 [==============================] - 0s 2ms/step - loss: 8.7520 - mae: 8.7520\n",
            "Epoch 11/200\n",
            "13/13 [==============================] - 0s 2ms/step - loss: 7.6483 - mae: 7.6483\n",
            "Epoch 12/200\n",
            "13/13 [==============================] - 0s 2ms/step - loss: 6.2913 - mae: 6.2913\n",
            "Epoch 13/200\n",
            "13/13 [==============================] - 0s 2ms/step - loss: 6.1448 - mae: 6.1448\n",
            "Epoch 14/200\n",
            "13/13 [==============================] - 0s 2ms/step - loss: 7.6516 - mae: 7.6516\n",
            "Epoch 15/200\n",
            "13/13 [==============================] - 0s 2ms/step - loss: 7.5575 - mae: 7.5575\n",
            "Epoch 16/200\n",
            "13/13 [==============================] - 0s 2ms/step - loss: 7.3970 - mae: 7.3970\n",
            "Epoch 17/200\n",
            "13/13 [==============================] - 0s 2ms/step - loss: 7.1247 - mae: 7.1247\n",
            "Epoch 18/200\n",
            "13/13 [==============================] - 0s 2ms/step - loss: 8.8481 - mae: 8.8481\n",
            "Epoch 19/200\n",
            "13/13 [==============================] - 0s 2ms/step - loss: 7.8837 - mae: 7.8837\n",
            "Epoch 20/200\n",
            "13/13 [==============================] - 0s 2ms/step - loss: 6.5177 - mae: 6.5177\n",
            "Epoch 21/200\n",
            "13/13 [==============================] - 0s 2ms/step - loss: 6.8308 - mae: 6.8308\n",
            "Epoch 22/200\n",
            "13/13 [==============================] - 0s 2ms/step - loss: 6.1371 - mae: 6.1371\n",
            "Epoch 23/200\n",
            "13/13 [==============================] - 0s 2ms/step - loss: 6.4393 - mae: 6.4393\n",
            "Epoch 24/200\n",
            "13/13 [==============================] - 0s 2ms/step - loss: 8.6472 - mae: 8.6472\n",
            "Epoch 25/200\n",
            "13/13 [==============================] - 0s 2ms/step - loss: 5.6054 - mae: 5.6054\n",
            "Epoch 26/200\n",
            "13/13 [==============================] - 0s 2ms/step - loss: 5.7349 - mae: 5.7349\n",
            "Epoch 27/200\n",
            "13/13 [==============================] - 0s 2ms/step - loss: 7.9821 - mae: 7.9821\n",
            "Epoch 28/200\n",
            "13/13 [==============================] - 0s 2ms/step - loss: 7.2167 - mae: 7.2167\n",
            "Epoch 29/200\n",
            "13/13 [==============================] - 0s 2ms/step - loss: 6.5669 - mae: 6.5669\n",
            "Epoch 30/200\n",
            "13/13 [==============================] - 0s 2ms/step - loss: 7.1953 - mae: 7.1953\n",
            "Epoch 31/200\n",
            "13/13 [==============================] - 0s 2ms/step - loss: 7.0748 - mae: 7.0748\n",
            "Epoch 32/200\n",
            "13/13 [==============================] - 0s 2ms/step - loss: 5.7599 - mae: 5.7599\n",
            "Epoch 33/200\n",
            "13/13 [==============================] - 0s 2ms/step - loss: 5.6383 - mae: 5.6383\n",
            "Epoch 34/200\n",
            "13/13 [==============================] - 0s 2ms/step - loss: 6.3526 - mae: 6.3526\n",
            "Epoch 35/200\n",
            "13/13 [==============================] - 0s 2ms/step - loss: 7.1146 - mae: 7.1146\n",
            "Epoch 36/200\n",
            "13/13 [==============================] - 0s 2ms/step - loss: 5.8619 - mae: 5.8619\n",
            "Epoch 37/200\n",
            "13/13 [==============================] - 0s 2ms/step - loss: 5.3909 - mae: 5.3909\n",
            "Epoch 38/200\n",
            "13/13 [==============================] - 0s 2ms/step - loss: 5.2825 - mae: 5.2825\n",
            "Epoch 39/200\n",
            "13/13 [==============================] - 0s 2ms/step - loss: 5.7525 - mae: 5.7525\n",
            "Epoch 40/200\n",
            "13/13 [==============================] - 0s 2ms/step - loss: 6.5542 - mae: 6.5542\n",
            "Epoch 41/200\n",
            "13/13 [==============================] - 0s 2ms/step - loss: 6.6984 - mae: 6.6984\n",
            "Epoch 42/200\n",
            "13/13 [==============================] - 0s 2ms/step - loss: 6.8538 - mae: 6.8538\n",
            "Epoch 43/200\n",
            "13/13 [==============================] - 0s 2ms/step - loss: 5.6355 - mae: 5.6355\n",
            "Epoch 44/200\n",
            "13/13 [==============================] - 0s 2ms/step - loss: 6.0729 - mae: 6.0729\n",
            "Epoch 45/200\n",
            "13/13 [==============================] - 0s 2ms/step - loss: 5.5174 - mae: 5.5174\n",
            "Epoch 46/200\n",
            "13/13 [==============================] - 0s 2ms/step - loss: 5.8652 - mae: 5.8652\n",
            "Epoch 47/200\n",
            "13/13 [==============================] - 0s 2ms/step - loss: 6.3904 - mae: 6.3904\n",
            "Epoch 48/200\n",
            "13/13 [==============================] - 0s 2ms/step - loss: 5.9401 - mae: 5.9401\n",
            "Epoch 49/200\n",
            "13/13 [==============================] - 0s 2ms/step - loss: 5.0780 - mae: 5.0780\n",
            "Epoch 50/200\n",
            "13/13 [==============================] - 0s 2ms/step - loss: 5.2146 - mae: 5.2146\n",
            "Epoch 51/200\n",
            "13/13 [==============================] - 0s 2ms/step - loss: 4.9917 - mae: 4.9917\n",
            "Epoch 52/200\n",
            "13/13 [==============================] - 0s 2ms/step - loss: 6.2832 - mae: 6.2832\n",
            "Epoch 53/200\n",
            "13/13 [==============================] - 0s 2ms/step - loss: 5.2889 - mae: 5.2889\n",
            "Epoch 54/200\n",
            "13/13 [==============================] - 0s 2ms/step - loss: 4.9741 - mae: 4.9741\n",
            "Epoch 55/200\n",
            "13/13 [==============================] - 0s 2ms/step - loss: 4.9435 - mae: 4.9435\n",
            "Epoch 56/200\n",
            "13/13 [==============================] - 0s 2ms/step - loss: 5.3471 - mae: 5.3471\n",
            "Epoch 57/200\n",
            "13/13 [==============================] - 0s 2ms/step - loss: 5.8944 - mae: 5.8944\n",
            "Epoch 58/200\n",
            "13/13 [==============================] - 0s 2ms/step - loss: 5.1204 - mae: 5.1204\n",
            "Epoch 59/200\n",
            "13/13 [==============================] - 0s 2ms/step - loss: 5.5714 - mae: 5.5714\n",
            "Epoch 60/200\n",
            "13/13 [==============================] - 0s 2ms/step - loss: 5.5288 - mae: 5.5288\n",
            "Epoch 61/200\n",
            "13/13 [==============================] - 0s 2ms/step - loss: 5.7672 - mae: 5.7672\n",
            "Epoch 62/200\n",
            "13/13 [==============================] - 0s 2ms/step - loss: 5.1232 - mae: 5.1232\n",
            "Epoch 63/200\n",
            "13/13 [==============================] - 0s 2ms/step - loss: 5.4800 - mae: 5.4800\n",
            "Epoch 64/200\n",
            "13/13 [==============================] - 0s 2ms/step - loss: 5.4231 - mae: 5.4231\n",
            "Epoch 65/200\n",
            "13/13 [==============================] - 0s 2ms/step - loss: 5.0427 - mae: 5.0427\n",
            "Epoch 66/200\n",
            "13/13 [==============================] - 0s 2ms/step - loss: 5.6979 - mae: 5.6979\n",
            "Epoch 67/200\n",
            "13/13 [==============================] - 0s 2ms/step - loss: 5.1658 - mae: 5.1658\n",
            "Epoch 68/200\n",
            "13/13 [==============================] - 0s 2ms/step - loss: 4.8015 - mae: 4.8015\n",
            "Epoch 69/200\n",
            "13/13 [==============================] - 0s 2ms/step - loss: 4.8745 - mae: 4.8745\n",
            "Epoch 70/200\n",
            "13/13 [==============================] - 0s 2ms/step - loss: 4.9061 - mae: 4.9061\n",
            "Epoch 71/200\n",
            "13/13 [==============================] - 0s 2ms/step - loss: 5.0901 - mae: 5.0901\n",
            "Epoch 72/200\n",
            "13/13 [==============================] - 0s 2ms/step - loss: 5.0844 - mae: 5.0844\n",
            "Epoch 73/200\n",
            "13/13 [==============================] - 0s 2ms/step - loss: 5.4635 - mae: 5.4635\n",
            "Epoch 74/200\n",
            "13/13 [==============================] - 0s 2ms/step - loss: 4.9414 - mae: 4.9414\n",
            "Epoch 75/200\n",
            "13/13 [==============================] - 0s 2ms/step - loss: 5.1277 - mae: 5.1277\n",
            "Epoch 76/200\n",
            "13/13 [==============================] - 0s 2ms/step - loss: 4.9678 - mae: 4.9678\n",
            "Epoch 77/200\n",
            "13/13 [==============================] - 0s 2ms/step - loss: 6.1274 - mae: 6.1274\n",
            "Epoch 78/200\n",
            "13/13 [==============================] - 0s 2ms/step - loss: 5.6395 - mae: 5.6395\n",
            "Epoch 79/200\n",
            "13/13 [==============================] - 0s 2ms/step - loss: 4.8589 - mae: 4.8589\n",
            "Epoch 80/200\n",
            "13/13 [==============================] - 0s 2ms/step - loss: 4.9584 - mae: 4.9584\n",
            "Epoch 81/200\n",
            "13/13 [==============================] - 0s 2ms/step - loss: 5.3844 - mae: 5.3844\n",
            "Epoch 82/200\n",
            "13/13 [==============================] - 0s 2ms/step - loss: 5.3179 - mae: 5.3179\n",
            "Epoch 83/200\n",
            "13/13 [==============================] - 0s 2ms/step - loss: 5.4228 - mae: 5.4228\n",
            "Epoch 84/200\n",
            "13/13 [==============================] - 0s 2ms/step - loss: 5.4817 - mae: 5.4817\n",
            "Epoch 85/200\n",
            "13/13 [==============================] - 0s 2ms/step - loss: 5.2762 - mae: 5.2762\n",
            "Epoch 86/200\n",
            "13/13 [==============================] - 0s 2ms/step - loss: 4.6596 - mae: 4.6596\n",
            "Epoch 87/200\n",
            "13/13 [==============================] - 0s 2ms/step - loss: 4.7739 - mae: 4.7739\n",
            "Epoch 88/200\n",
            "13/13 [==============================] - 0s 2ms/step - loss: 4.6330 - mae: 4.6330\n",
            "Epoch 89/200\n",
            "13/13 [==============================] - 0s 2ms/step - loss: 4.8166 - mae: 4.8166\n",
            "Epoch 90/200\n",
            "13/13 [==============================] - 0s 2ms/step - loss: 4.6830 - mae: 4.6830\n",
            "Epoch 91/200\n",
            "13/13 [==============================] - 0s 2ms/step - loss: 5.2214 - mae: 5.2214\n",
            "Epoch 92/200\n",
            "13/13 [==============================] - 0s 2ms/step - loss: 4.7025 - mae: 4.7025\n",
            "Epoch 93/200\n",
            "13/13 [==============================] - 0s 2ms/step - loss: 4.6600 - mae: 4.6600\n",
            "Epoch 94/200\n",
            "13/13 [==============================] - 0s 2ms/step - loss: 4.5222 - mae: 4.5222\n",
            "Epoch 95/200\n",
            "13/13 [==============================] - 0s 2ms/step - loss: 4.9116 - mae: 4.9116\n",
            "Epoch 96/200\n",
            "13/13 [==============================] - 0s 2ms/step - loss: 4.7218 - mae: 4.7218\n",
            "Epoch 97/200\n",
            "13/13 [==============================] - 0s 3ms/step - loss: 5.9977 - mae: 5.9977\n",
            "Epoch 98/200\n",
            "13/13 [==============================] - 0s 2ms/step - loss: 4.6538 - mae: 4.6538\n",
            "Epoch 99/200\n",
            "13/13 [==============================] - 0s 2ms/step - loss: 4.5153 - mae: 4.5153\n",
            "Epoch 100/200\n",
            "13/13 [==============================] - 0s 2ms/step - loss: 4.8460 - mae: 4.8460\n",
            "Epoch 101/200\n",
            "13/13 [==============================] - 0s 2ms/step - loss: 4.6795 - mae: 4.6795\n",
            "Epoch 102/200\n",
            "13/13 [==============================] - 0s 2ms/step - loss: 4.7551 - mae: 4.7551\n",
            "Epoch 103/200\n",
            "13/13 [==============================] - 0s 2ms/step - loss: 4.5420 - mae: 4.5420\n",
            "Epoch 104/200\n",
            "13/13 [==============================] - 0s 2ms/step - loss: 4.7906 - mae: 4.7906\n",
            "Epoch 105/200\n",
            "13/13 [==============================] - 0s 2ms/step - loss: 4.4617 - mae: 4.4617\n",
            "Epoch 106/200\n",
            "13/13 [==============================] - 0s 2ms/step - loss: 4.8669 - mae: 4.8669\n",
            "Epoch 107/200\n",
            "13/13 [==============================] - 0s 2ms/step - loss: 4.6702 - mae: 4.6702\n",
            "Epoch 108/200\n",
            "13/13 [==============================] - 0s 2ms/step - loss: 4.5058 - mae: 4.5058\n",
            "Epoch 109/200\n",
            "13/13 [==============================] - 0s 2ms/step - loss: 4.3652 - mae: 4.3652\n",
            "Epoch 110/200\n",
            "13/13 [==============================] - 0s 2ms/step - loss: 4.5352 - mae: 4.5352\n",
            "Epoch 111/200\n",
            "13/13 [==============================] - 0s 2ms/step - loss: 4.6604 - mae: 4.6604\n",
            "Epoch 112/200\n",
            "13/13 [==============================] - 0s 2ms/step - loss: 4.8270 - mae: 4.8270\n",
            "Epoch 113/200\n",
            "13/13 [==============================] - 0s 2ms/step - loss: 5.5530 - mae: 5.5530\n",
            "Epoch 114/200\n",
            "13/13 [==============================] - 0s 2ms/step - loss: 5.4693 - mae: 5.4693\n",
            "Epoch 115/200\n",
            "13/13 [==============================] - 0s 2ms/step - loss: 4.4362 - mae: 4.4362\n",
            "Epoch 116/200\n",
            "13/13 [==============================] - 0s 2ms/step - loss: 4.9555 - mae: 4.9555\n",
            "Epoch 117/200\n",
            "13/13 [==============================] - 0s 2ms/step - loss: 4.4603 - mae: 4.4603\n",
            "Epoch 118/200\n",
            "13/13 [==============================] - 0s 2ms/step - loss: 4.5520 - mae: 4.5520\n",
            "Epoch 119/200\n",
            "13/13 [==============================] - 0s 2ms/step - loss: 4.5706 - mae: 4.5706\n",
            "Epoch 120/200\n",
            "13/13 [==============================] - 0s 2ms/step - loss: 4.4973 - mae: 4.4973\n",
            "Epoch 121/200\n",
            "13/13 [==============================] - 0s 2ms/step - loss: 4.8224 - mae: 4.8224\n",
            "Epoch 122/200\n",
            "13/13 [==============================] - 0s 2ms/step - loss: 4.7689 - mae: 4.7689\n",
            "Epoch 123/200\n",
            "13/13 [==============================] - 0s 2ms/step - loss: 5.1090 - mae: 5.1090\n",
            "Epoch 124/200\n",
            "13/13 [==============================] - 0s 2ms/step - loss: 4.5824 - mae: 4.5824\n",
            "Epoch 125/200\n",
            "13/13 [==============================] - 0s 2ms/step - loss: 4.5201 - mae: 4.5201\n",
            "Epoch 126/200\n",
            "13/13 [==============================] - 0s 2ms/step - loss: 4.6188 - mae: 4.6188\n",
            "Epoch 127/200\n",
            "13/13 [==============================] - 0s 2ms/step - loss: 4.5060 - mae: 4.5060\n",
            "Epoch 128/200\n",
            "13/13 [==============================] - 0s 2ms/step - loss: 4.7427 - mae: 4.7427\n",
            "Epoch 129/200\n",
            "13/13 [==============================] - 0s 2ms/step - loss: 4.4551 - mae: 4.4551\n",
            "Epoch 130/200\n",
            "13/13 [==============================] - 0s 2ms/step - loss: 5.1263 - mae: 5.1263\n",
            "Epoch 131/200\n",
            "13/13 [==============================] - 0s 2ms/step - loss: 5.4647 - mae: 5.4647\n",
            "Epoch 132/200\n",
            "13/13 [==============================] - 0s 2ms/step - loss: 4.5470 - mae: 4.5470\n",
            "Epoch 133/200\n",
            "13/13 [==============================] - 0s 2ms/step - loss: 4.6089 - mae: 4.6089\n",
            "Epoch 134/200\n",
            "13/13 [==============================] - 0s 2ms/step - loss: 4.6882 - mae: 4.6882\n",
            "Epoch 135/200\n",
            "13/13 [==============================] - 0s 2ms/step - loss: 4.5457 - mae: 4.5457\n",
            "Epoch 136/200\n",
            "13/13 [==============================] - 0s 2ms/step - loss: 4.7867 - mae: 4.7867\n",
            "Epoch 137/200\n",
            "13/13 [==============================] - 0s 2ms/step - loss: 4.8838 - mae: 4.8838\n",
            "Epoch 138/200\n",
            "13/13 [==============================] - 0s 2ms/step - loss: 4.6703 - mae: 4.6703\n",
            "Epoch 139/200\n",
            "13/13 [==============================] - 0s 2ms/step - loss: 4.3459 - mae: 4.3459\n",
            "Epoch 140/200\n",
            "13/13 [==============================] - 0s 2ms/step - loss: 4.2481 - mae: 4.2481\n",
            "Epoch 141/200\n",
            "13/13 [==============================] - 0s 2ms/step - loss: 4.6436 - mae: 4.6436\n",
            "Epoch 142/200\n",
            "13/13 [==============================] - 0s 2ms/step - loss: 4.5565 - mae: 4.5565\n",
            "Epoch 143/200\n",
            "13/13 [==============================] - 0s 2ms/step - loss: 4.6281 - mae: 4.6281\n",
            "Epoch 144/200\n",
            "13/13 [==============================] - 0s 2ms/step - loss: 5.4146 - mae: 5.4146\n",
            "Epoch 145/200\n",
            "13/13 [==============================] - 0s 2ms/step - loss: 4.6707 - mae: 4.6707\n",
            "Epoch 146/200\n",
            "13/13 [==============================] - 0s 2ms/step - loss: 4.4445 - mae: 4.4445\n",
            "Epoch 147/200\n",
            "13/13 [==============================] - 0s 2ms/step - loss: 4.4804 - mae: 4.4804\n",
            "Epoch 148/200\n",
            "13/13 [==============================] - 0s 2ms/step - loss: 5.1141 - mae: 5.1141\n",
            "Epoch 149/200\n",
            "13/13 [==============================] - 0s 2ms/step - loss: 4.7560 - mae: 4.7560\n",
            "Epoch 150/200\n",
            "13/13 [==============================] - 0s 2ms/step - loss: 4.6855 - mae: 4.6855\n",
            "Epoch 151/200\n",
            "13/13 [==============================] - 0s 2ms/step - loss: 4.4129 - mae: 4.4129\n",
            "Epoch 152/200\n",
            "13/13 [==============================] - 0s 2ms/step - loss: 4.5523 - mae: 4.5523\n",
            "Epoch 153/200\n",
            "13/13 [==============================] - 0s 2ms/step - loss: 4.5439 - mae: 4.5439\n",
            "Epoch 154/200\n",
            "13/13 [==============================] - 0s 2ms/step - loss: 4.2666 - mae: 4.2666\n",
            "Epoch 155/200\n",
            "13/13 [==============================] - 0s 2ms/step - loss: 4.8457 - mae: 4.8457\n",
            "Epoch 156/200\n",
            "13/13 [==============================] - 0s 2ms/step - loss: 4.4805 - mae: 4.4805\n",
            "Epoch 157/200\n",
            "13/13 [==============================] - 0s 2ms/step - loss: 4.6495 - mae: 4.6495\n",
            "Epoch 158/200\n",
            "13/13 [==============================] - 0s 2ms/step - loss: 4.8997 - mae: 4.8997\n",
            "Epoch 159/200\n",
            "13/13 [==============================] - 0s 2ms/step - loss: 4.3979 - mae: 4.3979\n",
            "Epoch 160/200\n",
            "13/13 [==============================] - 0s 2ms/step - loss: 4.6222 - mae: 4.6222\n",
            "Epoch 161/200\n",
            "13/13 [==============================] - 0s 2ms/step - loss: 4.7473 - mae: 4.7473\n",
            "Epoch 162/200\n",
            "13/13 [==============================] - 0s 2ms/step - loss: 4.9665 - mae: 4.9665\n",
            "Epoch 163/200\n",
            "13/13 [==============================] - 0s 2ms/step - loss: 4.7120 - mae: 4.7120\n",
            "Epoch 164/200\n",
            "13/13 [==============================] - 0s 2ms/step - loss: 4.4560 - mae: 4.4560\n",
            "Epoch 165/200\n",
            "13/13 [==============================] - 0s 2ms/step - loss: 4.5389 - mae: 4.5389\n",
            "Epoch 166/200\n",
            "13/13 [==============================] - 0s 2ms/step - loss: 4.4330 - mae: 4.4330\n",
            "Epoch 167/200\n",
            "13/13 [==============================] - 0s 2ms/step - loss: 4.1332 - mae: 4.1332\n",
            "Epoch 168/200\n",
            "13/13 [==============================] - 0s 2ms/step - loss: 4.5118 - mae: 4.5118\n",
            "Epoch 169/200\n",
            "13/13 [==============================] - 0s 2ms/step - loss: 4.1410 - mae: 4.1410\n",
            "Epoch 170/200\n",
            "13/13 [==============================] - 0s 2ms/step - loss: 4.5229 - mae: 4.5229\n",
            "Epoch 171/200\n",
            "13/13 [==============================] - 0s 2ms/step - loss: 4.2383 - mae: 4.2383\n",
            "Epoch 172/200\n",
            "13/13 [==============================] - 0s 2ms/step - loss: 4.3196 - mae: 4.3196\n",
            "Epoch 173/200\n",
            "13/13 [==============================] - 0s 2ms/step - loss: 4.5276 - mae: 4.5276\n",
            "Epoch 174/200\n",
            "13/13 [==============================] - 0s 2ms/step - loss: 4.7442 - mae: 4.7442\n",
            "Epoch 175/200\n",
            "13/13 [==============================] - 0s 2ms/step - loss: 5.1123 - mae: 5.1123\n",
            "Epoch 176/200\n",
            "13/13 [==============================] - 0s 2ms/step - loss: 5.0919 - mae: 5.0919\n",
            "Epoch 177/200\n",
            "13/13 [==============================] - 0s 2ms/step - loss: 4.5758 - mae: 4.5758\n",
            "Epoch 178/200\n",
            "13/13 [==============================] - 0s 2ms/step - loss: 4.1599 - mae: 4.1599\n",
            "Epoch 179/200\n",
            "13/13 [==============================] - 0s 2ms/step - loss: 4.2146 - mae: 4.2146\n",
            "Epoch 180/200\n",
            "13/13 [==============================] - 0s 2ms/step - loss: 4.1203 - mae: 4.1203\n",
            "Epoch 181/200\n",
            "13/13 [==============================] - 0s 2ms/step - loss: 4.1157 - mae: 4.1157\n",
            "Epoch 182/200\n",
            "13/13 [==============================] - 0s 2ms/step - loss: 4.4130 - mae: 4.4130\n",
            "Epoch 183/200\n",
            "13/13 [==============================] - 0s 2ms/step - loss: 4.6958 - mae: 4.6958\n",
            "Epoch 184/200\n",
            "13/13 [==============================] - 0s 2ms/step - loss: 4.5238 - mae: 4.5238\n",
            "Epoch 185/200\n",
            "13/13 [==============================] - 0s 2ms/step - loss: 4.2224 - mae: 4.2224\n",
            "Epoch 186/200\n",
            "13/13 [==============================] - 0s 2ms/step - loss: 4.2188 - mae: 4.2188\n",
            "Epoch 187/200\n",
            "13/13 [==============================] - 0s 2ms/step - loss: 4.5705 - mae: 4.5705\n",
            "Epoch 188/200\n",
            "13/13 [==============================] - 0s 2ms/step - loss: 4.3679 - mae: 4.3679\n",
            "Epoch 189/200\n",
            "13/13 [==============================] - 0s 2ms/step - loss: 4.1406 - mae: 4.1406\n",
            "Epoch 190/200\n",
            "13/13 [==============================] - 0s 2ms/step - loss: 4.8771 - mae: 4.8771\n",
            "Epoch 191/200\n",
            "13/13 [==============================] - 0s 2ms/step - loss: 4.4160 - mae: 4.4160\n",
            "Epoch 192/200\n",
            "13/13 [==============================] - 0s 2ms/step - loss: 4.1958 - mae: 4.1958\n",
            "Epoch 193/200\n",
            "13/13 [==============================] - 0s 2ms/step - loss: 4.3587 - mae: 4.3587\n",
            "Epoch 194/200\n",
            "13/13 [==============================] - 0s 2ms/step - loss: 4.5900 - mae: 4.5900\n",
            "Epoch 195/200\n",
            "13/13 [==============================] - 0s 2ms/step - loss: 4.2204 - mae: 4.2204\n",
            "Epoch 196/200\n",
            "13/13 [==============================] - 0s 2ms/step - loss: 4.4942 - mae: 4.4942\n",
            "Epoch 197/200\n",
            "13/13 [==============================] - 0s 2ms/step - loss: 4.2117 - mae: 4.2117\n",
            "Epoch 198/200\n",
            "13/13 [==============================] - 0s 2ms/step - loss: 4.2521 - mae: 4.2521\n",
            "Epoch 199/200\n",
            "13/13 [==============================] - 0s 2ms/step - loss: 4.1589 - mae: 4.1589\n",
            "Epoch 200/200\n",
            "13/13 [==============================] - 0s 2ms/step - loss: 4.3323 - mae: 4.3323\n"
          ]
        }
      ]
    },
    {
      "cell_type": "code",
      "source": [
        "# Evaluate the model on the test data\n",
        "model.evaluate(x_test, y_test)"
      ],
      "metadata": {
        "colab": {
          "base_uri": "https://localhost:8080/"
        },
        "id": "TterBUCQR5fv",
        "outputId": "50efc6c9-c865-4444-cfbd-e25440e4cb93"
      },
      "execution_count": 27,
      "outputs": [
        {
          "output_type": "stream",
          "name": "stdout",
          "text": [
            "4/4 [==============================] - 0s 2ms/step - loss: 3.8643 - mae: 3.8643\n"
          ]
        },
        {
          "output_type": "execute_result",
          "data": {
            "text/plain": [
              "[3.8643016815185547, 3.8643016815185547]"
            ]
          },
          "metadata": {},
          "execution_count": 27
        }
      ]
    },
    {
      "cell_type": "code",
      "source": [
        "# Plot the training loss\n",
        "pd.DataFrame(history_botson.history).plot()\n",
        "plt.ylabel(\"loss\")\n",
        "plt.xlabel(\"epochs\")"
      ],
      "metadata": {
        "colab": {
          "base_uri": "https://localhost:8080/",
          "height": 299
        },
        "id": "t8tTAT7FSWQ4",
        "outputId": "8328cb76-f5d7-48d9-86c1-5dc9b4b1b52c"
      },
      "execution_count": 28,
      "outputs": [
        {
          "output_type": "execute_result",
          "data": {
            "text/plain": [
              "Text(0.5, 0, 'epochs')"
            ]
          },
          "metadata": {},
          "execution_count": 28
        },
        {
          "output_type": "display_data",
          "data": {
            "text/plain": [
              "<Figure size 432x288 with 1 Axes>"
            ],
            "image/png": "[encoded data removed]"
          },
          "metadata": {
            "needs_background": "light"
          }
        }
      ]
    },
    {
      "cell_type": "code",
      "source": [],
      "metadata": {
        "id": "r8V8L-IkSrrA"
      },
      "execution_count": null,
      "outputs": []
    }
  ]
}